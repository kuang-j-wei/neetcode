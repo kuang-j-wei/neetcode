{
 "cells": [
  {
   "cell_type": "markdown",
   "metadata": {},
   "source": [
    "# Summary - max heap entire list\n",
    "* We turn the list of `nums` into a min heap\n",
    "* Then we simply pop out values until we only have $k$ values left in the min heap\n",
    "* Then the first element, we know is the k-th largest element, when counting from the back\n",
    "\n",
    "## Time Complexity\n",
    "* $O(n\\log{n})$\n",
    "  * $O(n)$ initially to heapify the entire list\n",
    "  * Then it's $\\Sigma_0^k(n_i-k)\\log{(n_i-k)}$ for all the operations so we are bound by the max of $O(n\\log{n})$\n",
    "## Space Complexity\n",
    "* $O(n)$ to keep the entire heap"
   ]
  },
  {
   "cell_type": "code",
   "execution_count": null,
   "metadata": {},
   "outputs": [],
   "source": [
    "from typing import List\n",
    "import heapq\n",
    "\n",
    "class Solution:\n",
    "    def findKthLargest(self, nums: List[int], k: int) -> int:\n",
    "        heapq.heapify(nums)\n",
    "\n",
    "        while len(nums) > k:\n",
    "            _ = heapq.heappop(nums)\n",
    "        return nums[0]"
   ]
  },
  {
   "cell_type": "markdown",
   "metadata": {},
   "source": [
    "# Summary - min heap of length k\n",
    "* We iterate through `nums`, and at every iteration push the `num` into a min heap\n",
    "* Then once the min heap exceeds $k$ elements, we can kick out the smallest element\n",
    "* Then by the time we are done looping through all `nums`, we know we have k largest elements in this array\n",
    "* Then the k-th largest will simply be the first/smallest element in this min heap\n",
    "\n",
    "## Time Complexity\n",
    "* $O(n\\log{k})$ because we have to push and pop to a heap of length $k$, and repeat this action for up to $n$ times\n",
    "\n",
    "## Space Complexity\n",
    "* $O(k)$ to keep the heap"
   ]
  },
  {
   "cell_type": "code",
   "execution_count": 1,
   "metadata": {},
   "outputs": [],
   "source": [
    "from typing import List\n",
    "import heapq\n",
    "\n",
    "class Solution:\n",
    "    def findKthLargest(self, nums: List[int], k: int) -> int:\n",
    "        min_heap = []\n",
    "\n",
    "        for num in nums:\n",
    "            heapq.heappush(min_heap, num)\n",
    "\n",
    "            if len(min_heap) > k:\n",
    "                _ = heapq.heappop(min_heap)\n",
    "        return min_heap[0]"
   ]
  },
  {
   "cell_type": "code",
   "execution_count": null,
   "metadata": {},
   "outputs": [],
   "source": []
  },
  {
   "cell_type": "code",
   "execution_count": null,
   "metadata": {},
   "outputs": [],
   "source": []
  },
  {
   "cell_type": "code",
   "execution_count": null,
   "metadata": {},
   "outputs": [],
   "source": []
  }
 ],
 "metadata": {
  "kernelspec": {
   "display_name": "ml_dev",
   "language": "python",
   "name": "python3"
  },
  "language_info": {
   "codemirror_mode": {
    "name": "ipython",
    "version": 3
   },
   "file_extension": ".py",
   "mimetype": "text/x-python",
   "name": "python",
   "nbconvert_exporter": "python",
   "pygments_lexer": "ipython3",
   "version": "3.10.13"
  }
 },
 "nbformat": 4,
 "nbformat_minor": 2
}
