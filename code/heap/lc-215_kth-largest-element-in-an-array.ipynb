{
 "cells": [
  {
   "cell_type": "markdown",
   "metadata": {},
   "source": [
    "# Summary - max heap entire list\n",
    "* We turn the list of `nums` into a min heap\n",
    "* Then we simply pop out values until we only have $k$ values left in the min heap\n",
    "* Then the first element, we know is the k-th largest element, when counting from the back\n",
    "\n",
    "## Time Complexity\n",
    "* $O(n\\log{n})$\n",
    "  * $O(n)$ initially to heapify the entire list\n",
    "  * Then it's $\\Sigma_0^k(n_i-k)\\log{(n_i-k)}$ for all the operations so we are bound by the max of $O(n\\log{n})$\n",
    "## Space Complexity\n",
    "* $O(n)$ to keep the entire heap"
   ]
  },
  {
   "cell_type": "code",
   "execution_count": null,
   "metadata": {},
   "outputs": [],
   "source": [
    "from typing import List\n",
    "import heapq\n",
    "\n",
    "class Solution:\n",
    "    def findKthLargest(self, nums: List[int], k: int) -> int:\n",
    "        heapq.heapify(nums)\n",
    "\n",
    "        while len(nums) > k:\n",
    "            _ = heapq.heappop(nums)\n",
    "        return nums[0]"
   ]
  },
  {
   "cell_type": "markdown",
   "metadata": {},
   "source": [
    "# Summary - min heap of length k\n",
    "* We iterate through `nums`, and at every iteration push the `num` into a min heap\n",
    "* Then once the min heap exceeds $k$ elements, we can kick out the smallest element\n",
    "* Then by the time we are done looping through all `nums`, we know we have k largest elements in this array\n",
    "* Then the k-th largest will simply be the first/smallest element in this min heap\n",
    "\n",
    "## Time Complexity\n",
    "* $O(n\\log{k})$ because we have to push and pop to a heap of length $k$, and repeat this action for up to $n$ times\n",
    "\n",
    "## Space Complexity\n",
    "* $O(k)$ to keep the heap"
   ]
  },
  {
   "cell_type": "code",
   "execution_count": 1,
   "metadata": {},
   "outputs": [],
   "source": [
    "from typing import List\n",
    "import heapq\n",
    "\n",
    "class Solution:\n",
    "    def findKthLargest(self, nums: List[int], k: int) -> int:\n",
    "        min_heap = []\n",
    "\n",
    "        for num in nums:\n",
    "            heapq.heappush(min_heap, num)\n",
    "\n",
    "            if len(min_heap) > k:\n",
    "                _ = heapq.heappop(min_heap)\n",
    "        return min_heap[0]"
   ]
  },
  {
   "cell_type": "markdown",
   "metadata": {},
   "source": [
    "# Summary - Quick Select / Partition Solution\n",
    "* We use a solution that is similar to quick sort\n",
    "* We will partition the array, so that we know everything to the left is smaller or equal to this pivot point, and everything to the right is larger\n",
    "* Then, if there are (k - 1) elements to the right, we know the pivot solution then must be the kth largest number\n",
    "* Because everything to the right is bigger than it, and everything to the left is smaller that it, so this must be the k-th largest number\n",
    "* We can achieve this partitioning, by starting out using the last element as the pivot value\n",
    "* We also start a `p` pointer counter\n",
    "* Then we increment from the start of the array up to right before this pivot value\n",
    "* Every time the current number is smaller than or equal to the pivot value (last element), we swap the current number with whatever the `p` pointer is currently on; and we increment the `p` pointer by 1\n",
    "* Then at last when the iteration reaches the end, we put the pivot value to where the `p` pointer is\n",
    "* This works because then we are guaranteed that everything to the left of this `p` indeed is smaller than the pivot value. The `p` pointer serves a job of logging where the pivot value should eventually be placed\n",
    "* We then repeat this process until the current pivot is equal to `n - k` (which is when the kth largest value falls exactly on the current pivot pointer); And we only run the quick sort loop on the portion of the array that's larger or smaller than the current pivot, depending on whether `n - k` falls to the right or to the left of the current pivot\n",
    "\n",
    "## Time Complexity\n",
    "* $O(n)$ on average, $O(n^2)$ worst case\n",
    "* On average by chance, the pivot point should fall into roughly halfway of this array\n",
    "* So the iterations we need to do go like $n + \\frac{n}{2} + \\frac{n}{4} + \\frac{n}{8} + ...$ which equals to $2n$\n",
    "* So the time complexity is $O(2n) = O(n)$ on average\n",
    "* But if we are unlucky, the pivot could end up always being the largest number until we find the target index value\n",
    "* In this case then, we would end up with $n + n + n + n + ... = n^2$\n",
    "\n",
    "## Space Complexity\n",
    "* O(1) because we simply modify `nums` in place"
   ]
  },
  {
   "cell_type": "code",
   "execution_count": 18,
   "metadata": {},
   "outputs": [],
   "source": [
    "from typing import List\n",
    "import heapq\n",
    "\n",
    "\n",
    "class Solution:\n",
    "    def findKthLargest(self, nums: List[int], k: int) -> int:\n",
    "        n = len(nums)\n",
    "        p = self.quick_select(nums, 0, n - 1)\n",
    "        target = n - k\n",
    "\n",
    "        while p != target:\n",
    "            if p > target:\n",
    "                p = self.quick_select(nums, 0, p - 1)\n",
    "            else:\n",
    "                p = self.quick_select(nums, p + 1, n - 1)\n",
    "        return nums[p]\n",
    "    \n",
    "    def quick_select(self, nums, left_limit, right_limit):\n",
    "        p = left_limit\n",
    "        pivot = nums[right_limit]\n",
    "\n",
    "        for i in range(left_limit, right_limit, 1):\n",
    "            print(f'Current i = {i}')\n",
    "            if nums[i] <= pivot:\n",
    "                nums[p], nums[i] = nums[i], nums[p]\n",
    "                p += 1\n",
    "            print(f'Current p = {p}')\n",
    "        \n",
    "        temp = nums[p]\n",
    "        nums[p] = pivot\n",
    "        nums[right_limit] = temp\n",
    "        print(f'Current nums = {nums}')\n",
    "        print(f'Returning p = {p}\\n')\n",
    "        return p\n"
   ]
  },
  {
   "cell_type": "code",
   "execution_count": 19,
   "metadata": {},
   "outputs": [
    {
     "name": "stdout",
     "output_type": "stream",
     "text": [
      "Current i = 0\n",
      "Current p = 1\n",
      "Current i = 1\n",
      "Current p = 2\n",
      "Current i = 2\n",
      "Current p = 3\n",
      "Current i = 3\n",
      "Current p = 4\n",
      "Current i = 4\n",
      "Current p = 4\n",
      "Current i = 5\n",
      "Current p = 5\n",
      "Current i = 6\n",
      "Current p = 6\n",
      "Current i = 7\n",
      "Current p = 7\n",
      "Current nums = [3, 3, 3, 3, 3, 3, 3, 3, 4]\n",
      "Returning p = 7\n",
      "\n",
      "Current nums = [3, 3, 3, 3, 3, 3, 3, 3, 4]\n",
      "Returning p = 8\n",
      "\n"
     ]
    },
    {
     "data": {
      "text/plain": [
       "4"
      ]
     },
     "execution_count": 19,
     "metadata": {},
     "output_type": "execute_result"
    }
   ],
   "source": [
    "nums=[3,3,3,3,4,3,3,3,3]\n",
    "k = 1\n",
    "\n",
    "s = Solution()\n",
    "s.findKthLargest(nums, k)"
   ]
  },
  {
   "cell_type": "code",
   "execution_count": null,
   "metadata": {},
   "outputs": [],
   "source": []
  },
  {
   "cell_type": "code",
   "execution_count": null,
   "metadata": {},
   "outputs": [],
   "source": []
  }
 ],
 "metadata": {
  "kernelspec": {
   "display_name": "ml_dev",
   "language": "python",
   "name": "python3"
  },
  "language_info": {
   "codemirror_mode": {
    "name": "ipython",
    "version": 3
   },
   "file_extension": ".py",
   "mimetype": "text/x-python",
   "name": "python",
   "nbconvert_exporter": "python",
   "pygments_lexer": "ipython3",
   "version": "3.10.13"
  }
 },
 "nbformat": 4,
 "nbformat_minor": 2
}
