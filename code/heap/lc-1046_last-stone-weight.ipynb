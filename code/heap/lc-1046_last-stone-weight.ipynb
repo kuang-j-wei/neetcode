{
 "cells": [
  {
   "cell_type": "markdown",
   "metadata": {},
   "source": [
    "# Summary\n",
    "* We can always get the largest item from the array by using a MaxHeap\n",
    "* We can get the second largest, by popping once to get the largest, then pop again to get the second largest\n",
    "* We then just compare the value and add the remaining new rock back into the heap by using push\n",
    "* We repeat this process until there's only 1 element left\n",
    "* This final element will either be 0 or non-zero, and we simply return it as the answer\n",
    "\n",
    "\n",
    "## Time Complexity\n",
    "* O(n) to heapify\n",
    "* Then it's $O(n \\log{n})$ for the rest of the operations, because we have to at most three $O(\\log{n})$ operations (two pops, one push) and repeat for n times, so the leading complexity is $O(n \\log{n})$\n",
    "## Space Complexity\n",
    "* O(n) to create the heap"
   ]
  },
  {
   "cell_type": "code",
   "execution_count": 54,
   "metadata": {},
   "outputs": [],
   "source": [
    "import heapq\n",
    "from typing import List\n",
    "\n",
    "class Solution:\n",
    "    def lastStoneWeight(self, stones: List[int]) -> int:\n",
    "        max_heap = [-stone for stone in stones]\n",
    "        heapq.heapify(max_heap)\n",
    "\n",
    "        while len(max_heap) > 1:\n",
    "            max_stone = -heapq.heappop(max_heap)\n",
    "            second_stone = -heapq.heappop(max_heap)\n",
    "\n",
    "            new_val = max_stone - second_stone\n",
    "            heapq.heappush(max_heap, -new_val)\n",
    "        \n",
    "        return -max_heap[0]"
   ]
  },
  {
   "cell_type": "code",
   "execution_count": 52,
   "metadata": {},
   "outputs": [],
   "source": [
    "import heapq\n",
    "from typing import List\n",
    "\n",
    "class SolutionDebug:\n",
    "    def lastStoneWeight(self, stones: List[int]) -> int:\n",
    "        max_heap = [-stone for stone in stones]\n",
    "        heapq.heapify(max_heap)\n",
    "\n",
    "        while len(max_heap) > 1:\n",
    "            left_child = -max_heap[1]\n",
    "            right_child = -max_heap[2]\n",
    "            curr = -max_heap[0]\n",
    "            \n",
    "            max_child = max(left_child, right_child)\n",
    "            print(f\"MaxHeap = {max_heap}; curr = {curr}; left = {left_child}; right = {right_child}; max_child = {max_child}\")\n",
    "\n",
    "            if curr == max_child and len(max_heap) == 2:\n",
    "                return 0\n",
    "            else:\n",
    "                new_val = curr - max_child\n",
    "                print(f'New rock is {new_val}')\n",
    "                heapq.heappop(max_heap)\n",
    "                heapq.heappop(max_heap)\n",
    "                if new_val != 0:\n",
    "                    heapq.heappush(max_heap, -new_val)\n",
    "                print(f\"max_heap is {max_heap}\")\n",
    "        return -max_heap[0]"
   ]
  },
  {
   "cell_type": "code",
   "execution_count": 53,
   "metadata": {},
   "outputs": [
    {
     "name": "stdout",
     "output_type": "stream",
     "text": [
      "MaxHeap = [-8, -7, -4, -1, -2, -1]; curr = 8; left = 7; right = 4; max_child = 7\n",
      "New rock is 1\n",
      "max_heap is [-4, -2, -1, -1, -1]\n",
      "MaxHeap = [-4, -2, -1, -1, -1]; curr = 4; left = 2; right = 1; max_child = 2\n",
      "New rock is 2\n",
      "max_heap is [-2, -1, -1, -1]\n",
      "MaxHeap = [-2, -1, -1, -1]; curr = 2; left = 1; right = 1; max_child = 1\n",
      "New rock is 1\n",
      "max_heap is [-1, -1, -1]\n",
      "MaxHeap = [-1, -1, -1]; curr = 1; left = 1; right = 1; max_child = 1\n",
      "New rock is 0\n",
      "max_heap is [-1]\n"
     ]
    },
    {
     "data": {
      "text/plain": [
       "1"
      ]
     },
     "execution_count": 53,
     "metadata": {},
     "output_type": "execute_result"
    }
   ],
   "source": [
    "stones = [2,7,4,1,8,1]\n",
    "s = Solution()\n",
    "s.lastStoneWeight(stones)"
   ]
  },
  {
   "cell_type": "code",
   "execution_count": null,
   "metadata": {},
   "outputs": [],
   "source": []
  },
  {
   "cell_type": "code",
   "execution_count": null,
   "metadata": {},
   "outputs": [],
   "source": []
  }
 ],
 "metadata": {
  "kernelspec": {
   "display_name": "ml_dev",
   "language": "python",
   "name": "python3"
  },
  "language_info": {
   "codemirror_mode": {
    "name": "ipython",
    "version": 3
   },
   "file_extension": ".py",
   "mimetype": "text/x-python",
   "name": "python",
   "nbconvert_exporter": "python",
   "pygments_lexer": "ipython3",
   "version": "3.10.13"
  }
 },
 "nbformat": 4,
 "nbformat_minor": 2
}
