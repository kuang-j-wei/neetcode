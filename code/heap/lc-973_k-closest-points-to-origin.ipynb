{
 "cells": [
  {
   "cell_type": "markdown",
   "metadata": {},
   "source": [
    "# Summary\n",
    "## Min Heap Two Pass Solution\n",
    "* Formulate a min heap of tuples sorted by the distance of each point to the origin, which is stored as the first element of the tuple, and the original index in the original list of `points` as the second element\n",
    "* Then we just have to pop `k` times to get the k closest points to origin to obtain the solution\n",
    "\n",
    "## Time Complexity\n",
    "* ~~O(nlogn) for first when forming the heap~~ $O(n)$ for the first heapify pass to form the heap\n",
    "* Then it's $O(k\\log{n})$ when we perform the popping to form the result\n",
    "* So the leading factor is $O(k\\log{n})$\n",
    "\n",
    "## Space Complexity\n",
    "* $O(n)$ to keep the min heap"
   ]
  },
  {
   "cell_type": "code",
   "execution_count": null,
   "metadata": {},
   "outputs": [],
   "source": [
    "import heapq\n",
    "from typing import List\n",
    "\n",
    "class Solution:\n",
    "    def kClosest(self, points: List[List[int]], k: int) -> List[List[int]]:\n",
    "        min_heap = [(self.distance(point), idx) for idx, point in enumerate(points)]\n",
    "        heapq.heapify(min_heap)\n",
    "\n",
    "        # for idx, point in enumerate(points):\n",
    "        #     heapq.heappush(min_heap, (self.distance(point), idx))\n",
    "        \n",
    "        results = []\n",
    "\n",
    "        for _ in range(k):\n",
    "            curr = heapq.heappop(min_heap)\n",
    "            dist, idx = curr\n",
    "            point = points[idx]\n",
    "            results.append(point)\n",
    "        \n",
    "        # need to map the index\n",
    "        return results\n",
    "\n",
    "    def distance(self, point: List[int]) -> int:\n",
    "        x, y = point\n",
    "        return (x**2 + y**2) ** 0.5"
   ]
  },
  {
   "cell_type": "markdown",
   "metadata": {},
   "source": [
    "# Summary\n",
    "## Max Heap One Pass Solution\n",
    "* Negative max means it's actually the largest\n",
    "* So we first form a negative min heap of length $k$, to get the $k$ largest numbers\n",
    "* Then we just iterate through the remaining array, and every time a new number is smaller than the largest number in this length-k heap, we know that we don't have the smallest k numbers\n",
    "* So we pop the current max, then push this new number into the length-k heap\n",
    "* Then by the time we reach the end of the array, we are guaranteed to be left with the $k$ smallest numbers\n",
    "\n",
    "## Time Complexity\n",
    "* O(k) for the initial heap construction\n",
    "* Then for the rest of the iteration as we are kicking out values, the complexity is $O(n\\log{k})$ because the heap is always kept at length $k$, and we need to do this operation for $(n-k)$ times\n",
    "* So the leading factor is $O(n\\log{k})$\n",
    "\n",
    "## Space Complexity\n",
    "* $O(k)$ to keep the max heap"
   ]
  },
  {
   "cell_type": "code",
   "execution_count": null,
   "metadata": {},
   "outputs": [],
   "source": [
    "import heapq\n",
    "from typing import List\n",
    "\n",
    "class Solution:\n",
    "    def kClosest(self, points: List[List[int]], k: int) -> List[List[int]]:\n",
    "        max_heap = [(-self.distance(point), idx) for idx, point in enumerate(points[:k])]\n",
    "        heapq.heapify(max_heap)\n",
    "\n",
    "        results = []\n",
    "\n",
    "        for idx in range(k, len(points)):\n",
    "            point = points[idx]\n",
    "            distance = self.distance(point)\n",
    "            curr_max_distance = -max_heap[0][0]\n",
    "            if distance < curr_max_distance:  # if it's smaller than the biggest thing in the current k candidate, then we need to replace with this\n",
    "                _ = heapq.heappop(max_heap)\n",
    "                heapq.heappush(max_heap, (-distance, idx))\n",
    "\n",
    "        results = []\n",
    "        for _, idx in max_heap:\n",
    "            results.append(points[idx])\n",
    "        return results\n",
    "\n",
    "    def distance(self, point: List[int]) -> int:\n",
    "        x, y = point\n",
    "        return (x**2 + y**2) ** 0.5"
   ]
  }
 ],
 "metadata": {
  "language_info": {
   "name": "python"
  }
 },
 "nbformat": 4,
 "nbformat_minor": 2
}
