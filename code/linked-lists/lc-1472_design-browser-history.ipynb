{
 "cells": [
  {
   "cell_type": "markdown",
   "metadata": {},
   "source": [
    "# Doubly Linked Lists Solution\n",
    "\n",
    "We will always be able to go back and forth, until we hit the `head` or `tail`, then we know we've exhausted all history\n",
    "\n",
    "\n",
    "Whenever we `visit`, we re-write history, and the new node becomes the `tail`, and the previous current pointer will now point to this new node, where this new node will point to Null to indicate that it is the absolute end\n",
    "\n",
    "## Time Complexity\n",
    "* Time: `O(n)` for `backward` and `forward` can at most take O(n) because we have to traverse through all history. But `visit` is an `O(1)` operation.\n",
    "* Memory: `O(n)` to store all histories"
   ]
  },
  {
   "cell_type": "code",
   "execution_count": null,
   "metadata": {},
   "outputs": [],
   "source": [
    "class Page:\n",
    "    def __init__(self, url):\n",
    "        self.url = url\n",
    "        self.prev = None\n",
    "        self.next = None\n",
    "\n",
    "\n",
    "class BrowserHistory:\n",
    "    def __init__(self, homepage: str):\n",
    "        node = Page(homepage)\n",
    "        self.head = node\n",
    "        self.tail = node\n",
    "        self.pointer = node\n",
    "\n",
    "    def visit(self, url: str) -> None:\n",
    "        \"\"\"\n",
    "        if visit \n",
    "        current pointer, then point to this new node\n",
    "        new_node.prev = curr\n",
    "        curr.next = new_node\n",
    "        new_node.next = None\n",
    "        \"\"\"\n",
    "        new_node = Page(url)\n",
    "        new_node.prev = self.pointer\n",
    "        self.pointer.next = new_node\n",
    "        self.tail = new_node\n",
    "        self.pointer = new_node\n",
    "\n",
    "\n",
    "    def back(self, steps: int) -> str:\n",
    "        curr = self.pointer\n",
    "        for _ in range(steps):\n",
    "            if not curr:\n",
    "                break\n",
    "            curr = curr.prev\n",
    "        self.pointer = curr or self.head\n",
    "        return self.pointer.url\n",
    "        \n",
    "\n",
    "    def forward(self, steps: int) -> str:\n",
    "        curr = self.pointer\n",
    "        for _ in range(steps):\n",
    "            if not curr:\n",
    "                break\n",
    "            curr = curr.next\n",
    "        self.pointer = curr or self.tail\n",
    "        return self.pointer.url"
   ]
  },
  {
   "cell_type": "markdown",
   "metadata": {},
   "source": [
    "# Array Solution, Inefficient Version\n",
    "This solution just stores all web page visit histories as an array, and we directly access them via a pointer which indexes the history\n",
    "\n",
    "## Complexity\n",
    "* Time: `O(n)` for `back` and `forward` since we need to traverse through all steps. `visit` is O(n) as well since we need to slice off the rest of the history, to do so we need to traverse through all the preceding values. And the additional appending is amortized `O(1)`\n",
    "* Space: `O(n)` since we need to store history"
   ]
  },
  {
   "cell_type": "code",
   "execution_count": 1,
   "metadata": {},
   "outputs": [],
   "source": [
    "class BrowserHistory:\n",
    "    def __init__(self, homepage: str):\n",
    "        self.history = [homepage]\n",
    "        self.pointer = 0\n",
    "\n",
    "    def visit(self, url: str) -> None:\n",
    "        self.history = self.history[:self.pointer + 1]\n",
    "        self.history.append(url)\n",
    "        self.pointer += 1\n",
    "\n",
    "    def back(self, steps: int) -> str:\n",
    "        for _ in range(steps):\n",
    "            if self.pointer == 0:\n",
    "                break\n",
    "            self.pointer -= 1\n",
    "        return self.history[self.pointer]\n",
    "\n",
    "    def forward(self, steps: int) -> str:\n",
    "        for _ in range(steps):\n",
    "            if self.pointer >= len(self.history) - 1:\n",
    "                break\n",
    "            self.pointer += 1\n",
    "        return self.history[self.pointer]"
   ]
  },
  {
   "cell_type": "markdown",
   "metadata": {},
   "source": [
    "# Array Solution, Efficient Version\n",
    "This solution just stores all web page visit histories as an array, and we directly access them via a pointer which indexes the history\n",
    "\n",
    "## Complexity\n",
    "* Time: `O(1)` for `back` and `forward` since we directly access by index. `visit` is O(n) as well since we need to slice off the rest of the history, to do so we need to traverse through all the preceding values. And the additional appending is amortized `O(1)`\n",
    "* Space: `O(n)` since we need to store history"
   ]
  },
  {
   "cell_type": "code",
   "execution_count": null,
   "metadata": {},
   "outputs": [],
   "source": [
    "class BrowserHistory:\n",
    "    def __init__(self, homepage: str):\n",
    "        self.history = [homepage]\n",
    "        self.pointer = 0\n",
    "\n",
    "    def visit(self, url: str) -> None:\n",
    "        self.history = self.history[:self.pointer + 1]\n",
    "        self.history.append(url)\n",
    "        self.pointer += 1\n",
    "\n",
    "    def back(self, steps: int) -> str:\n",
    "        if self.pointer - steps < 0:\n",
    "            self.pointer = 0\n",
    "        else:\n",
    "            self.pointer -= steps\n",
    "        return self.history[self.pointer]\n",
    "\n",
    "    def forward(self, steps: int) -> str:\n",
    "        if self.pointer + steps >= len(self.history) - 1:\n",
    "            self.pointer = len(self.history) - 1\n",
    "        else:\n",
    "            self.pointer += steps\n",
    "        return self.history[self.pointer]"
   ]
  }
 ],
 "metadata": {
  "kernelspec": {
   "display_name": "ml_dev",
   "language": "python",
   "name": "python3"
  },
  "language_info": {
   "codemirror_mode": {
    "name": "ipython",
    "version": 3
   },
   "file_extension": ".py",
   "mimetype": "text/x-python",
   "name": "python",
   "nbconvert_exporter": "python",
   "pygments_lexer": "ipython3",
   "version": "3.10.13"
  }
 },
 "nbformat": 4,
 "nbformat_minor": 2
}
