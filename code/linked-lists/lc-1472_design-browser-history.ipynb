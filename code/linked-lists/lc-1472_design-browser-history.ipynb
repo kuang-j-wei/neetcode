{
 "cells": [
  {
   "cell_type": "markdown",
   "metadata": {},
   "source": [
    "# Doubly Linked Lists Solution"
   ]
  },
  {
   "cell_type": "code",
   "execution_count": null,
   "metadata": {},
   "outputs": [],
   "source": [
    "class Page:\n",
    "    def __init__(self, url):\n",
    "        self.url = url\n",
    "        self.prev = None\n",
    "        self.next = None\n",
    "\n",
    "\n",
    "class BrowserHistory:\n",
    "    def __init__(self, homepage: str):\n",
    "        node = Page(homepage)\n",
    "        self.head = node\n",
    "        self.tail = node\n",
    "        self.pointer = node\n",
    "\n",
    "    def visit(self, url: str) -> None:\n",
    "        \"\"\"\n",
    "        if visit \n",
    "        current pointer, then point to this new node\n",
    "        new_node.prev = curr\n",
    "        curr.next = new_node\n",
    "        new_node.next = None\n",
    "        \"\"\"\n",
    "        new_node = Page(url)\n",
    "        new_node.prev = self.pointer\n",
    "        self.pointer.next = new_node\n",
    "        self.tail = new_node\n",
    "        self.pointer = new_node\n",
    "\n",
    "\n",
    "    def back(self, steps: int) -> str:\n",
    "        curr = self.pointer\n",
    "        for _ in range(steps):\n",
    "            if not curr:\n",
    "                break\n",
    "            curr = curr.prev\n",
    "        self.pointer = curr or self.head\n",
    "        return self.pointer.url\n",
    "        \n",
    "\n",
    "    def forward(self, steps: int) -> str:\n",
    "        curr = self.pointer\n",
    "        for _ in range(steps):\n",
    "            if not curr:\n",
    "                break\n",
    "            curr = curr.next\n",
    "        self.pointer = curr or self.tail\n",
    "        return self.pointer.url\n",
    "\n",
    "\n",
    "# Your BrowserHistory object will be instantiated and called as such:\n",
    "# obj = BrowserHistory(homepage)\n",
    "# obj.visit(url)\n",
    "# param_2 = obj.back(steps)\n",
    "# param_3 = obj.forward(steps)"
   ]
  },
  {
   "cell_type": "markdown",
   "metadata": {},
   "source": [
    "O(1) operations for all of them, except for back and forward which are O(n)\n",
    "\n",
    "Memory is O(n)"
   ]
  },
  {
   "cell_type": "markdown",
   "metadata": {},
   "source": []
  }
 ],
 "metadata": {
  "language_info": {
   "name": "python"
  }
 },
 "nbformat": 4,
 "nbformat_minor": 2
}
