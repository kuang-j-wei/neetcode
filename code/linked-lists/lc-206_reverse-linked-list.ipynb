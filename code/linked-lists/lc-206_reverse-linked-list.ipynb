{
 "cells": [
  {
   "cell_type": "markdown",
   "metadata": {},
   "source": [
    "# Summary\n",
    "* Have three pointers, `prev`, `curr`, and `nxt`, where `prev` is initialized to `None`\n",
    "* Then have a loop to run as long as `nxt` exists\n",
    "  * This will exit us out of the loop when we hit tail, because tail's next node is a None, and we do want the tail to be the last node that we return\n",
    "  * Inside this loop, point `curr.next` to `prev`, and move `prev`, `curr`, and `nxt` all to the next position\n",
    "* Lastly, because we exit when `curr` got placed onto the tail node, we have to set `curr.next` to `prev`\n",
    "  * Meaning, point the next node from the tail node to the previous node, and return the tail node as the new head"
   ]
  },
  {
   "cell_type": "code",
   "execution_count": null,
   "metadata": {},
   "outputs": [],
   "source": [
    "from typing import Optional\n",
    "\n",
    "\n",
    "class ListNode:\n",
    "    def __init__(self, val=0, next=None):\n",
    "        self.val = val\n",
    "        self.next = next\n",
    "\n",
    "\n",
    "class Solution:\n",
    "    def reverseList(self, head: Optional[ListNode]) -> Optional[ListNode]:\n",
    "        if not head:\n",
    "            return None\n",
    "\n",
    "        prev = None\n",
    "        curr = head\n",
    "        nxt = head.next\n",
    "\n",
    "        while nxt:\n",
    "            curr.next = prev\n",
    "            prev = curr\n",
    "            curr = nxt\n",
    "            nxt = nxt.next\n",
    "        curr.next = prev\n",
    "        return curr"
   ]
  }
 ],
 "metadata": {
  "language_info": {
   "name": "python"
  }
 },
 "nbformat": 4,
 "nbformat_minor": 2
}
