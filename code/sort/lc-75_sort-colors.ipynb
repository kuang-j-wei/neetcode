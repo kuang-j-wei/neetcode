{
 "cells": [
  {
   "cell_type": "markdown",
   "metadata": {},
   "source": [
    "# Bucket Sort Solution\n",
    "* Since we know there are only 3 unique values, and they are already ordered as 0, 1, 2\n",
    "* Then we do one pass just to count how many times each unique value appeared\n",
    "* Then we fill out the array based on the appearance count\n",
    "\n",
    "## Time complexity\n",
    "* O(n) because we pass by twice\n",
    "## Space complexity\n",
    "* O(1) because no additional memory used"
   ]
  },
  {
   "cell_type": "code",
   "execution_count": 14,
   "metadata": {},
   "outputs": [],
   "source": [
    "from typing import List\n",
    "\n",
    "\n",
    "class Solution:\n",
    "    def sortColors(self, nums: List[int]) -> None:\n",
    "        \"\"\"\n",
    "        Do not return anything, modify nums in-place instead.\n",
    "        \"\"\"\n",
    "        counter = [0, 0, 0]\n",
    "        for n in nums:\n",
    "            counter[n] += 1\n",
    "        \n",
    "        start = 0\n",
    "        for color, count in enumerate(counter):\n",
    "            for i in range(start, start + count, 1):\n",
    "                nums[i] = color\n",
    "            start += count\n",
    "        return nums"
   ]
  },
  {
   "cell_type": "code",
   "execution_count": 15,
   "metadata": {},
   "outputs": [
    {
     "data": {
      "text/plain": [
       "[0, 0, 1, 1, 2, 2]"
      ]
     },
     "execution_count": 15,
     "metadata": {},
     "output_type": "execute_result"
    }
   ],
   "source": [
    "s = Solution()\n",
    "nums = [2,0,2,1,1,0]\n",
    "s.sortColors(nums)"
   ]
  },
  {
   "cell_type": "code",
   "execution_count": null,
   "metadata": {},
   "outputs": [],
   "source": []
  }
 ],
 "metadata": {
  "kernelspec": {
   "display_name": "ml_dev",
   "language": "python",
   "name": "python3"
  },
  "language_info": {
   "codemirror_mode": {
    "name": "ipython",
    "version": 3
   },
   "file_extension": ".py",
   "mimetype": "text/x-python",
   "name": "python",
   "nbconvert_exporter": "python",
   "pygments_lexer": "ipython3",
   "version": "3.10.13"
  }
 },
 "nbformat": 4,
 "nbformat_minor": 2
}
