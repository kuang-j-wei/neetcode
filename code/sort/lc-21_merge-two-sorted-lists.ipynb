{
 "cells": [
  {
   "cell_type": "markdown",
   "metadata": {},
   "source": [
    "# Iterative Solution\n",
    "\n",
    "We first take care of edge cases, where if one of them is None, then you just return the other list.\n",
    "\n",
    "Then we just check who is the smaller value, then assign that as the \"head\". At the end we will return just the head pointer.\n",
    "\n",
    "We also create a separate pointer tracking the head list, so we will initialize it to head.\n",
    "\n",
    "Then we just iterate while both lists are still not empty, and compare value to assign to curr.next.\n",
    "\n",
    "At last, we will feed whichever that's non-empty to curr.next.\n",
    "\n",
    "\n",
    "* Time complexity: O(m+n) because we have to iterate at worst every single node\n",
    "* Space complexity: O(1) because no additional memory was created"
   ]
  },
  {
   "cell_type": "code",
   "execution_count": 7,
   "metadata": {},
   "outputs": [],
   "source": [
    "from typing import Optional\n",
    "\n",
    "# Definition for singly-linked list.\n",
    "class ListNode:\n",
    "    def __init__(self, val=None, next=None):\n",
    "        self.val = val\n",
    "        self.next = next\n",
    "\n",
    "class Solution:\n",
    "    def mergeTwoLists(self, list1: Optional[ListNode], list2: Optional[ListNode]) -> Optional[ListNode]:\n",
    "        if not list1 and list2:\n",
    "            return list2\n",
    "        if not list2 and list1:\n",
    "            return list1\n",
    "        if not list1 and not list2:\n",
    "            return None\n",
    "        \n",
    "        if list1.val < list2.val:\n",
    "            head = list1\n",
    "            list1 = list1.next\n",
    "            curr = head\n",
    "        else:\n",
    "            head = list2\n",
    "            list2 = list2.next\n",
    "            curr = head\n",
    "        \n",
    "        while list1 and list2:\n",
    "            if list1.val < list2.val:\n",
    "                curr.next = list1\n",
    "                list1 = list1.next\n",
    "                curr = curr.next\n",
    "            else:\n",
    "                curr.next = list2\n",
    "                list2 = list2.next\n",
    "                curr = curr.next\n",
    "\n",
    "        curr.next = list1 if list1 else list2\n",
    "        return head"
   ]
  },
  {
   "cell_type": "markdown",
   "metadata": {},
   "source": [
    "# Recursive Solution\n",
    "\n",
    "We are merging a smaller and smaller lists after each merge.\n",
    "\n",
    "So the base case would be when one of the lists is None, we can just return the other list.\n",
    "\n",
    "Otherwise, we simply merge the remaining two lists, and have the current head.next point to the solution of the smaller sub-problems.\n",
    "\n",
    "\n",
    "* Time complexity: O(m+n) because we have to iterate through every single node\n",
    "* Space complexity: O(m+n) because there could be n recursive call stack"
   ]
  },
  {
   "cell_type": "code",
   "execution_count": null,
   "metadata": {},
   "outputs": [],
   "source": [
    "class Solution:\n",
    "    def mergeTwoLists(self, list1: Optional[ListNode], list2: Optional[ListNode]) -> Optional[ListNode]:\n",
    "        if not list1:\n",
    "            return list2\n",
    "        if not list2:\n",
    "            return list1\n",
    "        if not list1 and not list2:\n",
    "            return None\n",
    "        \n",
    "        if list1.val < list2.val:\n",
    "            curr = list1\n",
    "            list1 = list1.next\n",
    "        else:\n",
    "            curr = list2\n",
    "            list2 = list2.next\n",
    "        curr.next = self.mergeTwoLists(list1, list2)\n",
    "        return curr"
   ]
  }
 ],
 "metadata": {
  "kernelspec": {
   "display_name": "ml_dev",
   "language": "python",
   "name": "python3"
  },
  "language_info": {
   "codemirror_mode": {
    "name": "ipython",
    "version": 3
   },
   "file_extension": ".py",
   "mimetype": "text/x-python",
   "name": "python",
   "nbconvert_exporter": "python",
   "pygments_lexer": "ipython3",
   "version": "3.10.13"
  }
 },
 "nbformat": 4,
 "nbformat_minor": 2
}
