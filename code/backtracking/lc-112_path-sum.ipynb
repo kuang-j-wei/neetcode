{
 "cells": [
  {
   "cell_type": "markdown",
   "metadata": {},
   "source": [
    "# Solution\n",
    "## Time Complexity\n",
    "* $O(n)$ because worst case we would need to visit every single node\n",
    "## Space Complexity\n",
    "* $O(h)$ because the recursive stack could be the height of the tree"
   ]
  },
  {
   "cell_type": "code",
   "execution_count": 15,
   "metadata": {},
   "outputs": [],
   "source": [
    "from typing import Optional\n",
    "\n",
    "# Definition for a binary tree node.\n",
    "class TreeNode:\n",
    "    def __init__(self, val=0, left=None, right=None):\n",
    "        self.val = val\n",
    "        self.left = left\n",
    "        self.right = right\n",
    "\n",
    "\n",
    "class Solution:\n",
    "    def hasPathSum(self, root: Optional[TreeNode], targetSum: int) -> bool:\n",
    "        # build a stack tracing all the way til leaf, then if the sum\n",
    "        # agrees, we return True\n",
    "        # when all leaves are exhausted, then return False\n",
    "        if not root:\n",
    "            return False\n",
    "        else:\n",
    "            running_sum = 0\n",
    "\n",
    "        def helper(root, running_sum, targetSum):\n",
    "            if not root:\n",
    "                return False\n",
    "            \n",
    "            running_sum += root.val\n",
    "            \n",
    "            if not root.left and not root.right and running_sum == targetSum:\n",
    "                return True\n",
    "            \n",
    "            if helper(root.left, running_sum, targetSum):\n",
    "                return True\n",
    "            if helper(root.right, running_sum, targetSum):\n",
    "                return True\n",
    "            \n",
    "            running_sum -= root.val  # current path isn't valid, go up so remove this current value\n",
    "            return False\n",
    "        \n",
    "        return helper(root, running_sum, targetSum)"
   ]
  },
  {
   "cell_type": "code",
   "execution_count": 16,
   "metadata": {},
   "outputs": [],
   "source": [
    "root = TreeNode(5)\n",
    "root.left = TreeNode(4)\n",
    "root.right = TreeNode(8)\n",
    "root.left.left = TreeNode(11)\n",
    "root.left.left.left = TreeNode(7)\n",
    "root.left.left.right = TreeNode(2)\n",
    "root.right.left = TreeNode(13)\n",
    "root.right.right = TreeNode(4)\n",
    "root.right.right.right = TreeNode(1)"
   ]
  },
  {
   "cell_type": "code",
   "execution_count": 17,
   "metadata": {},
   "outputs": [],
   "source": [
    "s = Solution()"
   ]
  },
  {
   "cell_type": "code",
   "execution_count": 18,
   "metadata": {},
   "outputs": [
    {
     "data": {
      "text/plain": [
       "True"
      ]
     },
     "execution_count": 18,
     "metadata": {},
     "output_type": "execute_result"
    }
   ],
   "source": [
    "s.hasPathSum(root, 22)"
   ]
  },
  {
   "cell_type": "code",
   "execution_count": null,
   "metadata": {},
   "outputs": [],
   "source": []
  }
 ],
 "metadata": {
  "kernelspec": {
   "display_name": "ml_dev",
   "language": "python",
   "name": "python3"
  },
  "language_info": {
   "codemirror_mode": {
    "name": "ipython",
    "version": 3
   },
   "file_extension": ".py",
   "mimetype": "text/x-python",
   "name": "python",
   "nbconvert_exporter": "python",
   "pygments_lexer": "ipython3",
   "version": "3.10.13"
  }
 },
 "nbformat": 4,
 "nbformat_minor": 2
}
