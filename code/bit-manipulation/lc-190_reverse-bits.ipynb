{
 "cells": [
  {
   "cell_type": "markdown",
   "id": "4f915087",
   "metadata": {},
   "source": [
    "# Solution\n",
    "Convert the input integer into a 32-bit representation string. Make an empty 32-bit representation of all 0s. Then just fill in the value one by one from the start of the string, using the end of the original string\n",
    "\n",
    "Then we convert that number into base 10 representation integer\n",
    "\n",
    "## Time Complexity\n",
    "O(1) because we always just have to loop through 32 characters (we do this 2 times)\n",
    "\n",
    "## Space Complexity\n",
    "O(1) because the additional array and string are always fixed at length 32"
   ]
  },
  {
   "cell_type": "code",
   "execution_count": null,
   "id": "419c2312",
   "metadata": {},
   "outputs": [],
   "source": [
    "class Solution:\n",
    "    def reverseBits(self, n: int) -> int:\n",
    "        n = '{:032b}'.format(n)\n",
    "        print(n)\n",
    "        copy_n = [0] * len(n)\n",
    "        \n",
    "        for i in range(len(n)):\n",
    "            copy_n[i] = n[len(n) - 1 - i]\n",
    "        \n",
    "        result_str = ''\n",
    "        \n",
    "\n",
    "        for bit in copy_n:\n",
    "            result_str += bit\n",
    "        print(result_str)\n",
    "        return int(result_str, 2)"
   ]
  },
  {
   "cell_type": "code",
   "execution_count": 20,
   "id": "be55d8bc",
   "metadata": {},
   "outputs": [],
   "source": [
    "s = Solution()"
   ]
  },
  {
   "cell_type": "code",
   "execution_count": 21,
   "id": "5ac7a7f4",
   "metadata": {},
   "outputs": [
    {
     "name": "stdout",
     "output_type": "stream",
     "text": [
      "00000010100101000001111010011100\n",
      "00111001011110000010100101000000\n"
     ]
    },
    {
     "data": {
      "text/plain": [
       "964176192"
      ]
     },
     "execution_count": 21,
     "metadata": {},
     "output_type": "execute_result"
    }
   ],
   "source": [
    "n = 43261596\n",
    "s.reverseBits(n)"
   ]
  },
  {
   "cell_type": "code",
   "execution_count": null,
   "id": "fbee80fd",
   "metadata": {},
   "outputs": [],
   "source": []
  }
 ],
 "metadata": {
  "kernelspec": {
   "display_name": "Python 3",
   "language": "python",
   "name": "python3"
  },
  "language_info": {
   "codemirror_mode": {
    "name": "ipython",
    "version": 3
   },
   "file_extension": ".py",
   "mimetype": "text/x-python",
   "name": "python",
   "nbconvert_exporter": "python",
   "pygments_lexer": "ipython3",
   "version": "3.13.2"
  }
 },
 "nbformat": 4,
 "nbformat_minor": 5
}
