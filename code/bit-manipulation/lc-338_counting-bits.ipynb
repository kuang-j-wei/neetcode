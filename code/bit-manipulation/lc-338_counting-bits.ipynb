{
 "cells": [
  {
   "cell_type": "markdown",
   "id": "d40ca968",
   "metadata": {},
   "source": [
    "# Solution\n",
    "For each integer, we use the \"& with 1\" bit trick then left bit shifting.\n",
    "\n",
    "Each time we do this, we are effectively dividing the number by 2 until we get to 0.\n",
    "\n",
    "So if the integer is very large, eventually we will have to do this division $\\log{n}$ times, because we are dividing by 2 each time, so it's like a reverse binary tree, where the depth would be $\\log{n}$. We have to repeat this `n` times, so the final time complexity is $O(n\\log{n})$\n",
    "\n",
    "## Time Complexity\n",
    "$O(n\\log{n})$\n",
    "\n",
    "## Space Complexity\n",
    "$O(1)$ for additional space, but $O(n)$ for the answer itself"
   ]
  },
  {
   "cell_type": "code",
   "execution_count": null,
   "id": "e534df4e",
   "metadata": {},
   "outputs": [],
   "source": [
    "class Solution:\n",
    "    def countBits(self, n: int) -> List[int]:\n",
    "        output = []\n",
    "\n",
    "        for i in range(n + 1):\n",
    "            output.append(self.helper(i))\n",
    "        return output\n",
    "\n",
    "    def helper(self, n):\n",
    "        count = 0\n",
    "\n",
    "        while n > 0:\n",
    "            if n & 1:\n",
    "                count += 1\n",
    "            n = n >> 1\n",
    "        return count"
   ]
  }
 ],
 "metadata": {
  "language_info": {
   "name": "python"
  }
 },
 "nbformat": 4,
 "nbformat_minor": 5
}
