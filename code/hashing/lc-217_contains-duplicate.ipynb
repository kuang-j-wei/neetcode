{
 "cells": [
  {
   "cell_type": "markdown",
   "metadata": {},
   "source": [
    "# Summary\n",
    "* Instantiate a hashmap\n",
    "* Iterate through `nums` one by one and commit each one to a set\n",
    "* If a key already exists, then we can return True\n",
    "* If not, add it to the hashmap\n",
    "* If by the time we've iterated everything and still has no match, then we can return False\n",
    "\n",
    "\n",
    "## Time Complexity\n",
    "* $O(n)$\n",
    "* Because we have to loop through every element once and at each step doing an $O(1)$ operation\n",
    "\n",
    "\n",
    "## Space Complexity\n",
    "* $O(n)$ to store the hash map that could be as as large as `n`"
   ]
  },
  {
   "cell_type": "code",
   "execution_count": null,
   "metadata": {},
   "outputs": [],
   "source": [
    "from typing import List\n",
    "\n",
    "class Solution:\n",
    "    def containsDuplicate(self, nums: List[int]) -> bool:\n",
    "        hashmap = {}\n",
    "\n",
    "        for n in nums:\n",
    "            if n in hashmap:\n",
    "                return True\n",
    "            else:\n",
    "                hashmap[n] = 1\n",
    "        return False"
   ]
  }
 ],
 "metadata": {
  "language_info": {
   "name": "python"
  }
 },
 "nbformat": 4,
 "nbformat_minor": 2
}
