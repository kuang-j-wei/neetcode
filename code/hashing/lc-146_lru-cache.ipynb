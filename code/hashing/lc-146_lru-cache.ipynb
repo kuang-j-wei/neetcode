{
 "cells": [
  {
   "cell_type": "markdown",
   "metadata": {},
   "source": [
    "# Summary\n",
    "* The lookup table will be a hashmap. Key'd by `key`, and value being pointers to the actual nodes containing the values\n",
    "  * Note that for the Node, we need it to contains both `key` and value as well\n",
    "  * Because `key` will be the unique identifier of a node\n",
    "  * If we only used `value`, then two keys with the same values could end up pointing to the same node\n",
    "* We will use a doubly linked list with a head and tail pointer to keep track of the ordering\n",
    "\n",
    "## Time Complexity\n",
    "* O(1) on average for all cases. For a linked list though, when we need to modify some nodes' values that were in in the middle of the history, it could at most take O(k/2), where `k` is the capacity\n",
    "* O(k) where `k` is the capacity, for storing the hashmap"
   ]
  },
  {
   "cell_type": "code",
   "execution_count": 8,
   "metadata": {},
   "outputs": [],
   "source": [
    "class Node:\n",
    "    def __init__(self, key, val, nxt=None, prev=None):\n",
    "        self.key = key\n",
    "        self.val = val\n",
    "        self.next = nxt\n",
    "        self.prev = prev\n",
    "\n",
    "\n",
    "class LRUCache:\n",
    "    def __init__(self, capacity: int):\n",
    "        self.hashmap = {}\n",
    "        self.capacity = capacity\n",
    "        self.head = Node(None, None)\n",
    "        self.tail = Node(None, None)\n",
    "        self.head.next = self.tail\n",
    "        self.tail.prev = self.head\n",
    "\n",
    "    def get(self, key: int) -> int:\n",
    "        if key not in self.hashmap:\n",
    "            return -1\n",
    "        else:\n",
    "            node = self.hashmap[key]\n",
    "            \n",
    "            # remove from current position\n",
    "            node.prev.next = node.next\n",
    "            node.next.prev = node.prev\n",
    "\n",
    "            # move to tail\n",
    "            self.tail.prev.next = node\n",
    "            node.prev = self.tail.prev\n",
    "            node.next = self.tail\n",
    "            self.tail.prev = node\n",
    "            return node.val\n",
    "\n",
    "    def put(self, key: int, value: int) -> None:\n",
    "        if key in self.hashmap:\n",
    "            node = self.hashmap[key]\n",
    "            \n",
    "            # modifies value\n",
    "            node.val = value\n",
    "            \n",
    "            # remove current node\n",
    "            node.prev.next = node.next\n",
    "            node.next.prev = node.prev\n",
    "\n",
    "            # append current node to tail\n",
    "            self.tail.prev.next = node\n",
    "            node.prev = self.tail.prev\n",
    "            node.next = self.tail\n",
    "            self.tail.prev = node\n",
    "\n",
    "        elif len(self.hashmap) < self.capacity:\n",
    "            node = Node(key, value)\n",
    "            self.hashmap[key] = node\n",
    "\n",
    "            # append to tail\n",
    "            node.prev = self.tail.prev\n",
    "            self.tail.prev.next = node\n",
    "            node.next = self.tail\n",
    "            self.tail.prev = node\n",
    "        \n",
    "        else:\n",
    "            node = Node(key, value)\n",
    "            _ = self.hashmap.pop(self.head.next.key)\n",
    "            self.hashmap[key] = node\n",
    "            \n",
    "\n",
    "            # pop head\n",
    "            self.head.next.next.prev = self.head\n",
    "            self.head.next = self.head.next.next\n",
    "            \n",
    "\n",
    "            # append tail\n",
    "            node.prev = self.tail.prev\n",
    "            self.tail.prev.next = node\n",
    "            node.next = self.tail\n",
    "            self.tail.prev = node\n",
    "            "
   ]
  },
  {
   "cell_type": "code",
   "execution_count": 9,
   "metadata": {},
   "outputs": [
    {
     "data": {
      "text/plain": [
       "4"
      ]
     },
     "execution_count": 9,
     "metadata": {},
     "output_type": "execute_result"
    }
   ],
   "source": [
    "l = LRUCache(2)\n",
    "l.put(1, 1)\n",
    "l.put(2, 2)\n",
    "l.get(1)\n",
    "l.put(3, 3)\n",
    "l.get(2)\n",
    "l.put(4, 4)\n",
    "l.get(1)\n",
    "l.get(3)\n",
    "l.get(4)"
   ]
  },
  {
   "cell_type": "code",
   "execution_count": null,
   "metadata": {},
   "outputs": [],
   "source": []
  }
 ],
 "metadata": {
  "kernelspec": {
   "display_name": "ml_dev",
   "language": "python",
   "name": "python3"
  },
  "language_info": {
   "codemirror_mode": {
    "name": "ipython",
    "version": 3
   },
   "file_extension": ".py",
   "mimetype": "text/x-python",
   "name": "python",
   "nbconvert_exporter": "python",
   "pygments_lexer": "ipython3",
   "version": "3.10.13"
  }
 },
 "nbformat": 4,
 "nbformat_minor": 2
}
