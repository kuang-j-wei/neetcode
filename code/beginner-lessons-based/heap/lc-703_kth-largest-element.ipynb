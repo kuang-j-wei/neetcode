{
 "cells": [
  {
   "cell_type": "markdown",
   "metadata": {},
   "source": [
    "# Summary\n",
    "\n",
    "* We will create a MinHeap and maintain it to have only up to k-elements\n",
    "* This way we know that the first element (smallest) is the k-th largest because everything \"before\" it was of smaller value\n",
    "* And when we encounter a value that's larger than the current smallest value, we pop this value and push this new value into the MinHeap\n",
    "\n",
    "## Time Complexity\n",
    "* $O(n\\log{n})$ for initial construction\n",
    "  * In the first construction, we would spend O(n) for the first heapify construction\n",
    "  * Then in the \"popping\" phase where we reduce down to `k` elements, it's $O((n-k)\\log{n'})$ where $n'$ is $n-1$, $n-2$, $n-3$, ..., $k+$1, which are both bounded by $O(n log (n))$\n",
    "  * Since $O(n\\log{n})$ is greater than $O(n)$, we take the former as the leading time complexity\n",
    "* `log(k)` in the streaming phase as we add to the heap\n",
    "\n",
    "## Space Complexity\n",
    "* Initially `O(n)` (first construction)\n",
    "* `O(k)` in the streaming phase only "
   ]
  },
  {
   "cell_type": "code",
   "execution_count": null,
   "metadata": {},
   "outputs": [],
   "source": [
    "from typing import List\n",
    "import heapq\n",
    "\n",
    "\n",
    "class KthLargest:\n",
    "    def __init__(self, k: int, nums: List[int]):\n",
    "        self.nums = nums\n",
    "        heapq.heapify(self.nums)\n",
    "        self.k = k\n",
    "\n",
    "        while len(self.nums) > self.k:\n",
    "            heapq.heappop(self.nums)\n",
    "    \n",
    "    def add(self, val: int) -> int:\n",
    "        if len(self.nums) < self.k:\n",
    "            heapq.heappush(self.nums, val)\n",
    "        elif self.nums[0] < val:\n",
    "            heapq.heapreplace(self.nums, val)\n",
    "        return self.nums[0] if len(self.nums) == self.k else None"
   ]
  }
 ],
 "metadata": {
  "language_info": {
   "name": "python"
  }
 },
 "nbformat": 4,
 "nbformat_minor": 2
}
