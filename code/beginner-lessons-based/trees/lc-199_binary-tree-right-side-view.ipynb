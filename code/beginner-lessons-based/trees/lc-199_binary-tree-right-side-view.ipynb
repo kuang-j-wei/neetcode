{
 "cells": [
  {
   "cell_type": "markdown",
   "metadata": {},
   "source": [
    "# Solution\n",
    "* A BFS but we only print out the last element of the current layer\n",
    "\n",
    "## Time Complexity\n",
    "* $O(n)$ because we still visit every single node\n",
    "\n",
    "## Space Complexity\n",
    "* $O(n)$ because we still would have to store the entirety of the last layer in a queue, which will take up $frac{n+11}{2}$"
   ]
  },
  {
   "cell_type": "code",
   "execution_count": null,
   "metadata": {},
   "outputs": [],
   "source": [
    "# Definition for a binary tree node.\n",
    "from typing import Optional, List\n",
    "from collections import deque\n",
    "\n",
    "\n",
    "class TreeNode:\n",
    "    def __init__(self, val=0, left=None, right=None):\n",
    "        self.val = val\n",
    "        self.left = left\n",
    "        self.right = right\n",
    "\n",
    "\n",
    "class Solution:\n",
    "    def rightSideView(self, root: Optional[TreeNode]) -> List[int]:\n",
    "        # use breadth first search and only return the last node\n",
    "        history = []\n",
    "        queue = deque()\n",
    "\n",
    "        if root:\n",
    "            queue.append(root)\n",
    "        \n",
    "        while queue:\n",
    "            n = len(queue)\n",
    "            for _ in range(n):\n",
    "                curr = queue.popleft()\n",
    "                \n",
    "                if curr.left:\n",
    "                    queue.append(curr.left)\n",
    "                \n",
    "                if curr.right:\n",
    "                    queue.append(curr.right)\n",
    "                \n",
    "            history.append(curr.val)\n",
    "        return history\n"
   ]
  }
 ],
 "metadata": {
  "language_info": {
   "name": "python"
  }
 },
 "nbformat": 4,
 "nbformat_minor": 2
}
