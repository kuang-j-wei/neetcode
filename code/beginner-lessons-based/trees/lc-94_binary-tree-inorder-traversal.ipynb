{
 "cells": [
  {
   "cell_type": "markdown",
   "metadata": {},
   "source": [
    "# Recursive Solution\n",
    "* Instead of print, we just append the current node value into a running list\n",
    "* Then the rest is the same as usual inorder traversal visitation algorithm\n",
    "\n",
    "## Time Complexity\n",
    "* O(n) because we have to visit every single node\n",
    "\n",
    "## Space Complexity\n",
    "* O(h) for the recursive stack that can be as much as the full height of the tree\n",
    "* The stack will be the fullest when we are at the deepest leaf node, because it's keeping track of all the function calls we've made to have made it at that point"
   ]
  },
  {
   "cell_type": "code",
   "execution_count": null,
   "metadata": {},
   "outputs": [],
   "source": [
    "from typing import Optional, List\n",
    "\n",
    "\n",
    "class TreeNode:\n",
    "    def __init__(self, val=0, left=None, right=None):\n",
    "        self.val = val\n",
    "        self.left = left\n",
    "        self.right = right\n",
    "\n",
    "\n",
    "class Solution:\n",
    "    def inorderTraversal(self, root: Optional[TreeNode]) -> List[int]:\n",
    "        if not root:\n",
    "            return []\n",
    "        \n",
    "        traversal_list = []\n",
    "        self.traversalHelper(root.left, traversal_list)\n",
    "        traversal_list.append(root.val)\n",
    "        self.traversalHelper(root.right, traversal_list)\n",
    "        return traversal_list\n",
    "    \n",
    "    def traversalHelper(self, root, traversal_list):\n",
    "        if not root:\n",
    "            return traversal_list\n",
    "        \n",
    "        self.traversalHelper(root.left, traversal_list)\n",
    "        traversal_list.append(root.val)\n",
    "        self.traversalHelper(root.right, traversal_list)\n",
    "        return traversal_list"
   ]
  },
  {
   "cell_type": "markdown",
   "metadata": {},
   "source": [
    "# Iterative Solution\n",
    "* We go as far left as possible and on the way add the current node to the stack as we go\n",
    "* Then as we run into a null, we know now we can pop from the stack, and call this the current node\n",
    "* Then we try to go to this \"current node\"'s right subtree to revisit again\n",
    "* And if this current node (which was just the right child node previously) is null, we again will take up from the stack again\n",
    "* Once we know that we are currently at a Null node and the stack is empty, we've visited every single node\n",
    "\n",
    "## Time Complexity\n",
    "* O(n) because we have to visit every single node\n",
    "\n",
    "## Space Complexity\n",
    "* O(h) at most because we have to keep track of all the nodes that we've visited on the way until we reach from a root to a leaf"
   ]
  },
  {
   "cell_type": "code",
   "execution_count": null,
   "metadata": {},
   "outputs": [],
   "source": [
    "from typing import Optional, List\n",
    "\n",
    "\n",
    "class TreeNode:\n",
    "    def __init__(self, val=0, left=None, right=None):\n",
    "        self.val = val\n",
    "        self.left = left\n",
    "        self.right = right\n",
    "\n",
    "\n",
    "class Solution:\n",
    "    def inorderTraversal(self, root: Optional[TreeNode]) -> List[int]:\n",
    "        stack = []\n",
    "        curr = root\n",
    "        traversal_list = []\n",
    "        \n",
    "        while curr or stack:\n",
    "            while curr:\n",
    "                stack.append(curr)\n",
    "                curr = curr.left\n",
    "            curr = stack.pop()\n",
    "            traversal_list.append(curr.val)\n",
    "            curr = curr.right\n",
    "        return traversal_list"
   ]
  },
  {
   "cell_type": "code",
   "execution_count": null,
   "metadata": {},
   "outputs": [],
   "source": []
  }
 ],
 "metadata": {
  "language_info": {
   "name": "python"
  }
 },
 "nbformat": 4,
 "nbformat_minor": 2
}
