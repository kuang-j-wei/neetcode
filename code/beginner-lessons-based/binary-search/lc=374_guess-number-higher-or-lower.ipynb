{
 "cells": [
  {
   "cell_type": "markdown",
   "metadata": {},
   "source": [
    "# Solution\n",
    "* We will always pick the mid point as the guess\n",
    "* If the guess is too low, we know that we can eliminate the lower half; we eliminate the higher half otherwise\n",
    "* We are bound to eventually find this number, at which the `guess` function will return 0 and we can return the mid point as the guess\n",
    "\n",
    "## Time Complexity\n",
    "* $O(\\log{n})$ because we are halving the range every time thus there's a depth of $\\log{n}$\n",
    "## Space Complexity\n",
    "* $O(1)$ because no additional space was used"
   ]
  },
  {
   "cell_type": "code",
   "execution_count": null,
   "metadata": {},
   "outputs": [],
   "source": [
    "class Solution:\n",
    "    def guessNumber(self, n: int) -> int:\n",
    "        l = 1\n",
    "        r = n\n",
    "        \n",
    "        while l <= r:\n",
    "            mid = (l + r) // 2\n",
    "            if guess(mid) == 1:\n",
    "                l = mid + 1\n",
    "            elif guess(mid) == -1:\n",
    "                r = mid - 1\n",
    "            else:\n",
    "                return mid"
   ]
  }
 ],
 "metadata": {
  "language_info": {
   "name": "python"
  }
 },
 "nbformat": 4,
 "nbformat_minor": 2
}
