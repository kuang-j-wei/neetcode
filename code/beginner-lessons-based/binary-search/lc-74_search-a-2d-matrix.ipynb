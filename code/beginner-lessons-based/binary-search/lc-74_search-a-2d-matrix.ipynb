{
 "cells": [
  {
   "cell_type": "markdown",
   "metadata": {},
   "source": [
    "# Solution\n",
    "* We will binary search through the rows first\n",
    "* Then do a second binary search once we narrow down to a column\n",
    "* This way the time complexity is $O(\\log{m} + \\log{n}) = O(\\log{(m * n)})$"
   ]
  },
  {
   "cell_type": "code",
   "execution_count": 6,
   "metadata": {},
   "outputs": [],
   "source": [
    "from typing import List\n",
    "\n",
    "\n",
    "class Solution:\n",
    "    def searchMatrix(self, matrix: List[List[int]], target: int) -> bool:\n",
    "        m = len(matrix)\n",
    "        n = len(matrix[0])\n",
    "        \n",
    "        # we will first search by rows, and since it's already\n",
    "        # sorted we will do divide and conquer\n",
    "        # once we narrow down to a single row, we will then binary\n",
    "        # search through the columns\n",
    "\n",
    "        l, r = 0, m - 1\n",
    "        \n",
    "        while l <= r:\n",
    "            mid = (l + r) // 2\n",
    "            start = matrix[mid][0]\n",
    "            end = matrix[mid][-1]\n",
    "            if target <= end and target >= start:\n",
    "                break\n",
    "            else: \n",
    "                if start > target: # target is on the lower side\n",
    "                    r = mid - 1\n",
    "                elif end < target:\n",
    "                    l = mid + 1\n",
    "        \n",
    "        row = mid\n",
    "        l, r = 0, n - 1\n",
    "        while l <= r:\n",
    "            mid = (l + r) // 2\n",
    "            num = matrix[row][mid]\n",
    "            if num > target: # target is on the lower side\n",
    "                r = mid - 1\n",
    "            elif num < target:\n",
    "                l = mid + 1\n",
    "            else:\n",
    "                return True\n",
    "        return False"
   ]
  },
  {
   "cell_type": "code",
   "execution_count": 7,
   "metadata": {},
   "outputs": [
    {
     "data": {
      "text/plain": [
       "True"
      ]
     },
     "execution_count": 7,
     "metadata": {},
     "output_type": "execute_result"
    }
   ],
   "source": [
    "target = 11\n",
    "matrix = [[1,3,5,7],[10,11,16,20],[23,30,34,50]]\n",
    "\n",
    "s = Solution()\n",
    "s.searchMatrix(matrix, target)"
   ]
  },
  {
   "cell_type": "code",
   "execution_count": null,
   "metadata": {},
   "outputs": [],
   "source": []
  }
 ],
 "metadata": {
  "kernelspec": {
   "display_name": "ml_dev",
   "language": "python",
   "name": "python3"
  },
  "language_info": {
   "codemirror_mode": {
    "name": "ipython",
    "version": 3
   },
   "file_extension": ".py",
   "mimetype": "text/x-python",
   "name": "python",
   "nbconvert_exporter": "python",
   "pygments_lexer": "ipython3",
   "version": "3.10.13"
  }
 },
 "nbformat": 4,
 "nbformat_minor": 2
}
