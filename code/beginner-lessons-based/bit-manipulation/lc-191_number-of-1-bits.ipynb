{
 "cells": [
  {
   "cell_type": "markdown",
   "id": "51009304",
   "metadata": {},
   "source": [
    "## Time Complexity\n",
    "$O(1)$ because it doesn't scale with the size of the integer itself but instead is purely dependent what bit representation we are using, for example 32 bit would at most take 32 operations.\n",
    "\n",
    "## Space Complexity\n",
    "$O(1)$ since no additional space is used"
   ]
  },
  {
   "cell_type": "code",
   "execution_count": null,
   "id": "aae7db56",
   "metadata": {},
   "outputs": [],
   "source": [
    "class Solution:\n",
    "    def hammingWeight(self, n: int) -> int:\n",
    "        \"\"\"\n",
    "        Given an integer, count how many of its bit representation\n",
    "        is 1\n",
    "\n",
    "        we always just count whether the right most bit is turned on or not.\n",
    "        we do so by running an `&` operation on the number, which would only be 1\n",
    "        if the right most bit is also 1. If that's the case then we increment the\n",
    "        count by 1\n",
    "\n",
    "        We then bit shift to the right, until the number becomes 0\n",
    "        \"\"\"\n",
    "        count = 0\n",
    "\n",
    "        while n > 0:\n",
    "          if n & 1 == 1:\n",
    "            count += 1\n",
    "          n = n >> 1\n",
    "        return count"
   ]
  },
  {
   "cell_type": "code",
   "execution_count": null,
   "id": "2c7b15df",
   "metadata": {
    "vscode": {
     "languageId": "plaintext"
    }
   },
   "outputs": [],
   "source": []
  }
 ],
 "metadata": {
  "language_info": {
   "name": "python"
  }
 },
 "nbformat": 4,
 "nbformat_minor": 5
}
