{
 "cells": [
  {
   "cell_type": "markdown",
   "id": "d40ca968",
   "metadata": {},
   "source": [
    "# Solution - Brute Force\n",
    "For each integer, we use the \"& with 1\" bit trick then left bit shifting.\n",
    "\n",
    "Each time we do this, we are effectively dividing the number by 2 until we get to 0.\n",
    "\n",
    "So if the integer is very large, eventually we will have to do this division $\\log{n}$ times, because we are dividing by 2 each time, so it's like a reverse binary tree, where the depth would be $\\log{n}$. We have to repeat this `n` times, so the final time complexity is $O(n\\log{n})$\n",
    "\n",
    "## Time Complexity\n",
    "$O(n\\log{n})$\n",
    "\n",
    "## Space Complexity\n",
    "$O(1)$ for additional space, but $O(n)$ for the answer itself"
   ]
  },
  {
   "cell_type": "code",
   "execution_count": null,
   "id": "e534df4e",
   "metadata": {},
   "outputs": [],
   "source": [
    "from typing import List\n",
    "\n",
    "\n",
    "class SolutionBruteForce:\n",
    "    def countBits(self, n: int) -> List[int]:\n",
    "        output = []\n",
    "\n",
    "        for i in range(n + 1):\n",
    "            output.append(self.helper(i))\n",
    "        return output\n",
    "\n",
    "    def helper(self, n):\n",
    "        count = 0\n",
    "\n",
    "        while n > 0:\n",
    "            if n & 1:\n",
    "                count += 1\n",
    "            n = n >> 1\n",
    "        return count"
   ]
  },
  {
   "cell_type": "markdown",
   "id": "048b0e2b",
   "metadata": {},
   "source": [
    "# Solution - Dynamic Programming\n",
    "\n",
    "```\n",
    "0 =  0 0 0 0 0\n",
    "1 =  0 0 0 0 1\n",
    "2 =  0 0 0 1 0\n",
    "3 =  0 0 0 1 1\n",
    "4 =  0 0 1 0 0\n",
    "5 =  0 0 1 0 1\n",
    "6 =  0 0 1 1 0\n",
    "7 =  0 0 1 1 1\n",
    "8 =  0 1 0 0 0\n",
    "9 =  0 1 0 0 1\n",
    "10 = 0 1 0 1 0\n",
    "11 = 0 1 0 1 1\n",
    "12 = 0 1 1 0 0\n",
    "13 = 0 1 1 0 1\n",
    "14 = 0 1 1 1 0\n",
    "15 = 0 1 1 1 1\n",
    "16 = 1 0 0 0 0\n",
    "```\n",
    "\n",
    "So every time we increment to the next bit, we can trace back it a previous subproblem.\n",
    "\n",
    "For example, the solution to 7 is just 1 plus the solution to 3, because 7 = $2^2$ + 3, and $2^2$ is the third bit turned on, so we add 1, to the solution to 3 which has two bits turned on.\n",
    "\n",
    "And we change the significant bit every time we hit a new increment of 2, so the series is `1, 2, 4, 8, 16, 32, 64, 128, ...`\n",
    "\n",
    "## Time Complexity\n",
    "$O(n)$ because now each operation will be an O(1) operation since we are just retrieving value from an array. We repeat this n times.\n",
    "\n",
    "## Space Complexity\n",
    "$O(1)$ for no additional memory requirement but we do need to store the solution which is $O(n)$\n",
    "\n"
   ]
  },
  {
   "cell_type": "code",
   "execution_count": null,
   "id": "b3e9f058",
   "metadata": {},
   "outputs": [],
   "source": [
    "from typing import List\n",
    "\n",
    "\n",
    "class Solution:\n",
    "    def countBits(self, n: int) -> List[int]:\n",
    "        dp = [0] * n  # the first number is 0, which has 0 bits turned on\n",
    "        offset = 1  # the digit 1 needs to be offset by 1 to refer back to the solution of `0` plus 1 for the new bit that we need to turn on\n",
    "\n",
    "        for i in range(1, n + 1):\n",
    "            if 2 * significant == i:  # we've reached a new multiple of 2, need to update the offset to this new multiple\n",
    "                significant = i\n",
    "            dp[i] = 1 + dp[i - offset]\n",
    "            \n",
    "        return dp"
   ]
  }
 ],
 "metadata": {
  "language_info": {
   "name": "python"
  }
 },
 "nbformat": 4,
 "nbformat_minor": 5
}
