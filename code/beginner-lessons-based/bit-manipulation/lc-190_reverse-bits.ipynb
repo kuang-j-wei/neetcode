{
 "cells": [
  {
   "cell_type": "markdown",
   "id": "4f915087",
   "metadata": {},
   "source": [
    "# Solution - String Manipulation\n",
    "Convert the input integer into a 32-bit representation string. Make an empty 32-bit representation of all 0s. Then just fill in the value one by one from the start of the string, using the end of the original string\n",
    "\n",
    "Then we convert that number into base 10 representation integer\n",
    "\n",
    "## Time Complexity\n",
    "O(1) because we always just have to loop through 32 characters (we do this 2 times)\n",
    "\n",
    "## Space Complexity\n",
    "O(1) because the additional array and string are always fixed at length 32"
   ]
  },
  {
   "cell_type": "code",
   "execution_count": null,
   "id": "419c2312",
   "metadata": {},
   "outputs": [],
   "source": [
    "class Solution:\n",
    "    def reverseBits(self, n: int) -> int:\n",
    "        \"\"\"\n",
    "        This solution uses built in functions to transform\n",
    "        the input integer into a binary string, reverse the string,\n",
    "        then convert that binary string back into an integer\n",
    "        \"\"\"\n",
    "        n = '{:032b}'.format(n)\n",
    "        print(n)\n",
    "        copy_n = [0] * len(n)\n",
    "        \n",
    "        for i in range(len(n)):\n",
    "            copy_n[i] = n[len(n) - 1 - i]\n",
    "        \n",
    "        result_str = ''\n",
    "        \n",
    "\n",
    "        for bit in copy_n:\n",
    "            result_str += bit\n",
    "        print(result_str)\n",
    "        return int(result_str, 2)"
   ]
  },
  {
   "cell_type": "code",
   "execution_count": 22,
   "id": "be55d8bc",
   "metadata": {},
   "outputs": [],
   "source": [
    "s = Solution()"
   ]
  },
  {
   "cell_type": "code",
   "execution_count": 23,
   "id": "5ac7a7f4",
   "metadata": {},
   "outputs": [
    {
     "name": "stdout",
     "output_type": "stream",
     "text": [
      "00000010100101000001111010011100\n",
      "00111001011110000010100101000000\n"
     ]
    },
    {
     "data": {
      "text/plain": [
       "964176192"
      ]
     },
     "execution_count": 23,
     "metadata": {},
     "output_type": "execute_result"
    }
   ],
   "source": [
    "n = 43261596\n",
    "s.reverseBits(n)"
   ]
  },
  {
   "cell_type": "markdown",
   "id": "46e97d2b",
   "metadata": {},
   "source": [
    "# Solution - Bit Manipulation\n",
    "We initialize the answer as a 32-bit 0\n",
    "\n",
    "We find out whether the most right bit is turned on or not by applying `AND` with 1\n",
    "\n",
    "Then we apply the `OR` operation to turn on right bit for the answer.\n",
    "\n",
    "Because we have to mirror the original input, we have to shift the current bit up 31 times to get to the right most bit.\n",
    "\n",
    "Then in the second iteration, we have to right bit shift the input by one position before the `AND` operation. And for the `OR` operation we now only have to left bit shift 30 times.\n",
    "\n",
    "So the right bit shift operation is `n >> i` while for the left bit shift operation it's `n << (31 - i)`\n",
    "\n",
    "Once we've repeated this operation 32 times, we've successfully reversed bits.\n",
    "\n",
    "\n",
    "## Time Complexity\n",
    "O(1) because we always just have to run the loop 32 times. It doesn't scale with the input\n",
    "\n",
    "## Space Complexity\n",
    "O(1) because no additional space is required"
   ]
  },
  {
   "cell_type": "code",
   "execution_count": null,
   "id": "fbee80fd",
   "metadata": {},
   "outputs": [],
   "source": [
    "class Solution:\n",
    "    def reverseBits(self, n: int) -> int:\n",
    "        ans = 0\n",
    "\n",
    "        for i in range(32):\n",
    "            bit = (n >> i) & 1  # find out the bit value of the right most bit always, and we shift it one by one for 31 times\n",
    "            ans = ans | (bit << (31 - i))  # we start out all as 0s, then by OR, we can always flip 0 to 1 when we need to turn on that specific bit, and leave the rest of the bits alone. And we take `31 - i` to move the bit from the right most position to the mirrored position\n",
    "        return ans\n",
    "        "
   ]
  }
 ],
 "metadata": {
  "kernelspec": {
   "display_name": "Python 3",
   "language": "python",
   "name": "python3"
  },
  "language_info": {
   "codemirror_mode": {
    "name": "ipython",
    "version": 3
   },
   "file_extension": ".py",
   "mimetype": "text/x-python",
   "name": "python",
   "nbconvert_exporter": "python",
   "pygments_lexer": "ipython3",
   "version": "3.13.2"
  }
 },
 "nbformat": 4,
 "nbformat_minor": 5
}
