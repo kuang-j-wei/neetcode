{
 "cells": [
  {
   "cell_type": "markdown",
   "metadata": {},
   "source": [
    "# Summary - Brute Force Solution\n",
    "* Do a nested loop through the entire array, and if the two numbers match up to the target, return their indices\n",
    "\n",
    "## Time Complexity\n",
    "* $O(n^2)$ because the outer loop will take $O(n)$, and yet  for each of the outer loop, we would need to do another $O(n)$ in the inner loop\n",
    "\n",
    "## Space Complexity\n",
    "* $O(1)$ because no additional storage is required"
   ]
  },
  {
   "cell_type": "code",
   "execution_count": 1,
   "metadata": {},
   "outputs": [],
   "source": [
    "from typing import List\n",
    "\n",
    "class Solution:\n",
    "    def twoSum(self, nums: List[int], target: int) -> List[int]:\n",
    "        if len(nums) == 2:\n",
    "            return [0, 1]\n",
    "        \n",
    "        # Brute Force O(n^2) solution\n",
    "        n = len(nums)\n",
    "        for i in range(0, n - 1, 1):\n",
    "            for j in range(i + 1, n):\n",
    "                if nums[i] + nums[j] == target:\n",
    "                    return [i, j]"
   ]
  },
  {
   "cell_type": "markdown",
   "metadata": {},
   "source": [
    "# Summary - One Pass Hash Map solution\n",
    "* Iterate through the array, and if the current number hasn't been seen in the hash map, store its index as the value and the current `num` as the index\n",
    "* Then when we see the complement is matched in the hash map, we can return the current index and the hashed index\n",
    "\n",
    "## Time Complexity\n",
    "* $O(n)$ because we just pass through the array once\n",
    "\n",
    "## Space Complexity\n",
    "* $O(n)$ to store the hash map"
   ]
  },
  {
   "cell_type": "code",
   "execution_count": 2,
   "metadata": {},
   "outputs": [],
   "source": [
    "from typing import List\n",
    "\n",
    "class Solution:\n",
    "    def twoSum(self, nums: List[int], target: int) -> List[int]:\n",
    "        if len(nums) == 2:\n",
    "            return [0, 1]\n",
    "\n",
    "        # One Pass hashmap solution\n",
    "        hashmap = {}\n",
    "\n",
    "        for idx, n in enumerate(nums):\n",
    "            complement = target - n\n",
    "            if complement in hashmap:\n",
    "                return [idx, hashmap[complement]]\n",
    "            else:\n",
    "                hashmap[n] = idx"
   ]
  },
  {
   "cell_type": "markdown",
   "metadata": {
    "vscode": {
     "languageId": "plaintext"
    }
   },
   "source": [
    "# Summary - Two Passes Hash Map solution\n",
    "* First pass to store all the unique values' indices in a hash map\n",
    "* For each value, we store the indices as a list in case there are repeated values multiple times\n",
    "* Then we do another pass, where we calculate the complement\n",
    "* If the complement is found\n",
    "    * But the complement is itself (it would manifest itself as a length 1 indices list), then we skip\n",
    "    * If the index array is length 2, then we know there are two of the same values at different locations that make up the solution, just return this\n",
    "    * If the index array is length 1, then we return current `idx` and the hashed index\n",
    "* Otherwise, we just continue to iterate through `nums`\n",
    "\n",
    "## Time Complexity\n",
    "* $O(2n) = O(n)$ because we pass through the array twice\n",
    "\n",
    "## Space Complexity\n",
    "* $O(n)$ to store the hash map"
   ]
  },
  {
   "cell_type": "code",
   "execution_count": 3,
   "metadata": {},
   "outputs": [],
   "source": [
    "from typing import List\n",
    "\n",
    "class Solution:\n",
    "    def twoSum(self, nums: List[int], target: int) -> List[int]:\n",
    "        if len(nums) == 2:\n",
    "            return [0, 1]\n",
    "        # Two pass hashmap solution\n",
    "        hashmap = {}\n",
    "        \n",
    "        for idx, n in enumerate(nums):\n",
    "            if n not in hashmap:\n",
    "                hashmap[n] = [idx]\n",
    "            else:\n",
    "                hashmap[n].append(idx)\n",
    "        \n",
    "        for idx, n in enumerate(nums):\n",
    "            complement = target - n\n",
    "            if complement in hashmap:\n",
    "                if idx == hashmap[complement][0]:\n",
    "                    continue\n",
    "                elif len(hashmap[complement]) == 2:\n",
    "                    return hashmap[n]\n",
    "                elif len(hashmap) == 1:\n",
    "                    return [idx, hashmap[complement][0]]\n",
    "                else:\n",
    "                    continue"
   ]
  },
  {
   "cell_type": "code",
   "execution_count": null,
   "metadata": {},
   "outputs": [],
   "source": []
  }
 ],
 "metadata": {
  "kernelspec": {
   "display_name": "ml_dev",
   "language": "python",
   "name": "python3"
  },
  "language_info": {
   "codemirror_mode": {
    "name": "ipython",
    "version": 3
   },
   "file_extension": ".py",
   "mimetype": "text/x-python",
   "name": "python",
   "nbconvert_exporter": "python",
   "pygments_lexer": "ipython3",
   "version": "3.10.13"
  }
 },
 "nbformat": 4,
 "nbformat_minor": 2
}
