{
 "cells": [
  {
   "cell_type": "markdown",
   "id": "87dd4b51",
   "metadata": {},
   "source": [
    "# Summary\n",
    "For brute force, it is a recursive implementation where we continuously return the sum of r + 1 and c + 1 answers, which won't be returned until we hit the base cases.\n",
    "\n",
    "The base cases are `1` if right corner is reached and `0` if we've gone over bound.\n",
    "\n",
    "The time complexity of this would be $O(2^{m + n})$ because it would take us m + n steps to get to the lower right corner. And for space complexity it would be the maximum height of the recursive stack which is the total length it takes to reach lower right, so $O(m + n)$\n",
    "\n",
    "And we can optimize this once by realizing that at most elements, we end up calculating the total path twice. So we can create a separate memorization hash where we cache the total number of paths at that element once it's calculated once. This reduces the time complexity to $O(m \\cdot n)$ at the expense of a space complexity of $O(m \\cdot n)$\n",
    "\n",
    "We can further improve this, by starting from the bottom right corner. Then we can work backwards, as in right corner there is only 1 path to reach itself, then the element to its left in the same row, would also only have 1 path to reach that corner, and so on. So the entire last row is all `1`s.\n",
    "\n",
    "Then we memorize this row as \"previous row\" and iterate over to one row higher. And notice that for the most right element it will always only have 1 path (straight down), so we always have that element available. Then we just need to iterate to the left, and add up the paths from the element to the right and element beneath.\n",
    "\n",
    "## Time Complexity\n",
    "$O(m \\cdot n)$ because we still need to traverse every element in the 2D array.\n",
    "\n",
    "## Space Complexity\n",
    "$O(n)$ for storing the previous row which is an array of length $n$ (the number of columns), and also the current row which also is of length $n$."
   ]
  },
  {
   "cell_type": "code",
   "execution_count": null,
   "id": "5dd58f52",
   "metadata": {},
   "outputs": [],
   "source": [
    "class SolutionBottomUp:\n",
    "    def uniquePaths(self, m: int, n: int) -> int:\n",
    "        prevRow = [0] * n\n",
    "\n",
    "        for _ in range(m - 1, -1, -1):\n",
    "            currRow = [0] * n \n",
    "            currRow[-1] = 1\n",
    "\n",
    "            for c in range(n - 2, -1, -1):\n",
    "                currRow[c] = prevRow[c] + currRow[c + 1]\n",
    "            prevRow = currRow\n",
    "        return prevRow[0]"
   ]
  },
  {
   "cell_type": "code",
   "execution_count": null,
   "id": "ccbcf62e",
   "metadata": {},
   "outputs": [],
   "source": [
    "class SolutionTopDown:\n",
    "    def uniquePaths(self, m: int, n: int) -> int:\n",
    "        def find_paths(r, c, rows, cols, cache):\n",
    "            if (r, c) in cache:\n",
    "                return cache[(r, c)]\n",
    "            if r == (rows - 1) and c == (cols - 1):\n",
    "                return 1\n",
    "            \n",
    "            if r >= rows or c >= cols:\n",
    "                return 0\n",
    "            \n",
    "            cache[(r, c)] = find_paths(r + 1, c, rows, cols, cache) + find_paths(r, c + 1, rows, cols, cache)\n",
    "            return cache[(r, c)]\n",
    "        \n",
    "        cache = {}\n",
    "        return find_paths(0, 0, m, n, cache)"
   ]
  },
  {
   "cell_type": "code",
   "execution_count": null,
   "id": "d577d3a1",
   "metadata": {},
   "outputs": [],
   "source": [
    "class SolutionBruteForce:\n",
    "    def uniquePaths(self, m: int, n: int) -> int:\n",
    "        def find_paths(r, c, rows, cols):\n",
    "            if r == (rows - 1) and c == (cols - 1):\n",
    "                return 1\n",
    "            \n",
    "            if r >= rows or c >= cols:\n",
    "                return 0\n",
    "            \n",
    "            return find_paths(r + 1, c, rows, cols) + find_paths(r, c + 1, rows, cols)\n",
    "        \n",
    "        return find_paths(0, 0, m, n)"
   ]
  },
  {
   "cell_type": "markdown",
   "id": "6b8e9851",
   "metadata": {},
   "source": []
  }
 ],
 "metadata": {
  "language_info": {
   "name": "python"
  }
 },
 "nbformat": 4,
 "nbformat_minor": 5
}
