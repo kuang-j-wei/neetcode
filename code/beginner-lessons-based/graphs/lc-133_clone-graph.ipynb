{
 "cells": [
  {
   "cell_type": "markdown",
   "id": "f7b3e573",
   "metadata": {},
   "source": [
    "# Summary\n",
    "\n",
    "Given a node, we will have to traverse through its neighbors. Then we have to make sure that each node is correctly connected.\n",
    "\n",
    "We will first create copies of the nodes, then draw the edges.\n",
    "\n",
    "We first start with the root node. A copy will be created, and the original node will be added to a queue.\n",
    "\n",
    "Then we keep going until the queue is empty, with the inner loop as follows:\n",
    "\n",
    "Loop through the popped node's neighbors.\n",
    "\n",
    "If the neighbor doesn't already have a copy, make one, and add it to the queue. Because this means that this is a new node and edges from it will need to be drawn.\n",
    "\n",
    "Then we append the copied neighbor to the copy's neighbors list.\n",
    "\n",
    "As this continues, all nodes will be copied, and edges will all have been drawn.\n",
    "\n",
    "## Time Complexity\n",
    "$O(V + E)$ where $V$ is the number of nodes, and $E$ is the total number of edges. Creating each copy of the node takes $O(V)$, then the neighbor edge adding process takes $O(E)$\n",
    "\n",
    "## Space Complexity\n",
    "$O(V)$ where $V$ is the number of nodes. Because we are creating a `cloned` dictionary that will be the size of original number of nodes. The `queue` also at worst could grow to the size of all number of nodes."
   ]
  },
  {
   "cell_type": "markdown",
   "id": "0fe3c3f3",
   "metadata": {},
   "source": [
    "### BFS Solution"
   ]
  },
  {
   "cell_type": "code",
   "execution_count": null,
   "id": "46b72d69",
   "metadata": {},
   "outputs": [],
   "source": [
    "from typing import Optional, List\n",
    "from collections import deque\n",
    "\n",
    "\n",
    "class Node:\n",
    "    def __init__(self, val, neighbors: List=[]):\n",
    "        self.val = val\n",
    "        self.neighbors = neighbors\n",
    "\n",
    "class Solution:\n",
    "    def cloneGraph(self, node: Optional['Node']) -> Optional['Node']:\n",
    "        if not node:\n",
    "            return None\n",
    "        else:\n",
    "            new_root = Node(node.val, [])\n",
    "            cloned = dict()\n",
    "            queue = deque()\n",
    "            cloned[node] = new_root\n",
    "            queue.append(node)\n",
    "\n",
    "            while queue:\n",
    "                curr = queue.popleft()\n",
    "                for neighbor in curr.neighbors:\n",
    "                    if neighbor not in cloned:\n",
    "                        cloned[neighbor] = Node(neighbor.val, [])\n",
    "                        queue.append(neighbor)\n",
    "                    copy = cloned[neighbor]\n",
    "                    cloned[curr].neighbors.append(copy)\n",
    "                \n",
    "            return new_root"
   ]
  },
  {
   "cell_type": "markdown",
   "id": "1582061a",
   "metadata": {},
   "source": [
    "### DFS Solution\n",
    "\n",
    "For DFS, we will make the base case such that it returns the copied node.\n",
    "\n",
    "Otherwise, create a copy and add to hash map.\n",
    "\n",
    "Then we will process the passed in node's neighbors, and add each of the copy of its neighbor to the passed in node's copy's neighbors.\n",
    "\n",
    "Once the neighbors loop is done, we can then now return this copy node.\n",
    "\n",
    "## Time Complexity\n",
    "$O(V+E)$ because we still have to process all $V$ nodes and copy all $E$ edges\n",
    "\n",
    "## Space Complexity\n",
    "$O(V)$ because the recursive stack can be as long as the number of nodes (i.e. a linear graph), and also the `cloned` dictionary will also take up space of $O(V)$"
   ]
  },
  {
   "cell_type": "code",
   "execution_count": null,
   "id": "0b91d001",
   "metadata": {},
   "outputs": [],
   "source": [
    "from typing import Optional, List\n",
    "from collections import deque\n",
    "\n",
    "\n",
    "class Node:\n",
    "    def __init__(self, val, neighbors: List=[]):\n",
    "        self.val = val\n",
    "        self.neighbors = neighbors\n",
    "\n",
    "class Solution:\n",
    "    def cloneGraph(self, node: Optional['Node']) -> Optional['Node']:\n",
    "        if not node:\n",
    "            return None\n",
    "        else:\n",
    "            cloned = dict()\n",
    "            \n",
    "            def dfs(node):\n",
    "                if node in cloned:\n",
    "                    return cloned[node]\n",
    "                \n",
    "                copy = Node(node.val, [])\n",
    "                cloned[node] = copy\n",
    "                \n",
    "                for neighbor in node.neighbors:\n",
    "                    copy.neighbors.append(dfs(neighbor))\n",
    "                return copy\n",
    "                    \n",
    "\n",
    "            dfs(node)\n",
    "            return cloned[node]"
   ]
  },
  {
   "cell_type": "code",
   "execution_count": null,
   "id": "273c01f8",
   "metadata": {},
   "outputs": [],
   "source": []
  }
 ],
 "metadata": {
  "language_info": {
   "name": "python"
  }
 },
 "nbformat": 4,
 "nbformat_minor": 5
}
