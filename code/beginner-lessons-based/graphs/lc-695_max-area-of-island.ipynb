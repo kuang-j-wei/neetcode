{
 "cells": [
  {
   "cell_type": "markdown",
   "id": "86ed2b1f",
   "metadata": {},
   "source": [
    "# Summary\n",
    "\n",
    "Search through the entire martrix. And every time we encounter a `1`, we enter a DFS or BFS to search through all connected `1`s. In the meantime convert each `1` into `0` so we don't repeatedly search through and double count. As we convert each `1` into `0` we also make an increment to the area counter.\n",
    "\n",
    "## Time Complexity\n",
    "$O(m \\cdot n)$ because we at worst would have to iterate over every single element\n",
    "\n",
    "## Space Complexity\n",
    "$O(m \\cdot n)$ because the recursive stack can at max be the size of the matrix."
   ]
  },
  {
   "cell_type": "markdown",
   "id": "88c5a7f2",
   "metadata": {},
   "source": [
    "## DFS Approach"
   ]
  },
  {
   "cell_type": "code",
   "execution_count": null,
   "id": "97c3c3ad",
   "metadata": {},
   "outputs": [],
   "source": [
    "from typing import List\n",
    "\n",
    "\n",
    "class Solution:\n",
    "    def maxAreaOfIsland(self, grid: List[List[int]]) -> int:\n",
    "        rows, cols = len(grid), len(grid[0])\n",
    "        max_area = 0\n",
    "\n",
    "        def dfs(r, c, area=0):\n",
    "            if (\n",
    "                min(r, c) < 0\n",
    "                or r >= rows\n",
    "                or c >= cols\n",
    "                or grid[r][c] == 0\n",
    "            ):\n",
    "                return area\n",
    "            \n",
    "            area += 1\n",
    "            grid[r][c] = 0\n",
    "            area = dfs(r + 1, c, area)\n",
    "            area = dfs(r - 1, c, area)\n",
    "            area = dfs(r, c + 1, area)\n",
    "            area = dfs(r, c - 1, area)\n",
    "            return area\n",
    "\n",
    "        for r in range(rows):\n",
    "            for c in range(cols):\n",
    "                if grid[r][c] == 1:\n",
    "                    area = dfs(r, c)\n",
    "                    max_area = max(max_area, area)\n",
    "        return max_area"
   ]
  },
  {
   "cell_type": "markdown",
   "id": "48d7ff19",
   "metadata": {},
   "source": [
    "# Solution - BFS\n",
    "We now instead add all the immediate neighbors into the queue. This way we first explore all immediate neighbors first. Then we move onto the next layer of neighbors to identify any connected `1`s.\n",
    "\n",
    "## Time Complexity\n",
    "Still $O(m \\cdot n)$ because each node can still be visited once\n",
    "\n",
    "## Space Complexity\n",
    "Still $O(m \\cdot n)$ because the length of the queue can get to the size of the matrix"
   ]
  },
  {
   "cell_type": "code",
   "execution_count": null,
   "id": "4acc67da",
   "metadata": {},
   "outputs": [],
   "source": [
    "from typing import List\n",
    "from collections import deque\n",
    "\n",
    "\n",
    "class Solution:\n",
    "    def maxAreaOfIsland(self, grid: List[List[int]]) -> int:\n",
    "        rows, cols = len(grid), len(grid[0])\n",
    "        max_area = 0\n",
    "\n",
    "        def bfs(r, c, area=0):\n",
    "            q = deque()\n",
    "            q.append((r, c, area))\n",
    "\n",
    "            while q:\n",
    "                r, c, area = q.popleft()\n",
    "                if (\n",
    "                    min(r, c) < 0\n",
    "                    or r >= rows\n",
    "                    or c >= cols\n",
    "                    or grid[r][c] == 0\n",
    "                ):\n",
    "                    continue\n",
    "                grid[r][c] = 0\n",
    "                area += 1\n",
    "                q.append((r + 1, c, area))\n",
    "                q.append((r - 1, c, area))\n",
    "                q.append((r, c + 1, area))\n",
    "                q.append((r, c - 1, area))\n",
    "            return area\n",
    "\n",
    "        for r in range(rows):\n",
    "            for c in range(cols):\n",
    "                if grid[r][c] == 1:\n",
    "                    area = bfs(r, c)\n",
    "                    max_area = max(max_area, area)\n",
    "\n",
    "        return max_area"
   ]
  }
 ],
 "metadata": {
  "language_info": {
   "name": "python"
  }
 },
 "nbformat": 4,
 "nbformat_minor": 5
}
