{
 "cells": [
  {
   "cell_type": "markdown",
   "metadata": {},
   "source": [
    "# Solution\n",
    "* We first check if the current node is valid (not Null)\n",
    "* Then we check if we've reached a leaf node and whether the sum is reached\n",
    "* If not, then we know we have a left or/and a right subtree to check, which we can do recursively\n",
    "* Finally, if the left and right subtree both also fail, then we know we've hit a dead-end so we should remove the current node from the sum history, and return False\n",
    "\n",
    "\n",
    "## Time Complexity\n",
    "* $O(n)$ because worst case we would need to visit every single node\n",
    "## Space Complexity\n",
    "* $O(h)$ because the recursive stack could be the height of the tree"
   ]
  },
  {
   "cell_type": "code",
   "execution_count": null,
   "metadata": {},
   "outputs": [],
   "source": [
    "from typing import Optional\n",
    "\n",
    "# Definition for a binary tree node.\n",
    "class TreeNode:\n",
    "    def __init__(self, val=0, left=None, right=None):\n",
    "        self.val = val\n",
    "        self.left = left\n",
    "        self.right = right\n",
    "\n",
    "\n",
    "class Solution:\n",
    "    def hasPathSum(self, root: Optional[TreeNode], targetSum: int) -> bool:\n",
    "        running_sum = 0\n",
    "\n",
    "        def helper(curr, running_sum):\n",
    "            if not curr:\n",
    "                return False\n",
    "\n",
    "            running_sum += curr.val\n",
    "            \n",
    "            if not curr.left and not curr.right and running_sum == targetSum:\n",
    "                return True\n",
    "            \n",
    "            if helper(curr.left, running_sum):\n",
    "                return True\n",
    "            \n",
    "            if helper(curr.right, running_sum):\n",
    "                return True\n",
    "            \n",
    "            running_sum -= curr.val # this means this is not a valid path, so we remove\n",
    "\n",
    "            return False\n",
    "        \n",
    "        return helper(root, running_sum)"
   ]
  },
  {
   "cell_type": "code",
   "execution_count": 16,
   "metadata": {},
   "outputs": [],
   "source": [
    "root = TreeNode(5)\n",
    "root.left = TreeNode(4)\n",
    "root.right = TreeNode(8)\n",
    "root.left.left = TreeNode(11)\n",
    "root.left.left.left = TreeNode(7)\n",
    "root.left.left.right = TreeNode(2)\n",
    "root.right.left = TreeNode(13)\n",
    "root.right.right = TreeNode(4)\n",
    "root.right.right.right = TreeNode(1)"
   ]
  },
  {
   "cell_type": "code",
   "execution_count": 17,
   "metadata": {},
   "outputs": [],
   "source": [
    "s = Solution()"
   ]
  },
  {
   "cell_type": "code",
   "execution_count": 18,
   "metadata": {},
   "outputs": [
    {
     "data": {
      "text/plain": [
       "True"
      ]
     },
     "execution_count": 18,
     "metadata": {},
     "output_type": "execute_result"
    }
   ],
   "source": [
    "s.hasPathSum(root, 22)"
   ]
  },
  {
   "cell_type": "code",
   "execution_count": null,
   "metadata": {},
   "outputs": [],
   "source": []
  }
 ],
 "metadata": {
  "kernelspec": {
   "display_name": "ml_dev",
   "language": "python",
   "name": "python3"
  },
  "language_info": {
   "codemirror_mode": {
    "name": "ipython",
    "version": 3
   },
   "file_extension": ".py",
   "mimetype": "text/x-python",
   "name": "python",
   "nbconvert_exporter": "python",
   "pygments_lexer": "ipython3",
   "version": "3.10.13"
  }
 },
 "nbformat": 4,
 "nbformat_minor": 2
}
