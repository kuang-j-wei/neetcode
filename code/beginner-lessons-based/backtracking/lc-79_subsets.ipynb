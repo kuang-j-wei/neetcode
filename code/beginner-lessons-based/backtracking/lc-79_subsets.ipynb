{
 "cells": [
  {
   "cell_type": "code",
   "execution_count": 42,
   "metadata": {},
   "outputs": [],
   "source": [
    "from typing import List\n",
    "\n",
    "\n",
    "class SolutionDebug:\n",
    "    def subsets(self, nums: List[int]) -> List[List[int]]:\n",
    "        superset = []\n",
    "        subset = []\n",
    "\n",
    "        def dfs(i):\n",
    "            if i == len(nums):\n",
    "                print(f\"[ dfs({i}) ] Leaf node reached, appending {subset} to superset\")\n",
    "                superset.append(subset.copy())\n",
    "                return\n",
    "            \n",
    "            # include nums[i]\n",
    "            print(f\"[ dfs({i}) ] Appending subset {subset}.append({nums[i]}) = {subset + [nums[i]]}\")\n",
    "            subset.append(nums[i])\n",
    "            print(f\"[ dfs({i}) ] Entering dfs({i + 1}) with subset = {subset}\")\n",
    "            dfs(i + 1)\n",
    "\n",
    "            # don't include\n",
    "            print(f\"[ dfs({i}) ] Popping subset {subset}.pop() = {subset[:-1]}\")\n",
    "            subset.pop()\n",
    "            print(f\"[ dfs({i}) ] Entering into dfs({i + 1}) with subset = {subset}\")\n",
    "            dfs(i + 1)\n",
    "\n",
    "        dfs(0)\n",
    "        return superset\n"
   ]
  },
  {
   "cell_type": "code",
   "execution_count": 43,
   "metadata": {},
   "outputs": [],
   "source": [
    "from typing import List\n",
    "\n",
    "\n",
    "class Solution:\n",
    "    def subsets(self, nums: List[int]) -> List[List[int]]:\n",
    "        superset = []\n",
    "        subset = []\n",
    "\n",
    "        def dfs(i):\n",
    "            if i == len(nums):\n",
    "                superset.append(subset.copy())\n",
    "                return\n",
    "            \n",
    "            # include nums[i]\n",
    "            subset.append(nums[i])\n",
    "            dfs(i + 1)\n",
    "\n",
    "            # don't include\n",
    "            subset.pop()\n",
    "            dfs(i + 1)\n",
    "\n",
    "        dfs(0)\n",
    "        return superset\n"
   ]
  },
  {
   "cell_type": "code",
   "execution_count": 44,
   "metadata": {},
   "outputs": [
    {
     "name": "stdout",
     "output_type": "stream",
     "text": [
      "[ dfs(0) ] Appending subset [].append(1) = [1]\n",
      "[ dfs(0) ] Entering dfs(1) with subset = [1]\n",
      "[ dfs(1) ] Appending subset [1].append(2) = [1, 2]\n",
      "[ dfs(1) ] Entering dfs(2) with subset = [1, 2]\n",
      "[ dfs(2) ] Appending subset [1, 2].append(3) = [1, 2, 3]\n",
      "[ dfs(2) ] Entering dfs(3) with subset = [1, 2, 3]\n",
      "[ dfs(3) ] Leaf node reached, appending [1, 2, 3] to superset\n",
      "[ dfs(2) ] Popping subset [1, 2, 3].pop() = [1, 2]\n",
      "[ dfs(2) ] Entering into dfs(3) with subset = [1, 2]\n",
      "[ dfs(3) ] Leaf node reached, appending [1, 2] to superset\n",
      "[ dfs(1) ] Popping subset [1, 2].pop() = [1]\n",
      "[ dfs(1) ] Entering into dfs(2) with subset = [1]\n",
      "[ dfs(2) ] Appending subset [1].append(3) = [1, 3]\n",
      "[ dfs(2) ] Entering dfs(3) with subset = [1, 3]\n",
      "[ dfs(3) ] Leaf node reached, appending [1, 3] to superset\n",
      "[ dfs(2) ] Popping subset [1, 3].pop() = [1]\n",
      "[ dfs(2) ] Entering into dfs(3) with subset = [1]\n",
      "[ dfs(3) ] Leaf node reached, appending [1] to superset\n",
      "[ dfs(0) ] Popping subset [1].pop() = []\n",
      "[ dfs(0) ] Entering into dfs(1) with subset = []\n",
      "[ dfs(1) ] Appending subset [].append(2) = [2]\n",
      "[ dfs(1) ] Entering dfs(2) with subset = [2]\n",
      "[ dfs(2) ] Appending subset [2].append(3) = [2, 3]\n",
      "[ dfs(2) ] Entering dfs(3) with subset = [2, 3]\n",
      "[ dfs(3) ] Leaf node reached, appending [2, 3] to superset\n",
      "[ dfs(2) ] Popping subset [2, 3].pop() = [2]\n",
      "[ dfs(2) ] Entering into dfs(3) with subset = [2]\n",
      "[ dfs(3) ] Leaf node reached, appending [2] to superset\n",
      "[ dfs(1) ] Popping subset [2].pop() = []\n",
      "[ dfs(1) ] Entering into dfs(2) with subset = []\n",
      "[ dfs(2) ] Appending subset [].append(3) = [3]\n",
      "[ dfs(2) ] Entering dfs(3) with subset = [3]\n",
      "[ dfs(3) ] Leaf node reached, appending [3] to superset\n",
      "[ dfs(2) ] Popping subset [3].pop() = []\n",
      "[ dfs(2) ] Entering into dfs(3) with subset = []\n",
      "[ dfs(3) ] Leaf node reached, appending [] to superset\n"
     ]
    }
   ],
   "source": [
    "nums = [1, 2, 3]\n",
    "s = SolutionDebug()\n",
    "superset = s.subsets(nums)"
   ]
  },
  {
   "cell_type": "markdown",
   "metadata": {},
   "source": [
    "![illustration](./lc-79-illustration.png)"
   ]
  }
 ],
 "metadata": {
  "kernelspec": {
   "display_name": "ml_dev",
   "language": "python",
   "name": "python3"
  },
  "language_info": {
   "codemirror_mode": {
    "name": "ipython",
    "version": 3
   },
   "file_extension": ".py",
   "mimetype": "text/x-python",
   "name": "python",
   "nbconvert_exporter": "python",
   "pygments_lexer": "ipython3",
   "version": "3.10.13"
  }
 },
 "nbformat": 4,
 "nbformat_minor": 2
}
