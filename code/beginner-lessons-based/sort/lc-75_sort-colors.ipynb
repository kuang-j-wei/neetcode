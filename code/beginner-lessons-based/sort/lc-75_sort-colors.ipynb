{
 "cells": [
  {
   "cell_type": "markdown",
   "metadata": {},
   "source": [
    "# Bucket Sort Solution\n",
    "* Since we know there are only 3 unique values, and the unique values are already ordered as 0, 1, 2\n",
    "* Then we do one pass just to count how many times each unique value appeared\n",
    "* Then we fill out the array based on the appearance count\n",
    "\n",
    "## Time complexity\n",
    "* O(n) because we pass by twice\n",
    "## Space complexity\n",
    "* O(1) because no additional memory used"
   ]
  },
  {
   "cell_type": "code",
   "execution_count": 14,
   "metadata": {},
   "outputs": [],
   "source": [
    "from typing import List\n",
    "\n",
    "\n",
    "class Solution:\n",
    "    def sortColors(self, nums: List[int]) -> None:\n",
    "        \"\"\"\n",
    "        Do not return anything, modify nums in-place instead.\n",
    "        \"\"\"\n",
    "        counter = [0, 0, 0]\n",
    "        for n in nums:\n",
    "            counter[n] += 1\n",
    "        \n",
    "        start = 0\n",
    "        for color, count in enumerate(counter):\n",
    "            for i in range(start, start + count, 1):\n",
    "                nums[i] = color\n",
    "            start += count\n",
    "        return nums"
   ]
  },
  {
   "cell_type": "code",
   "execution_count": 15,
   "metadata": {},
   "outputs": [
    {
     "data": {
      "text/plain": [
       "[0, 0, 1, 1, 2, 2]"
      ]
     },
     "execution_count": 15,
     "metadata": {},
     "output_type": "execute_result"
    }
   ],
   "source": [
    "s = Solution()\n",
    "nums = [2,0,2,1,1,0]\n",
    "s.sortColors(nums)"
   ]
  },
  {
   "cell_type": "markdown",
   "metadata": {},
   "source": [
    "# Dijkstra solution\n",
    "\n",
    "* We initialize a p0 pointer to be at the beginning - right most boundary of 0s\n",
    "* We initialize a p2 pointer to be at the end - left most boundary of 2s\n",
    "* A `curr` pointer\n",
    "* The idea is to populate anything lower than p0 with zeros and advance the 0 boundary as we go, and do the same strategy for 2s\n",
    "* In practice, if `curr` is 2 then we swap with where `p2` is, and lower `p2` by one (since we just got a new 2)\n",
    "  * We don't advance `curr` because this new number could be 1\n",
    "* If `curr` is 0, then we also swap with where `p0` is, and we advance both pointer\n",
    "  * Because now we've filled the 0 spot, and there can't be anything lower than a 0, thus we can move up `curr` as well\n",
    "* If `curr` is 1, we just do nothing and increment `curr`\n",
    "\n"
   ]
  },
  {
   "cell_type": "code",
   "execution_count": null,
   "metadata": {},
   "outputs": [],
   "source": [
    "from typing import List, int\n",
    "\n",
    "\n",
    "class Solution:\n",
    "    def sortColors(self, nums: List[int]) -> None:\n",
    "        p0 = 0\n",
    "        p2 = len(nums) - 1\n",
    "        curr = 0\n",
    "\n",
    "        while curr <= p2:\n",
    "            if nums[curr] == 2:\n",
    "                nums[curr], nums[p2] = nums[p2], nums[curr]\n",
    "                p2 -= 1\n",
    "            elif nums[curr] == 0:\n",
    "                nums[curr], nums[p0] = nums[p0], nums[curr]\n",
    "                p0 += 1\n",
    "                curr += 1\n",
    "            else:\n",
    "                curr += 1\n",
    "        return nums"
   ]
  }
 ],
 "metadata": {
  "kernelspec": {
   "display_name": "ml_dev",
   "language": "python",
   "name": "python3"
  },
  "language_info": {
   "codemirror_mode": {
    "name": "ipython",
    "version": 3
   },
   "file_extension": ".py",
   "mimetype": "text/x-python",
   "name": "python",
   "nbconvert_exporter": "python",
   "pygments_lexer": "ipython3",
   "version": "3.10.13"
  }
 },
 "nbformat": 4,
 "nbformat_minor": 2
}
