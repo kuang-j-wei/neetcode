{
 "cells": [
  {
   "cell_type": "code",
   "execution_count": 1,
   "metadata": {},
   "outputs": [],
   "source": [
    "from collections import deque"
   ]
  },
  {
   "cell_type": "markdown",
   "metadata": {},
   "source": [
    "# Core Principal\n",
    "The core principal of this problem is to *reverse order*\n",
    "\n",
    "Because for a Queue it's the head (the first in) that needs to leave first. While for a Stack it's the tail (the last in) that needs to leave first.\n",
    "\n",
    "So appending operation it's fine, but popping, we have to find a way to get to the end and release that end node instead, which will always take O(n)."
   ]
  },
  {
   "cell_type": "markdown",
   "metadata": {},
   "source": [
    "# One single Queue version\n",
    "\n",
    "## Explanation\n",
    "Every time we pop from the back, we just need to keep popping from the front to until we get to the last element"
   ]
  },
  {
   "cell_type": "code",
   "execution_count": 2,
   "metadata": {},
   "outputs": [],
   "source": [
    "from collections import deque\n",
    "\n",
    "class MyStack:\n",
    "    def __init__(self):\n",
    "        self.queue = deque()\n",
    "        self.top_val = None\n",
    "\n",
    "    def push(self, x: int) -> None:\n",
    "        self.queue.append(x)\n",
    "        self.top_val = x\n",
    "\n",
    "    def pop(self) -> int:\n",
    "        for i in range(len(self.queue) - 1):\n",
    "            self.push(self.queue.popleft())\n",
    "        val = self.queue.popleft()\n",
    "        return \n",
    "\n",
    "    def top(self) -> int:\n",
    "        return self.top_val\n",
    "\n",
    "    def empty(self) -> bool:\n",
    "        return True if len(self.queue) == 0 else False"
   ]
  },
  {
   "cell_type": "markdown",
   "metadata": {},
   "source": [
    "# Two Queues version\n",
    "## Pop O(n), push O(1)"
   ]
  },
  {
   "cell_type": "code",
   "execution_count": null,
   "metadata": {},
   "outputs": [],
   "source": [
    "from collections import deque\n",
    "\n",
    "class MyStack:\n",
    "    def __init__(self):\n",
    "        self.queue= deque()\n",
    "        self.top_val = None\n",
    "\n",
    "    def push(self, x: int) -> None:\n",
    "        self.queue.append(x)\n",
    "        self.top_val = x\n",
    "\n",
    "    def pop(self) -> int:\n",
    "        q2 = deque()\n",
    "        while len(self.queue) > 1:\n",
    "            val = self.queue.popleft()\n",
    "            self.top_val = val\n",
    "            q2.append(val)\n",
    "        val = self.queue.popleft()\n",
    "        self.queue = q2\n",
    "        return val\n",
    "\n",
    "    def top(self) -> int:\n",
    "        return self.top_val\n",
    "\n",
    "    def empty(self) -> bool:\n",
    "        return True if len(self.queue) == 0 else False"
   ]
  },
  {
   "cell_type": "markdown",
   "metadata": {},
   "source": [
    "# Two Queues version\n",
    "## Push O(n), pop O(1)\n",
    "\n",
    "Always keep a reversed list. Then when a new value gets added, we will just directly append the new value, by popping left from the reversed list."
   ]
  },
  {
   "cell_type": "code",
   "execution_count": 4,
   "metadata": {},
   "outputs": [],
   "source": [
    "from collections import deque\n",
    "\n",
    "class MyStack:\n",
    "    def __init__(self):\n",
    "        self.reversed = deque()\n",
    "        self.top_val = None\n",
    "\n",
    "    def push(self, x: int) -> None:\n",
    "        self.temp_queue = deque([x])\n",
    "        while len(self.reversed) > 0:\n",
    "            self.temp_queue.append(self.reversed.popleft())\n",
    "        self.reversed = self.temp_queue\n",
    "\n",
    "    def pop(self) -> int:\n",
    "        val = self.reversed.popleft()\n",
    "        return val\n",
    "\n",
    "    def top(self) -> int:\n",
    "        return self.reversed[0]\n",
    "\n",
    "    def empty(self) -> bool:\n",
    "        return True if len(self.reversed) == 0 else False"
   ]
  },
  {
   "cell_type": "markdown",
   "metadata": {},
   "source": [
    "# Revere List Method\n",
    "\n",
    "## Explanation\n",
    "\n",
    "The append operation is the same between stack and queue. Both just appending from the right. But for a Queue, the head is the one that gets popped\n",
    "\n",
    "So we just reverse the order every time a new element gets added\n",
    "\n",
    "Technically not quite right since I used a temp array to do this"
   ]
  },
  {
   "cell_type": "code",
   "execution_count": 26,
   "metadata": {},
   "outputs": [],
   "source": [
    "from collections import deque\n",
    "\n",
    "class MyStack:\n",
    "\n",
    "    def __init__(self):\n",
    "        self.left_queue = deque()\n",
    "\n",
    "    def push(self, x: int) -> None:\n",
    "        self.left_queue.append(x)\n",
    "        temp_list = []\n",
    "        self.right_queue = deque()\n",
    "\n",
    "        n = 0\n",
    "        for val in self.left_queue:\n",
    "            temp_list.append(val)\n",
    "            n += 1\n",
    "                \n",
    "        for idx in range(n):\n",
    "            if idx == 0:\n",
    "                continue\n",
    "            self.right_queue.append(temp_list[-idx])\n",
    "        self.right_queue.append(self.left_queue[0])\n",
    "\n",
    "    def pop(self) -> int:\n",
    "        if self.empty():\n",
    "            return None\n",
    "        val = self.right_queue.popleft()\n",
    "        _ = self.left_queue.pop()\n",
    "        return val\n",
    "\n",
    "    def top(self) -> int:\n",
    "        return self.right_queue[0]\n",
    "\n",
    "    def empty(self) -> bool:\n",
    "        return True if len(self.left_queue) == 0 else False"
   ]
  },
  {
   "cell_type": "markdown",
   "metadata": {},
   "source": []
  }
 ],
 "metadata": {
  "kernelspec": {
   "display_name": "ml_dev",
   "language": "python",
   "name": "python3"
  },
  "language_info": {
   "codemirror_mode": {
    "name": "ipython",
    "version": 3
   },
   "file_extension": ".py",
   "mimetype": "text/x-python",
   "name": "python",
   "nbconvert_exporter": "python",
   "pygments_lexer": "ipython3",
   "version": "3.10.13"
  }
 },
 "nbformat": 4,
 "nbformat_minor": 2
}
