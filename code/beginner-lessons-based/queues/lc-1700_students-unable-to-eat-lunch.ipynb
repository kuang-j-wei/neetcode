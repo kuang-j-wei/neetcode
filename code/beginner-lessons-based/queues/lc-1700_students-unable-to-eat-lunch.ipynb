{
 "cells": [
  {
   "cell_type": "markdown",
   "metadata": {},
   "source": [
    "# Dict Lookup method\n",
    "\n",
    "We know that we are \"blocked\" by the head of the sandwich.\n",
    "\n",
    "So if we've exhausted all students whose preference match to the head, then we are out of options.\n",
    "\n",
    "So what we can do is to create a dictionary to record the count of students with their preference.\n",
    "\n",
    "Then we loop through the sandwiches, decrement each matched student. And if we find out that the corresponding student preference has run out, we then stop the loop\n",
    "\n",
    "At the end, we can just return, what is the number of students left (by adding up the dictionary values, or always keep a counter of student length and sandwiches consumed.)\n",
    "\n",
    "## Complexity\n",
    "O(n) to loop through students and sandwiches. No additional space complexity needed."
   ]
  },
  {
   "cell_type": "code",
   "execution_count": null,
   "metadata": {},
   "outputs": [],
   "source": [
    "class Solution:\n",
    "    def countStudents(self, students: List[int], sandwiches: List[int]) -> int:\n",
    "        student_map = {1: 0, 0:0}\n",
    "        length = 0\n",
    "        \n",
    "        for student in students:\n",
    "            student_map[student] += 1\n",
    "            length += 1\n",
    "        \n",
    "        consumed = 0\n",
    "        for sw in sandwiches:\n",
    "            if student_map[sw] > 0:\n",
    "                student_map[sw] -= 1\n",
    "                consumed += 1\n",
    "            else:\n",
    "                break\n",
    "        return (length - consumed)"
   ]
  },
  {
   "cell_type": "markdown",
   "metadata": {},
   "source": [
    "O(n) time complexity, no space needed"
   ]
  },
  {
   "cell_type": "markdown",
   "metadata": {},
   "source": [
    "# Queue and Stack method\n",
    "\n",
    "For each sandwich, we rotate the queue until every one had been through it\n",
    "\n",
    "So for every sandwich, we try to loop through all students\n",
    "\n",
    "We keep a counter to make sure that we at most only loop through the students once\n",
    "\n",
    "Then if the counter reaches the length of students, we know that we've exhausted all matches, and we just return the current length of students.\n",
    "\n",
    "Otherwise if we match, we go back into the sandwich loop\n",
    "\n",
    "If the student counter never reaches the length of students, then we know that we actually finished all matches, thus the answqer is zero.\n",
    "\n",
    "## Complexity\n",
    "It's at worst O(m x n) time, where `m` and `n` are the lengths of `students` and `sandwiches`. So at worst `O(n^2)`.\n",
    "\n",
    "The space complexity is just O(n), since we don't create any additional memory."
   ]
  },
  {
   "cell_type": "code",
   "execution_count": null,
   "metadata": {},
   "outputs": [],
   "source": [
    "from collections import deque\n",
    "\n",
    "class Solution:\n",
    "    def countStudents(self, students: List[int], sandwiches: List[int]) -> int:\n",
    "        students = deque(students)\n",
    "        sandwiches = deque(sandwiches)\n",
    "        n = len(students)\n",
    "\n",
    "        while sandwiches:\n",
    "            sandwich = sandwiches.popleft()\n",
    "            i = 0\n",
    "            \n",
    "            while students:\n",
    "                student = students.popleft()\n",
    "                i += 1\n",
    "                if student == sandwich:\n",
    "                    n -= 1\n",
    "                    break\n",
    "                else:\n",
    "                    students.append(student)\n",
    "                if i == n:\n",
    "                    return n\n",
    "        return 0"
   ]
  },
  {
   "cell_type": "code",
   "execution_count": 1,
   "metadata": {},
   "outputs": [],
   "source": [
    "students = [1,1,1,0,0,1]"
   ]
  },
  {
   "cell_type": "code",
   "execution_count": 2,
   "metadata": {},
   "outputs": [],
   "source": [
    "sandwiches = [1,0,0,0,1,1]"
   ]
  },
  {
   "cell_type": "code",
   "execution_count": 16,
   "metadata": {},
   "outputs": [],
   "source": [
    "student_map = {1: 0, 0:0}\n",
    "length = 0\n",
    "\n",
    "for student in students:\n",
    "    student_map[student] += 1\n",
    "    length += 1\n"
   ]
  },
  {
   "cell_type": "code",
   "execution_count": 17,
   "metadata": {},
   "outputs": [
    {
     "data": {
      "text/plain": [
       "{1: 4, 0: 2}"
      ]
     },
     "execution_count": 17,
     "metadata": {},
     "output_type": "execute_result"
    }
   ],
   "source": [
    "student_map"
   ]
  },
  {
   "cell_type": "code",
   "execution_count": 18,
   "metadata": {},
   "outputs": [
    {
     "name": "stdout",
     "output_type": "stream",
     "text": [
      "incoming 1\n",
      "{1: 3, 0: 2}\n",
      "\n",
      "incoming 0\n",
      "{1: 3, 0: 1}\n",
      "\n",
      "incoming 0\n",
      "{1: 3, 0: 0}\n",
      "\n"
     ]
    }
   ],
   "source": [
    "\n",
    "consumed = 0\n",
    "for sw in sandwiches:\n",
    "    if student_map[sw] > 0:\n",
    "        student_map[sw] -= 1\n",
    "        print(f\"incoming {sw}\")\n",
    "        print(student_map)\n",
    "        print(\"\")\n",
    "        consumed += 1\n",
    "    else:\n",
    "        break"
   ]
  }
 ],
 "metadata": {
  "kernelspec": {
   "display_name": "ml_dev",
   "language": "python",
   "name": "python3"
  },
  "language_info": {
   "codemirror_mode": {
    "name": "ipython",
    "version": 3
   },
   "file_extension": ".py",
   "mimetype": "text/x-python",
   "name": "python",
   "nbconvert_exporter": "python",
   "pygments_lexer": "ipython3",
   "version": "3.10.13"
  }
 },
 "nbformat": 4,
 "nbformat_minor": 2
}
