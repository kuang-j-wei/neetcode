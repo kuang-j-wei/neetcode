{
 "cells": [
  {
   "cell_type": "markdown",
   "metadata": {},
   "source": [
    "# Solution\n",
    "* We will search from mid point\n",
    "* One note is that when the current number is bad, we can't just rule it out (because it might just be the exact bad point)\n",
    "* So we need to move right pointer to this exact point, instead of skipping to one lower\n",
    "* If a number is good, we can safely skip over it, so we move left pointer to this point plus 1\n",
    "* We terminate once we narrow down to a single number, which is when r and l are equal\n",
    "\n",
    "## Time Complexity\n",
    "* O(log(n)) because we divide in half each time"
   ]
  },
  {
   "cell_type": "code",
   "execution_count": null,
   "metadata": {},
   "outputs": [],
   "source": [
    "# The isBadVersion API is already defined for you.\n",
    "# def isBadVersion(version: int) -> bool:\n",
    "\n",
    "class Solution:\n",
    "    def firstBadVersion(self, n: int) -> int:\n",
    "        # we can divide and conquer\n",
    "        # start from the half, if it's not yet bad\n",
    "        # the we know it's in the next half\n",
    "        # if it's already bad, we go to the previous half\n",
    "        # we need to do this until we are down to 1\n",
    "        l, r = 1, n\n",
    "\n",
    "        while (r - l) >= 0:\n",
    "            if r - l == 0:\n",
    "                mid = r\n",
    "                break    \n",
    "            mid = (l + r) // 2\n",
    "            if isBadVersion(mid):\n",
    "                r = mid\n",
    "            else:\n",
    "                l = mid + 1\n",
    "        return mid"
   ]
  }
 ],
 "metadata": {
  "language_info": {
   "name": "python"
  }
 },
 "nbformat": 4,
 "nbformat_minor": 2
}
