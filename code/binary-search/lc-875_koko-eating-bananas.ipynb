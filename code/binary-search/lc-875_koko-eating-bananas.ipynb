{
 "cells": [
  {
   "cell_type": "markdown",
   "metadata": {},
   "source": [
    "# Solution\n",
    "* The maximum speed we would possibly need is the maximum value of `piles`\n",
    "* The minimum is just to eat 1 banana every hour\n",
    "* We can count up the total number of hours taken by iterating over `piles`, and `Sum(DivideRoundUp(pile))`\n",
    "* This operation takes O(n)\n",
    "* Then we can use divide and conquer approach so we would at must need to try log(n) time\n",
    "* Then we can do this problem in O(n * log(n)) time\n",
    "* So we will write a function to determine whether the total hour is below or at-or-above the required hour threshold\n",
    "* If the total hour exceeds the threshold, we know we ate too slow, and we need to search at a higher number, and we can safely skip over the current mid point (the current guess)\n",
    "* If it's right at or below the threshold, then we should try to see if we can go even lower. So keep the current as the right boundary\n",
    "* We can terminate the loop once we only have one single value left, then we know we have searched through all possible space, and we can return either the left or right pointer\n",
    "\n",
    "## Time Complexity\n",
    "* O(n + log(n) * n); first time to find maximum value, log(n) is the binary search term, and n is the individual pass calculation\n",
    "\n",
    "## Space Complexity\n",
    "* O(1) because no additional space was used"
   ]
  },
  {
   "cell_type": "code",
   "execution_count": 2,
   "metadata": {},
   "outputs": [],
   "source": [
    "from typing import List\n",
    "\n",
    "class Solution:\n",
    "    def minEatingSpeed(self, piles: List[int], h: int) -> int:\n",
    "        minimum, maximum = 1, max(piles)\n",
    "\n",
    "        # guess in the middle, if -1 (not enough), then\n",
    "        # we know we have to go to a higher k\n",
    "        # if 1 (ate very fast), then we can go lower\n",
    "        # if we get 0, then we can stop\n",
    "        while minimum < maximum:\n",
    "            mid = (maximum + minimum) // 2\n",
    "            result = self.tooHighTooLow(piles, mid, h)\n",
    "            if result == -1:\n",
    "                minimum = mid + 1\n",
    "            elif result == 1:\n",
    "                maximum = mid\n",
    "\n",
    "        return minimum\n",
    "         \n",
    "    def tooHighTooLow(self, piles, k, h):\n",
    "        hour_sum = 0\n",
    "\n",
    "        for pile in piles:\n",
    "            hours = self.roundUpDivision(pile, k)\n",
    "            hour_sum += hours\n",
    "        \n",
    "        if h < hour_sum:\n",
    "            return -1\n",
    "        else:\n",
    "            return 1\n",
    "\n",
    "\n",
    "    def roundUpDivision(self, numerator, denominator):\n",
    "        return (numerator + denominator - 1) // denominator"
   ]
  },
  {
   "cell_type": "code",
   "execution_count": 3,
   "metadata": {},
   "outputs": [
    {
     "data": {
      "text/plain": [
       "2"
      ]
     },
     "execution_count": 3,
     "metadata": {},
     "output_type": "execute_result"
    }
   ],
   "source": [
    "s = Solution()\n",
    "piles = [312884470]\n",
    "s.minEatingSpeed(piles, 312884469)"
   ]
  },
  {
   "cell_type": "code",
   "execution_count": null,
   "metadata": {},
   "outputs": [],
   "source": []
  }
 ],
 "metadata": {
  "kernelspec": {
   "display_name": "ml_dev",
   "language": "python",
   "name": "python3"
  },
  "language_info": {
   "codemirror_mode": {
    "name": "ipython",
    "version": 3
   },
   "file_extension": ".py",
   "mimetype": "text/x-python",
   "name": "python",
   "nbconvert_exporter": "python",
   "pygments_lexer": "ipython3",
   "version": "3.10.13"
  }
 },
 "nbformat": 4,
 "nbformat_minor": 2
}
