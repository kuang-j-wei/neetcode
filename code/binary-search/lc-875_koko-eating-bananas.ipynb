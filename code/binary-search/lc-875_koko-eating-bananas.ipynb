{
 "cells": [
  {
   "cell_type": "markdown",
   "metadata": {},
   "source": [
    "# Solution"
   ]
  },
  {
   "cell_type": "code",
   "execution_count": 32,
   "metadata": {},
   "outputs": [],
   "source": [
    "from typing import List\n",
    "\n",
    "class Solution:\n",
    "    def minEatingSpeed(self, piles: List[int], h: int) -> int:\n",
    "        minimum, maximum = 1, max(piles)\n",
    "\n",
    "        # guess in the middle, if -1 (not enough), then\n",
    "        # we know we have to go to a higher k\n",
    "        # if 1 (ate very fast), then we can go lower\n",
    "        # if we get 0, then we can stop\n",
    "        print(f\"Min = {minimum}; Max = {maximum}\")\n",
    "        while minimum <= maximum:\n",
    "            mid = (maximum + minimum) // 2\n",
    "            print(f\"Guessing {mid} and see how many hours it would take:\") \n",
    "            result = self.tooHighTooLow(piles, mid, h)\n",
    "            print(f\"Guessing {mid} and got {result}\") \n",
    "            if result == -1:\n",
    "                minimum = mid + 1\n",
    "            elif result == 1:\n",
    "                maximum = mid - 1\n",
    "\n",
    "        return minimum\n",
    "         \n",
    "    def tooHighTooLow(self, piles, k, h):\n",
    "        hour_sum = 0\n",
    "\n",
    "        for pile in piles:\n",
    "            hours = self.roundUpDivision(pile, k)\n",
    "            print(f\"For this pile {pile} at a speed of {k} we need {hours}\")\n",
    "            hour_sum += hours\n",
    "        \n",
    "        if h < hour_sum:\n",
    "            print(f\"Since {h} < {hour_sum}, returning -1\")\n",
    "            return -1\n",
    "        else:\n",
    "            print(f\"Since {h} > {hour_sum}, returning 1\")\n",
    "            return 1\n",
    "\n",
    "\n",
    "    def roundUpDivision(self, numerator, denominator):\n",
    "        return (numerator + denominator - 1) // denominator"
   ]
  },
  {
   "cell_type": "code",
   "execution_count": 34,
   "metadata": {},
   "outputs": [
    {
     "name": "stdout",
     "output_type": "stream",
     "text": [
      "Min = 312884470; Max = 312884470\n"
     ]
    },
    {
     "data": {
      "text/plain": [
       "312884470"
      ]
     },
     "execution_count": 34,
     "metadata": {},
     "output_type": "execute_result"
    }
   ],
   "source": [
    "s = Solution()\n",
    "piles = [312884470]\n",
    "s.minEatingSpeed(piles, 312884469)"
   ]
  },
  {
   "cell_type": "code",
   "execution_count": null,
   "metadata": {},
   "outputs": [
    {
     "name": "stdout",
     "output_type": "stream",
     "text": [
      "For this pile 30 at a speed of 23 we need 2\n",
      "For this pile 11 at a speed of 23 we need 1\n",
      "For this pile 23 at a speed of 23 we need 1\n",
      "For this pile 4 at a speed of 23 we need 1\n",
      "For this pile 20 at a speed of 23 we need 1\n",
      "Since 6 == 6, returning 0\n"
     ]
    },
    {
     "data": {
      "text/plain": [
       "0"
      ]
     },
     "execution_count": 19,
     "metadata": {},
     "output_type": "execute_result"
    }
   ],
   "source": [
    "s.tooHighTooLow(piles, 23, 6)"
   ]
  },
  {
   "cell_type": "code",
   "execution_count": null,
   "metadata": {},
   "outputs": [],
   "source": []
  }
 ],
 "metadata": {
  "kernelspec": {
   "display_name": "ml_dev",
   "language": "python",
   "name": "python3"
  },
  "language_info": {
   "codemirror_mode": {
    "name": "ipython",
    "version": 3
   },
   "file_extension": ".py",
   "mimetype": "text/x-python",
   "name": "python",
   "nbconvert_exporter": "python",
   "pygments_lexer": "ipython3",
   "version": "3.10.13"
  }
 },
 "nbformat": 4,
 "nbformat_minor": 2
}
