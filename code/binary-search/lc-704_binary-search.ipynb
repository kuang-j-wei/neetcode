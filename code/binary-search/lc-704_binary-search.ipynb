{
 "cells": [
  {
   "cell_type": "markdown",
   "metadata": {},
   "source": [
    "# Binary Search\n",
    "* Set a mid point and if the target number is greater than the mid point, search the remaining right; left otherwise (and return if matched)\n",
    "* The last case would be L, R, and midpoint are all pointing at the same element. If this case still doesn't match, then we L and R would cross over, and we know that the value doesn't exist and we can exit the loop\n",
    "\n",
    "## Time Complexity\n",
    "* $O(\\log{n})$ because the max depth of the search tree is $\\log{n}$\n",
    "## Space Complexity\n",
    "* $O(1)$ because no additional space is used"
   ]
  },
  {
   "cell_type": "code",
   "execution_count": null,
   "metadata": {},
   "outputs": [],
   "source": [
    "from typing import List\n",
    "\n",
    "\n",
    "class Solution:\n",
    "    def search(self, nums: List[int], target: int) -> int:\n",
    "        l = 0\n",
    "        r = len(nums) - 1\n",
    "        \n",
    "        while l <= r:\n",
    "            m = (r + l) // 2\n",
    "            num = nums[m]\n",
    "\n",
    "            if num > target:\n",
    "                r = m - 1\n",
    "            elif num < target:\n",
    "                l = m + 1\n",
    "            else:\n",
    "                return m\n",
    "        return -1"
   ]
  },
  {
   "cell_type": "code",
   "execution_count": null,
   "metadata": {},
   "outputs": [],
   "source": []
  }
 ],
 "metadata": {
  "language_info": {
   "name": "python"
  }
 },
 "nbformat": 4,
 "nbformat_minor": 2
}
