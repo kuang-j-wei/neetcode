{
 "cells": [
  {
   "cell_type": "markdown",
   "metadata": {},
   "source": [
    "# Brute force solution\n",
    "\n",
    "* For a preorder array, the first element is always the root node, and everything that follows is a child node\n",
    "* Then the problem is to determine - what portion of this is the left and what portion is the right\n",
    "* But we can infer this from the inorder array\n",
    "* We know the root of the tree, so we can just traverse through the inorder array to find this value, call it index `m`\n",
    "* Then we know that everything to the left is the left portion, and everything to the right is the right portion\n",
    "* Then we know that the left `preorder` left sub tree is this `preorder` array up to this length, and the `inorder` array is also up to this length\n",
    "* We can then recursively call ourself again to build out a left and right subtrees and link them as the left and right child for the root node\n",
    "* Finally we just return out original root node as the tree node\n",
    "\n",
    "## Time Complexity\n",
    "* O(n^2) because every time we recursively call ourself we have to iterate the length of the input list again\n",
    "\n",
    "## Space Complexity\n",
    "* O(n) for the recursive stacks that can be up to `n`"
   ]
  },
  {
   "cell_type": "code",
   "execution_count": null,
   "metadata": {},
   "outputs": [],
   "source": [
    "from typing import List, Optional\n",
    "\n",
    "class TreeNode:\n",
    "    def __init__(self, val=0, left=None, right=None):\n",
    "        self.val = val\n",
    "        self.left = left\n",
    "        self.right = right\n",
    "\n",
    "\n",
    "class Solution:\n",
    "    def buildTree(self, preorder: List[int], inorder: List[int]) -> Optional[TreeNode]:\n",
    "        if not preorder or not inorder:\n",
    "            return None\n",
    "        \n",
    "        root = TreeNode(preorder[0])\n",
    "        \n",
    "        for m in range(len(preorder)):\n",
    "            if root.val == inorder[m]:\n",
    "                break\n",
    "        \n",
    "        root.left = self.buildTree(preorder[1:m + 1], inorder[:m])\n",
    "        root.right = self.buildTree(preorder[m+1:], inorder[m+1:])\n",
    "        return root\n",
    "\n",
    "        "
   ]
  },
  {
   "cell_type": "markdown",
   "metadata": {
    "vscode": {
     "languageId": "plaintext"
    }
   },
   "source": [
    "# Lookup table solution\n",
    "\n",
    "* Instead of looking up the index of inorder every time, just store the index value once in a dictionary\n",
    "* We then use only indices to a helper function to determine the preorder and inorder array\n",
    "* To do this, we will always refer to the original index of the original inorder array\n",
    "* We then only need to know the left tree array size, which can be calculated from:\n",
    "  * Location of the root in the inorder array\n",
    "  * Then we just need to offset this by the location of the start of the inorder subarray that was fed into this helper function\n",
    "  * Then the left subtree array size is `root_idx - lefft_start_index`\n",
    "* Then we will recursively call this helper function on itself, by referencing the indices we just determined\n",
    "\n",
    "## Time Complexity\n",
    "* O(2n) because now we only just need to iterate through the array once to build the lookup table, then another pass to build out the tree structure\n",
    "\n",
    "## Space Complexity\n",
    "* O(n) for the hashmap, and O(h) for the recursive call stack matching the height of the tree"
   ]
  },
  {
   "cell_type": "code",
   "execution_count": null,
   "metadata": {},
   "outputs": [],
   "source": [
    "from typing import List, Optional\n",
    "\n",
    "class TreeNode:\n",
    "    def __init__(self, val=0, left=None, right=None):\n",
    "        self.val = val\n",
    "        self.left = left\n",
    "        self.right = right\n",
    "\n",
    "\n",
    "class Solution:\n",
    "    def buildTree(self, preorder: List[int], inorder: List[int]) -> Optional[TreeNode]:\n",
    "        if not preorder:\n",
    "            return None\n",
    "\n",
    "        n = len(preorder)\n",
    "        lookup = {val: idx for idx, val in enumerate(inorder)}\n",
    "        \n",
    "        def buildTreeHelper(p_start, p_end, i_start, i_end):\n",
    "            if p_end < p_start or i_end < i_start:\n",
    "                return None\n",
    "\n",
    "            root = TreeNode(preorder[p_start])\n",
    "            root_idx = lookup[root.val]\n",
    "            left_tree_length = root_idx - i_start\n",
    "        \n",
    "            root.left = buildTreeHelper(\n",
    "                p_start + 1,\n",
    "                p_start + 1 + left_tree_length,\n",
    "                i_start,\n",
    "                root_idx - 1\n",
    "            )\n",
    "            root.right = buildTreeHelper(\n",
    "                p_start + 1 + left_tree_length,\n",
    "                p_end,\n",
    "                root_idx + 1,\n",
    "                i_end,\n",
    "            )\n",
    "            return root\n",
    "        return buildTreeHelper(0, n - 1, 0, n - 1)\n",
    "\n",
    "        "
   ]
  },
  {
   "cell_type": "code",
   "execution_count": null,
   "metadata": {},
   "outputs": [],
   "source": []
  }
 ],
 "metadata": {
  "language_info": {
   "name": "python"
  }
 },
 "nbformat": 4,
 "nbformat_minor": 2
}
