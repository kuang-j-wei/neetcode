{
 "cells": [
  {
   "cell_type": "markdown",
   "metadata": {},
   "source": [
    "# Brute force solution\n",
    "\n",
    "* For a preorder array, the first element is always the root node, and everything that follows is a child node\n",
    "* Then the problem is to determine - what portion of this is the left and what portion is the right\n",
    "* But we can infer this from the inorder array\n",
    "* We know the root of the tree, so we can just traverse through the inorder array to find this value, call it index `m`\n",
    "* Then we know that everything to the left is the left portion, and everything to the right is the right portion\n",
    "* Then we know that the left `preorder` left sub tree is this `preorder` array up to this length, and the `inorder` array is also up to this length\n",
    "* We can then recursively call ourself again to build out a left and right subtrees and link them as the left and right child for the root node\n",
    "* Finally we just return out original root node as the tree node\n",
    "\n",
    "## Time Complexity\n",
    "* O(n^2) because every time we recursively call ourself we have to iterate the length of the input list again\n",
    "\n",
    "## Space Complexity\n",
    "* O(n) for the recursive stacks that can be up to `n`"
   ]
  },
  {
   "cell_type": "code",
   "execution_count": null,
   "metadata": {},
   "outputs": [],
   "source": [
    "from typing import List, Optional\n",
    "\n",
    "class TreeNode:\n",
    "    def __init__(self, val=0, left=None, right=None):\n",
    "        self.val = val\n",
    "        self.left = left\n",
    "        self.right = right\n",
    "\n",
    "\n",
    "class Solution:\n",
    "    def buildTree(self, preorder: List[int], inorder: List[int]) -> Optional[TreeNode]:\n",
    "        if not preorder or not inorder:\n",
    "            return None\n",
    "        \n",
    "        root = TreeNode(preorder[0])\n",
    "        \n",
    "        for m in range(len(preorder)):\n",
    "            if root.val == inorder[m]:\n",
    "                break\n",
    "        \n",
    "        root.left = self.buildTree(preorder[1:m + 1], inorder[:m])\n",
    "        root.right = self.buildTree(preorder[m+1:], inorder[m+1:])\n",
    "        return root\n",
    "\n",
    "        "
   ]
  },
  {
   "cell_type": "markdown",
   "metadata": {
    "vscode": {
     "languageId": "plaintext"
    }
   },
   "source": [
    "# Lookup table solution\n",
    "\n",
    "* Instead of looking up the index of inorder every time, just store the index value once in a dictionary\n",
    "\n",
    "## Time Complexity\n",
    "* O(n) because now we only just need to iterate through the array once\n",
    "\n",
    "## Space Complexity\n",
    "* O(n) for the hashmap"
   ]
  },
  {
   "cell_type": "code",
   "execution_count": null,
   "metadata": {},
   "outputs": [],
   "source": [
    "from typing import List, Optional\n",
    "\n",
    "class TreeNode:\n",
    "    def __init__(self, val=0, left=None, right=None):\n",
    "        self.val = val\n",
    "        self.left = left\n",
    "        self.right = right\n",
    "\n",
    "\n",
    "class Solution:\n",
    "    def buildTree(self, preorder: List[int], inorder: List[int]) -> Optional[TreeNode]:\n",
    "        if not preorder or not inorder:\n",
    "            return None\n",
    "        \n",
    "        # Create a lookup table for inorder values\n",
    "        inorder_lookup = {val: idx for idx, val in enumerate(inorder)}\n",
    "        \n",
    "        def buildTreeHelper(pre_start, pre_end, in_start, in_end):\n",
    "            if pre_start > pre_end or in_start > in_end:\n",
    "                return None\n",
    "            \n",
    "            root = TreeNode(preorder[pre_start])\n",
    "            root_index = inorder_lookup[root.val]\n",
    "            left_subtree_size = root_index - in_start\n",
    "            \n",
    "            root.left = buildTreeHelper(pre_start + 1, pre_start + left_subtree_size,\n",
    "                                        in_start, root_index - 1)\n",
    "            root.right = buildTreeHelper(pre_start + left_subtree_size + 1, pre_end,\n",
    "                                         root_index + 1, in_end)\n",
    "            \n",
    "            return root\n",
    "        \n",
    "        return buildTreeHelper(0, len(preorder) - 1, 0, len(inorder) - 1)\n",
    "\n",
    "        "
   ]
  },
  {
   "cell_type": "code",
   "execution_count": null,
   "metadata": {},
   "outputs": [],
   "source": []
  }
 ],
 "metadata": {
  "language_info": {
   "name": "python"
  }
 },
 "nbformat": 4,
 "nbformat_minor": 2
}
