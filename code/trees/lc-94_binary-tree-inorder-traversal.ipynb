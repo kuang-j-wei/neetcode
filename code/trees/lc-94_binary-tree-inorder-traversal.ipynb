{
 "cells": [
  {
   "cell_type": "markdown",
   "metadata": {},
   "source": [
    "# Solution\n",
    "* Instead of print, we just append the current node value into a running list\n",
    "* Then the rest is the same as usual inorder traversal visitation algorithm\n",
    "\n",
    "## Time Complexity\n",
    "* O(n) because we have to visit every single node\n",
    "\n",
    "## Space Complexity\n",
    "* O(h) for the recursive stack that can be as much as the full height of the tree"
   ]
  },
  {
   "cell_type": "code",
   "execution_count": null,
   "metadata": {},
   "outputs": [],
   "source": [
    "from typing import Optional, List\n",
    "\n",
    "\n",
    "class TreeNode:\n",
    "    def __init__(self, val=0, left=None, right=None):\n",
    "        self.val = val\n",
    "        self.left = left\n",
    "        self.right = right\n",
    "\n",
    "\n",
    "class Solution:\n",
    "    def inorderTraversal(self, root: Optional[TreeNode]) -> List[int]:\n",
    "        if not root:\n",
    "            return []\n",
    "        \n",
    "        traversal_list = []\n",
    "        self.traversalHelper(root.left, traversal_list)\n",
    "        traversal_list.append(root.val)\n",
    "        self.traversalHelper(root.right, traversal_list)\n",
    "        return traversal_list\n",
    "    \n",
    "    def traversalHelper(self, root, traversal_list):\n",
    "        if not root:\n",
    "            return traversal_list\n",
    "        \n",
    "        self.traversalHelper(root.left, traversal_list)\n",
    "        traversal_list.append(root.val)\n",
    "        self.traversalHelper(root.right, traversal_list)\n",
    "        return traversal_list"
   ]
  }
 ],
 "metadata": {
  "language_info": {
   "name": "python"
  }
 },
 "nbformat": 4,
 "nbformat_minor": 2
}
