{
 "cells": [
  {
   "cell_type": "markdown",
   "metadata": {},
   "source": [
    "# Solution\n",
    "* We will use a queue to achieve this\n",
    "* At each level, we will fill a queue\n",
    "* Then we will determine the current length of the queue, which is how many nodes are in this current level, and iterate over all of them\n",
    "* And if the current node has left and right children, we will append them to the queue\n",
    "* \n",
    "* When the queue is completely empty, we know we've traversed over all nodes\n",
    "\n",
    "## Time Complexity\n",
    "* O(n) because we are traversing over all nodes\n",
    "\n",
    "## Space Complexity\n",
    "* O(n)\n",
    "* The queue will be the largest at the last layer. And since the last layer has $\\frac{n+1}{2}$ nodes*, space complexity is $O(n/2)$.\n",
    "\n",
    "\n",
    "*this is because we double number of nodes at every level, so the total $n = 2^0 + 2^1 + 2^2 + ... + 2^h$. This is a geometric series and the total sum is $2^{h+1} - 1$"
   ]
  },
  {
   "cell_type": "code",
   "execution_count": null,
   "metadata": {},
   "outputs": [],
   "source": [
    "# Definition for a binary tree node.\n",
    "from typing import Optional, List\n",
    "from collections import deque\n",
    "\n",
    "\n",
    "class TreeNode:\n",
    "    def __init__(self, val=0, left=None, right=None):\n",
    "        self.val = val\n",
    "        self.left = left\n",
    "        self.right = right\n",
    "\n",
    "\n",
    "class Solution:\n",
    "    def levelOrder(self, root: Optional[TreeNode]) -> List[List[int]]:\n",
    "        queue = deque()\n",
    "        \n",
    "        if root:\n",
    "            queue.append(root)\n",
    "        \n",
    "        history = []\n",
    "\n",
    "        while queue:\n",
    "            current_level = []\n",
    "            for i in range(len(queue)):\n",
    "                curr = queue.popleft()\n",
    "                current_level.append(curr.val)\n",
    "                \n",
    "                if curr.left:\n",
    "                    queue.append(curr.left)\n",
    "                \n",
    "                if curr.right:\n",
    "                    queue.append(curr.right)\n",
    "                \n",
    "            history.append(current_level)\n",
    "        \n",
    "        return history\n"
   ]
  }
 ],
 "metadata": {
  "language_info": {
   "name": "python"
  }
 },
 "nbformat": 4,
 "nbformat_minor": 2
}
