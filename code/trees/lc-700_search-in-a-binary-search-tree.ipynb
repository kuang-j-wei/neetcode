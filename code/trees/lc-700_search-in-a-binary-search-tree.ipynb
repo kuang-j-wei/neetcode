{
 "cells": [
  {
   "cell_type": "markdown",
   "metadata": {},
   "source": [
    "# Recursive Solution\n",
    "* We recursively call the BST function itself and return the value of these recursive calculations\n",
    "* We can terminate it once we have either reached Null (so left node reached), or when the value is found\n",
    "\n",
    "\n",
    "## Time Complexity:\n",
    "* $O(h)$, so $O(\\log{n})$ for best case when the tree is balanced, meaning left and right subtrees always recursively have a difference in height of <= 1. And $O(n)$ in the worse case if the tree is completely imbalanced turning into a linked list\n",
    "## Space Complexity:\n",
    "* $O(log{n})$ for the call stack ($O(n)$ for the worst case)"
   ]
  },
  {
   "cell_type": "code",
   "execution_count": null,
   "metadata": {},
   "outputs": [],
   "source": [
    "from typing import Optional\n",
    "\n",
    "\n",
    "# Definition for a binary tree node.\n",
    "class TreeNode:\n",
    "    def __init__(self, val=0, left=None, right=None):\n",
    "        self.val = val\n",
    "        self.left = left\n",
    "        self.right = right\n",
    "\n",
    "\n",
    "class Solution:\n",
    "    def searchBST(self, root: Optional[TreeNode], val: int) -> Optional[TreeNode]:\n",
    "        # we will use recursion\n",
    "        if root is None:\n",
    "            return None\n",
    "        elif root.val == val:\n",
    "            return root\n",
    "        elif root.val < val:\n",
    "            return self.searchBST(root.right, val)\n",
    "        else:\n",
    "            return self.searchBST(root.left, val)"
   ]
  },
  {
   "cell_type": "markdown",
   "metadata": {},
   "source": [
    "# Iterative Solution\n",
    "* We just update `root` accordingly and only stop either we found the value of reached null\n",
    "\n",
    "## Time Complexity\n",
    "* Still $O(h)$ because we at worst have to go to the deepest leaf node\n",
    "  \n",
    "## Space Complexity\n",
    "* $O(1)$ because no extra space is used"
   ]
  },
  {
   "cell_type": "code",
   "execution_count": null,
   "metadata": {},
   "outputs": [],
   "source": [
    "from typing import Optional\n",
    "\n",
    "\n",
    "# Definition for a binary tree node.\n",
    "class TreeNode:\n",
    "    def __init__(self, val=0, left=None, right=None):\n",
    "        self.val = val\n",
    "        self.left = left\n",
    "        self.right = right\n",
    "\n",
    "\n",
    "class Solution:\n",
    "    def searchBST(self, root: Optional[TreeNode], val: int) -> Optional[TreeNode]:\n",
    "        while root:\n",
    "            if root.val < val:\n",
    "                root = root.right\n",
    "            elif root.val > val:\n",
    "                root = root.left\n",
    "            else:\n",
    "                return root\n",
    "        return root"
   ]
  }
 ],
 "metadata": {
  "language_info": {
   "name": "python"
  }
 },
 "nbformat": 4,
 "nbformat_minor": 2
}
