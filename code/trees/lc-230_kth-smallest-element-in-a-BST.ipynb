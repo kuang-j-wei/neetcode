{
 "cells": [
  {
   "cell_type": "markdown",
   "metadata": {},
   "source": [
    "# Solution\n",
    "* We can use in order traversal to iterate over the tree\n",
    "* Then the first returned result will be the smallest\n",
    "* Then we recursively increase the value\n",
    "* We can then get the kth smallest element by just directly indexing the returned list\n",
    "\n",
    "## Time Complexity\n",
    "* O(n) because we have to go through the entire tree once\n",
    "\n",
    "## Space Complexity\n",
    "* O(n) because we have to now keep an array that's the full length of the tree, which will be larger than O(h) of the recursive stack listed below\n",
    "* ~O(h) because the recursive stack will be the largest at the leaf node which will take up the full height of the tree~"
   ]
  },
  {
   "cell_type": "code",
   "execution_count": null,
   "metadata": {},
   "outputs": [],
   "source": [
    "from typing import Optional\n",
    "\n",
    "\n",
    "class TreeNode:\n",
    "    def __init__(self, val=0, left=None, right=None):\n",
    "        self.val = val\n",
    "        self.left = left\n",
    "        self.right = right\n",
    "\n",
    "\n",
    "class Solution:\n",
    "    def kthSmallest(self, root: Optional[TreeNode], k: int) -> int:\n",
    "        # inorder traverse, and stop once\n",
    "        # k has been printed out\n",
    "\n",
    "        outputs = []\n",
    "        self.inorderTraversal(root, outputs)\n",
    "        return outputs[k - 1].val\n",
    "\n",
    "\n",
    "    def inorderTraversal(self, root, outputs):\n",
    "        if not root:\n",
    "            return outputs\n",
    "        \n",
    "        self.inorderTraversal(root.left, outputs)\n",
    "        outputs.append(root)\n",
    "        self.inorderTraversal(root.right, outputs)\n",
    "        return outputs\n"
   ]
  },
  {
   "cell_type": "markdown",
   "metadata": {},
   "source": [
    "# Iterative Solution\n",
    "* Same process as above except we use an iterative solution\n",
    "* We add `curr` to the running stack, then go to `curr.left`\n",
    "* Once we've reached a `Null`, then we pop from the stack\n",
    "* This also means that we've visited the \"current\" self node so in in-order traversal it's time to visit the right child\n",
    "* So we set `curr = curr.right`\n",
    "* And again if this is pointing to null, we just pop from the stack; otherwise, we add `curr` to the stack and set curr to the left child `curr = curr.left`\n",
    "* We continue to let this loop run until we've both reached `curr is None` and the running stack is completely empty, we know we've traversed the full tree\n",
    "\n",
    "## Time Complexity\n",
    "* Still O(n) because in worst case we have to traverse the whole tree\n",
    "\n",
    "## Space Complexity:\n",
    "* O(h) because at worst we would still only have an active running stack of the tree height\n"
   ]
  },
  {
   "cell_type": "code",
   "execution_count": null,
   "metadata": {},
   "outputs": [],
   "source": [
    "from typing import Optional\n",
    "\n",
    "\n",
    "class TreeNode:\n",
    "    def __init__(self, val=0, left=None, right=None):\n",
    "        self.val = val\n",
    "        self.left = left\n",
    "        self.right = right\n",
    "\n",
    "\n",
    "class Solution:\n",
    "    def kthSmallest(self, root: Optional[TreeNode], k: int) -> int:        \n",
    "        curr = root\n",
    "        stack = []\n",
    "        outputs = []\n",
    "\n",
    "        while curr or stack:\n",
    "            while curr:\n",
    "                stack.append(curr)\n",
    "                curr = curr.left\n",
    "            curr = stack.pop()\n",
    "            outputs.append(curr)\n",
    "            curr = curr.right  # in in-order traversal, once the self value is visited we go to the right\n",
    "        return outputs[k - 1].val\n"
   ]
  }
 ],
 "metadata": {
  "language_info": {
   "name": "python"
  }
 },
 "nbformat": 4,
 "nbformat_minor": 2
}
