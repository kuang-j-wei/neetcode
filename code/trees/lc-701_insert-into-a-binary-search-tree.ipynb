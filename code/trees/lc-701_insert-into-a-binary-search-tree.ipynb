{
 "cells": [
  {
   "cell_type": "markdown",
   "metadata": {},
   "source": [
    "# Recursive Solution\n",
    "* Recursive solution is easier to establish linkage\n",
    "* At the current node, we need to link its left/right node with another subtree\n",
    "* And this subtree needs to have the new value inserted\n",
    "* So we just need to link the left/right node to this sub-problem\n",
    "\n",
    "## Time Complexity\n",
    "* $O(h)$ at worst case because we need to traverse the height of the tree to reach a leaf node to insert\n",
    "## Space Complexity\n",
    "* $O(h)$ at worst case for the amount of recursive call stack we need"
   ]
  },
  {
   "cell_type": "code",
   "execution_count": null,
   "metadata": {},
   "outputs": [],
   "source": [
    "from typing import Optional\n",
    "\n",
    "# Definition for a binary tree node.\n",
    "class TreeNode:\n",
    "    def __init__(self, val=0, left=None, right=None):\n",
    "        self.val = val\n",
    "        self.left = left\n",
    "        self.right = right\n",
    "\n",
    "\n",
    "class Solution:\n",
    "    def insertIntoBST(self, root: Optional[TreeNode], val: int) -> Optional[TreeNode]:\n",
    "        if not root:\n",
    "            return TreeNode(val)\n",
    "\n",
    "        if val > root.val:\n",
    "            root.right = self.insertIntoBST(root.right, val)\n",
    "        else:\n",
    "            root.left = self.insertIntoBST(root.left, val)\n",
    "        return root"
   ]
  },
  {
   "cell_type": "markdown",
   "metadata": {},
   "source": [
    "# Iterative Solution\n",
    "* Again base case is if nothing exists right now just return a new node with the new value\n",
    "* The we iterate until we hit a null node to insert\n",
    "* At the current node, if val is greater, go right\n",
    "* If there already is not a right node, then we just need to insert val into the empty right node, and return the original root\n",
    "* If there is a right node, iterate on this next right sub-tree\n",
    "* And if the value is smaller, we can repeat the same steps but use left\n",
    "\n",
    "## Time Complexity\n",
    "* $O(h)$ at worst case because we need to traverse the height of the tree to reach a leaf node to insert\n",
    "## Space Complexity\n",
    "* $O(1)$ because no additional space used"
   ]
  },
  {
   "cell_type": "code",
   "execution_count": null,
   "metadata": {},
   "outputs": [],
   "source": [
    "from typing import Optional\n",
    "\n",
    "# Definition for a binary tree node.\n",
    "class TreeNode:\n",
    "    def __init__(self, val=0, left=None, right=None):\n",
    "        self.val = val\n",
    "        self.left = left\n",
    "        self.right = right\n",
    "\n",
    "\n",
    "class Solution:\n",
    "    def insertIntoBST(self, root: Optional[TreeNode], val: int) -> Optional[TreeNode]:\n",
    "        if not root:\n",
    "            return TreeNode(val)\n",
    "\n",
    "        curr = root\n",
    "        while curr:\n",
    "            if val > curr.val:\n",
    "                if not curr.right:\n",
    "                    curr.right = TreeNode(val)\n",
    "                    return root\n",
    "                else:\n",
    "                    curr = curr.right\n",
    "            else:\n",
    "                if not curr.left:\n",
    "                    curr.left = TreeNode(val)\n",
    "                    return root\n",
    "                else:\n",
    "                    curr = curr.left"
   ]
  }
 ],
 "metadata": {
  "language_info": {
   "name": "python"
  }
 },
 "nbformat": 4,
 "nbformat_minor": 2
}
