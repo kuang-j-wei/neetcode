{
 "cells": [
  {
   "cell_type": "markdown",
   "metadata": {},
   "source": [
    "# Solution\n",
    "* We first need to find the node, if the node doesn't exist, we can still just safely return the root node\n",
    "* Once the node is found we have two cases: it only has one child or it has two children\n",
    "* If only one child, then this is straight forward - the child will just take the current spot\n",
    "  * The BST property will still hold because every subtree is a valid BST\n",
    "* If it has two children, then we need to\n",
    "  * One, first find the smallest value in the right node's sub-tree\n",
    "  * Then we just replace this current node's value with this minimum value\n",
    "  * This way everything to its right will be greater than this value, and all the existing links to parent and children still hold\n",
    "  * Second step, we go traverse this sub-tree, and delete this node, which we can do so by just calling our current function\n",
    "\n",
    "## Time Complexity\n",
    "* $O(2h)$ because first pass to find the value which could be anywhere from the root to the leaf level, and when matched, we still have to traverse down to the leaf node of this sub-tree to find the minimum, which constitutes the full height $h$. But we need to then traverse down again to delete this minimum value, which can take another $h$.\n",
    "\n",
    "## Space Complexity\n",
    "* $O(h)$ for recursive stack because the number of calls would never exceed the full height of the tree"
   ]
  },
  {
   "cell_type": "code",
   "execution_count": null,
   "metadata": {},
   "outputs": [],
   "source": [
    "from typing import Optional\n",
    "\n",
    "class TreeNode:\n",
    "    def __init__(self, val=0, left=None, right=None):\n",
    "        self.val = val\n",
    "        self.left = left\n",
    "        self.right = right\n",
    "\n",
    "\n",
    "class Solution:\n",
    "    def deleteNode(self, root: Optional[TreeNode], key: int) -> Optional[TreeNode]:\n",
    "        if not root:\n",
    "            return None\n",
    "\n",
    "        if root.val != key:\n",
    "            if key > root.val:\n",
    "                root.right = self.deleteNode(root.right, key)\n",
    "            else:\n",
    "                root.left = self.deleteNode(root.left, key)\n",
    "        else:\n",
    "            if not root.right:\n",
    "                return root.left\n",
    "            elif not root.left:\n",
    "                return root.right\n",
    "            else:\n",
    "                # need to replace with the smallest value\n",
    "                # in the right subtree\n",
    "                min_val = self.findMinVal(root.right)\n",
    "                root.val = min_val\n",
    "                root.right = self.deleteNode(root.right, min_val)\n",
    "        return root\n",
    "    \n",
    "    def findMinVal(self, root):\n",
    "        while root.left:\n",
    "            root = root.left\n",
    "        return root.val"
   ]
  },
  {
   "cell_type": "code",
   "execution_count": null,
   "metadata": {},
   "outputs": [],
   "source": []
  }
 ],
 "metadata": {
  "language_info": {
   "name": "python"
  }
 },
 "nbformat": 4,
 "nbformat_minor": 2
}
