{
 "cells": [
  {
   "cell_type": "code",
   "execution_count": 54,
   "metadata": {},
   "outputs": [],
   "source": [
    "class Node:\n",
    "    def __init__(self, val):\n",
    "        self.val = val\n",
    "        self.next = None\n",
    "        self.prev = None\n",
    "\n",
    "class MyLinkedList:  # doubly\n",
    "    def __init__(self):\n",
    "        self.head = None\n",
    "        self.tail = None\n",
    "        self.len = 0\n",
    "\n",
    "    def get(self, index: int) -> int:\n",
    "        if index > self.len - 1:\n",
    "            return -1\n",
    "    \n",
    "        curr = self.head\n",
    "        for i in range(index):\n",
    "            curr = curr.next\n",
    "        return curr.val\n",
    "\n",
    "    def addAtHead(self, val: int) -> None:\n",
    "        new_node = Node(val)\n",
    "        if self.len == 0:\n",
    "            self.tail = new_node\n",
    "            self.head = new_node\n",
    "        else:\n",
    "            new_node.next = self.head\n",
    "            self.head.prev = new_node\n",
    "            self.head = new_node\n",
    "        self.len += 1\n",
    "\n",
    "    def addAtTail(self, val: int) -> None:\n",
    "        new_node = Node(val)\n",
    "        if self.len == 0:\n",
    "            self.head = new_node\n",
    "            self.tail = new_node\n",
    "        else:\n",
    "            self.tail.next = new_node\n",
    "            new_node.prev = self.tail\n",
    "            self.tail = new_node\n",
    "        self.len += 1\n",
    "        \n",
    "    def addAtIndex(self, index: int, val: int) -> None:\n",
    "        if index > self.len:\n",
    "            return None\n",
    "        elif index == self.len:\n",
    "            self.addAtTail(val)\n",
    "        elif index == 0:\n",
    "            self.addAtHead(val)\n",
    "        else:\n",
    "            new_node = Node(val)\n",
    "            curr = self.head\n",
    "            for i in range(index):\n",
    "                curr = curr.next\n",
    "            curr.prev.next = new_node\n",
    "            new_node.prev = curr.prev\n",
    "            new_node.next = curr\n",
    "            curr.prev = new_node\n",
    "            self.len += 1\n",
    "\n",
    "    def deleteAtIndex(self, index: int) -> None:\n",
    "        if index > self.len - 1:\n",
    "            return None\n",
    "        elif self.len == 1:\n",
    "            self.head = None\n",
    "            self.tail = None\n",
    "        elif index == 0:\n",
    "            self.head = self.head.next\n",
    "            self.head.prev = None\n",
    "        elif index == self.len - 1:\n",
    "            self.tail = self.tail.prev\n",
    "            self.tail.next = None\n",
    "        else:\n",
    "            curr = self.head\n",
    "            for i in range(index):\n",
    "                curr = curr.next\n",
    "            curr.prev.next = curr.next\n",
    "            curr.next.prev = curr.prev\n",
    "        self.len -= 1\n",
    "\n",
    "\n",
    "class MyLinkedList:  # singly\n",
    "    def __init__(self):\n",
    "        self.head = None\n",
    "        self.tail = None\n",
    "        self.len = 0\n",
    "\n",
    "    def get(self, index: int) -> int:\n",
    "        if index > self.len - 1:\n",
    "            return -1\n",
    "    \n",
    "        curr = self.head\n",
    "        for i in range(index):\n",
    "            curr = curr.next\n",
    "        return curr.val\n",
    "\n",
    "    def addAtHead(self, val: int) -> None:\n",
    "        new_node = Node(val)\n",
    "        new_node.next = self.head\n",
    "        if self.len == 0:\n",
    "            self.tail = new_node\n",
    "        self.head = new_node\n",
    "        self.len += 1\n",
    "\n",
    "    def addAtTail(self, val: int) -> None:\n",
    "        new_node = Node(val)\n",
    "        if self.len == 0:\n",
    "            self.head = new_node\n",
    "            self.tail = new_node\n",
    "        else:\n",
    "            self.tail.next = new_node\n",
    "            self.tail = new_node\n",
    "        self.len += 1\n",
    "        \n",
    "    def addAtIndex(self, index: int, val: int) -> None:\n",
    "        if index > self.len:\n",
    "            return None\n",
    "        elif index == self.len:\n",
    "            self.addAtTail(val)\n",
    "        elif index == 0:\n",
    "            self.addAtHead(val)\n",
    "        else:\n",
    "            new_node = Node(val)\n",
    "            curr = self.head\n",
    "            for i in range(index - 1):\n",
    "                curr = curr.next\n",
    "            new_node.next = curr.next\n",
    "            curr.next = new_node\n",
    "            self.len += 1\n",
    "\n",
    "    def deleteAtIndex(self, index: int) -> None:\n",
    "        if index > self.len - 1:\n",
    "            return None\n",
    "        elif self.len == 1:\n",
    "            self.head = None\n",
    "            self.tail = None\n",
    "        elif index == 0:\n",
    "            self.head = self.head.next\n",
    "        else:\n",
    "            curr = self.head\n",
    "            for i in range(index - 1):\n",
    "                curr = curr.next\n",
    "            curr.next = curr.next.next\n",
    "            if index == self.len - 1:\n",
    "                self.tail = curr\n",
    "        self.len -= 1\n"
   ]
  },
  {
   "cell_type": "code",
   "execution_count": 55,
   "metadata": {},
   "outputs": [],
   "source": [
    "l = MyLinkedList()"
   ]
  },
  {
   "cell_type": "code",
   "execution_count": 56,
   "metadata": {},
   "outputs": [],
   "source": [
    "l.addAtHead(7)"
   ]
  },
  {
   "cell_type": "code",
   "execution_count": 57,
   "metadata": {},
   "outputs": [],
   "source": [
    "l.addAtHead(2)"
   ]
  },
  {
   "cell_type": "code",
   "execution_count": 58,
   "metadata": {},
   "outputs": [],
   "source": [
    "l.addAtHead(1)"
   ]
  },
  {
   "cell_type": "code",
   "execution_count": 59,
   "metadata": {},
   "outputs": [
    {
     "name": "stdout",
     "output_type": "stream",
     "text": [
      "1->2->7->\n",
      "length: 3\n",
      "head: 1\n",
      "tail: 7\n"
     ]
    }
   ],
   "source": [
    "print_list(l)"
   ]
  },
  {
   "cell_type": "code",
   "execution_count": 60,
   "metadata": {},
   "outputs": [],
   "source": [
    "l.addAtIndex(3, 0)"
   ]
  },
  {
   "cell_type": "code",
   "execution_count": 61,
   "metadata": {},
   "outputs": [
    {
     "name": "stdout",
     "output_type": "stream",
     "text": [
      "1->2->7->\n",
      "length: 3\n",
      "head: 1\n",
      "tail: 7\n"
     ]
    }
   ],
   "source": [
    "print_list(l)"
   ]
  },
  {
   "cell_type": "code",
   "execution_count": 62,
   "metadata": {},
   "outputs": [],
   "source": [
    "l.deleteAtIndex(2)"
   ]
  },
  {
   "cell_type": "code",
   "execution_count": 63,
   "metadata": {},
   "outputs": [
    {
     "name": "stdout",
     "output_type": "stream",
     "text": [
      "1->2->\n",
      "length: 2\n",
      "head: 1\n",
      "tail: 2\n"
     ]
    }
   ],
   "source": [
    "print_list(l)"
   ]
  },
  {
   "cell_type": "code",
   "execution_count": 64,
   "metadata": {},
   "outputs": [],
   "source": [
    "l.addAtHead(6)"
   ]
  },
  {
   "cell_type": "code",
   "execution_count": 65,
   "metadata": {},
   "outputs": [
    {
     "name": "stdout",
     "output_type": "stream",
     "text": [
      "6->1->2->\n",
      "length: 3\n",
      "head: 6\n",
      "tail: 2\n"
     ]
    }
   ],
   "source": [
    "print_list(l)"
   ]
  },
  {
   "cell_type": "code",
   "execution_count": 66,
   "metadata": {},
   "outputs": [],
   "source": [
    "l.addAtTail(4)"
   ]
  },
  {
   "cell_type": "code",
   "execution_count": 67,
   "metadata": {},
   "outputs": [
    {
     "name": "stdout",
     "output_type": "stream",
     "text": [
      "6->1->2->4->\n",
      "length: 4\n",
      "head: 6\n",
      "tail: 4\n"
     ]
    }
   ],
   "source": [
    "print_list(l)"
   ]
  },
  {
   "cell_type": "code",
   "execution_count": 68,
   "metadata": {},
   "outputs": [
    {
     "data": {
      "text/plain": [
       "-1"
      ]
     },
     "execution_count": 68,
     "metadata": {},
     "output_type": "execute_result"
    }
   ],
   "source": [
    "l.get(4)"
   ]
  },
  {
   "cell_type": "code",
   "execution_count": null,
   "metadata": {},
   "outputs": [],
   "source": [
    "for op, operand in zip([\"MyLinkedList\",\"addAtHead\",\"addAtHead\",\"addAtHead\",\"addAtIndex\",\"deleteAtIndex\",\"addAtHead\",\"addAtTail\",\"get\",\"addAtHead\",\"addAtIndex\",\"addAtHead\"], [\"MyLinkedList\",\"addAtHead\",\"addAtHead\",\"addAtHead\",\"addAtIndex\",\"deleteAtIndex\",\"addAtHead\",\"addAtTail\",\"get\",\"addAtHead\",\"addAtIndex\",\"addAtHead\"])"
   ]
  }
 ],
 "metadata": {
  "kernelspec": {
   "display_name": "Python 3",
   "language": "python",
   "name": "python3"
  },
  "language_info": {
   "codemirror_mode": {
    "name": "ipython",
    "version": 3
   },
   "file_extension": ".py",
   "mimetype": "text/x-python",
   "name": "python",
   "nbconvert_exporter": "python",
   "pygments_lexer": "ipython3",
   "version": "3.10.9"
  }
 },
 "nbformat": 4,
 "nbformat_minor": 2
}
