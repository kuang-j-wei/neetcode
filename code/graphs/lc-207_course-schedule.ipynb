{
 "cells": [
  {
   "cell_type": "markdown",
   "id": "8304ea7c",
   "metadata": {},
   "source": [
    "# Summary\n",
    "\n",
    "Loop through prerequisites, and establish a dictionary where the keys are the first element of each sub-list. And the prerequisites of each course will be the corresponding value which is a list of prerequisite courses.\n",
    "\n",
    "Then we iterate the keys one by one. At each key, we loop through its prereq list. Then for each prereq, we also check its prereqs, and if all its prereqs have been taken, or that it doesn't exist in the requirement hashmap, then mark the original key as take\n",
    "\n",
    "check whether it's been taken. If not, take it (visited) and decrement the numCourses variable by 1.\n",
    "\n",
    "We break out if numCourses has reached 0.\n",
    "\n",
    "At the end if we can successfully loop through everything, then we can return True.\n",
    "\n",
    "\n",
    "## Time Complexity\n",
    "* Building of the hashmap will take $O(E)$ where E is the number of prerequisites (length of the prereqs list)\n",
    "* Then `check_eligibility` will be called maximally by the number of courses that exist, $O(V)$\n",
    "* Each `check_eligibility` can at most then need to loop through all of prereqs again, because each prereq may have its own prereqs \n",
    "\n",
    "So the last two bullet points together will take $O(V+E)$\n",
    "\n",
    "## Space Complexity\n",
    "$O(V + E)$ because `taken`, and `processing` can each be at most $O(V)$. And for `hashmap` it will be $O(E)$ for each prereq\n",
    "\n"
   ]
  },
  {
   "cell_type": "code",
   "execution_count": 20,
   "id": "6bfbf86a",
   "metadata": {},
   "outputs": [],
   "source": [
    "from typing import List\n",
    "\n",
    "\n",
    "class SolutionDebug:\n",
    "    def canFinish(self, numCourses: int, prerequisites: List[List[int]]) -> bool:\n",
    "        hashmap = dict()\n",
    "        taken = set()\n",
    "        processing = set()\n",
    "\n",
    "        for prereq_list in prerequisites:\n",
    "            if prereq_list[0] not in hashmap:\n",
    "                hashmap[prereq_list[0]] = prereq_list[1:]\n",
    "            else:\n",
    "                hashmap[prereq_list[0]].extend(prereq_list[1:])\n",
    "        \n",
    "        print(f\"Hashmap = {hashmap}\")\n",
    "\n",
    "        def check_eligibility(prereqs, numCourses):\n",
    "            for prereq in prereqs:\n",
    "                if numCourses <= 0:\n",
    "                    return False, numCourses\n",
    "                if prereq in taken:\n",
    "                    continue\n",
    "                elif prereq in processing:\n",
    "                    print(f\"{prereq} already in processing={processing}\")\n",
    "                    return False, -1\n",
    "                elif prereq not in hashmap:\n",
    "                    taken.add(prereq)\n",
    "                    numCourses -= 1\n",
    "                elif prereq in hashmap:\n",
    "                    processing.add(prereq)\n",
    "                    print(f\"Processing = {processing} to check eligibility\")\n",
    "                    eligibility, numCourses = check_eligibility(hashmap[prereq], numCourses)\n",
    "                    if not eligibility:\n",
    "                        return False, numCourses\n",
    "                    processing.remove(prereq)\n",
    "            return True, numCourses\n",
    "        \n",
    "        for course, prereqs in hashmap.items():\n",
    "            processing.add(course)\n",
    "            print(f\"Processing = {processing} to check eligibility\")\n",
    "            eligibility, numCourses = check_eligibility(prereqs, numCourses) \n",
    "            if eligibility:\n",
    "                taken.add(course)\n",
    "                numCourses -= 1\n",
    "            else:\n",
    "                return False\n",
    "            processing.remove(course)\n",
    "        return True\n",
    "            \n",
    "                "
   ]
  },
  {
   "cell_type": "code",
   "execution_count": 21,
   "id": "37980456",
   "metadata": {},
   "outputs": [
    {
     "name": "stdout",
     "output_type": "stream",
     "text": [
      "Hashmap = {1: [4], 2: [4], 3: [1, 2]}\n",
      "Processing = {1} to check eligibility\n",
      "Processing = {2} to check eligibility\n",
      "Processing = {3} to check eligibility\n"
     ]
    },
    {
     "data": {
      "text/plain": [
       "True"
      ]
     },
     "execution_count": 21,
     "metadata": {},
     "output_type": "execute_result"
    }
   ],
   "source": [
    "prerequisites = [[1,4],[2,4],[3,1],[3,2]]\n",
    "numCourses = 5\n",
    "\n",
    "s = SolutionDebug()\n",
    "s.canFinish(numCourses, prerequisites)"
   ]
  },
  {
   "cell_type": "code",
   "execution_count": null,
   "id": "c0c7c165",
   "metadata": {},
   "outputs": [],
   "source": []
  }
 ],
 "metadata": {
  "kernelspec": {
   "display_name": "Python 3",
   "language": "python",
   "name": "python3"
  },
  "language_info": {
   "codemirror_mode": {
    "name": "ipython",
    "version": 3
   },
   "file_extension": ".py",
   "mimetype": "text/x-python",
   "name": "python",
   "nbconvert_exporter": "python",
   "pygments_lexer": "ipython3",
   "version": "3.13.2"
  }
 },
 "nbformat": 4,
 "nbformat_minor": 5
}
