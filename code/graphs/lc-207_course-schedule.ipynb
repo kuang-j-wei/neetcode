{
 "cells": [
  {
   "cell_type": "markdown",
   "id": "e01d0ba4",
   "metadata": {},
   "source": [
    "# Summary\n",
    "This problem can be represented as a graph of `numCourse` nodes, and `len(prerequisites)` directed edges. Where the edge will point from 0 to 1 if 1 depends on 0 (0 is a prereq of 1).\n",
    "\n",
    "The core of the problem is just to detect whether a cycle exists in this graph. If a cycle doesn't exist, then we will be able to finish all courses.\n",
    "\n",
    "We do so by creating a separate `visiting` set to keep track of what node we are currently checking prereqs on.\n",
    "\n",
    "We will loop through all all the number of courses, then at each course, we first check if it's already currently being tracked in the `visiting` set. If it's being visited, we have to return False and terminate the entire search.\n",
    "\n",
    "Then we check if this course is already completed or can be completed. This will be accomplished by checking whether its value in the hashmap is en empty list. This means that it has no prereqs anymore and is available to be completed (or already been completed).\n",
    "\n",
    "Otherwise, we have then recursively check the prereqs of this \"prereq\" as well, which makes us re enter the search function again, recursively.\n",
    "\n",
    "Once all the prereqs of the current course has been iterated over, we know that a cycle hasn't been found and therefore this course is successfully visited. We can then remove it from `visiting` set and set its value in the hashmap to be an empty list to signify that it's a course that's been taken.\n",
    "\n",
    "If we are able to iterate through all `numCourse`, then we can return False. But if during which any of the `dfs` function call returns False we immediately will return False in the main loop function.\n",
    "\n",
    "## Time Complexity\n",
    "$O(V + E)$ where $V$ the number of courses will simply be `numCourse` and $E$ the number of edges will be the total number of prerequisites since each prereq is a directed edge. Because in hashmap construction we first loop through each course so $O(V)$ but then we append each prereq each at $O(1)$ so in total we get $O(1 \\times E)$.\n",
    "\n",
    "And in the loop calling `dfs` we have to visit every node (i.e. in the initial hashmap construction we do this twice) and trace through every single edge in order to verify that no cycle exists, which is also $O(V+E)$. It's not just $O(E)$ because if nodes are isolated we still have to check though them each which takes $O(V)$. And it's not $O(V \\times E)$ because not every `dfs` call will take up the entire $O(E)$ times. Once a course is cleared from all prereqs it's set to an empty list. Then the future checks are $O(1)$ time. So in other word, each edge will only be visited once.\n",
    "\n",
    "## Space Complexity\n",
    "$O(V + E)$ for the size of `hashmap` ($V$ keys but also the values can be $E$), $O(V)$ for `visiting`. And the recursive stack can at most grow to the size of courses so $O(V)$ because the deepest stack would be a linear graph. The stack depth is the longest path in a graph without a cycle, which in the extreme case can be the total number of nodes. The total number of edges doesn't affect the stack depth. For example if four nodes all point to a same one node, each of the path will still only have a stack depth of 2.\n",
    "\n",
    "Full transcription of time and space complexity analysis: https://claude.ai/public/artifacts/51bb4028-7924-44ae-a045-57bff8f416d7"
   ]
  },
  {
   "cell_type": "code",
   "execution_count": null,
   "id": "57971f14",
   "metadata": {},
   "outputs": [],
   "source": [
    "from typing import List\n",
    "\n",
    "\n",
    "class Solution:\n",
    "    def canFinish(self, numCourse: int, prerequisites: List[List[int]]) -> bool:\n",
    "        hashmap = dict()\n",
    "        visiting = set()\n",
    "\n",
    "        for course in range(numCourse):\n",
    "            hashmap[course] = []\n",
    "\n",
    "        for prereq in prerequisites:\n",
    "            hashmap[prereq[0]].append(prereq[1])\n",
    "\n",
    "        def dfs(course):\n",
    "            if course in visiting:\n",
    "                return False\n",
    "            if not hashmap[course]:\n",
    "                return True\n",
    "            \n",
    "            visiting.add(course)\n",
    "            for neighbor in hashmap[course]:\n",
    "                if not dfs(neighbor):\n",
    "                    return False\n",
    "            \n",
    "            visiting.remove(course)\n",
    "            hashmap[course] = []\n",
    "\n",
    "            return True\n",
    "\n",
    "        for course in range(numCourse):  # we can't just trigger one and have everything recursively visited because there may be isolated courses; i.e. 1->2 and 3->4\n",
    "            if not dfs(course):\n",
    "                return False\n",
    "        \n",
    "        return True"
   ]
  },
  {
   "cell_type": "markdown",
   "id": "8304ea7c",
   "metadata": {},
   "source": [
    "# Summary\n",
    "\n",
    "Loop through prerequisites, and establish a dictionary where the keys are the first element of each sub-list. And the prerequisites of each course will be the corresponding value which is a list of prerequisite courses.\n",
    "\n",
    "Then we iterate the keys one by one. At each key, we loop through its prereq list. Then for each prereq, we also check its prereqs, and if all its prereqs have been taken, or that it doesn't exist in the requirement hashmap, then mark the original key as take\n",
    "\n",
    "check whether it's been taken. If not, take it (visited) and decrement the numCourses variable by 1.\n",
    "\n",
    "We break out if numCourses has reached 0.\n",
    "\n",
    "At the end if we can successfully loop through everything, then we can return True.\n",
    "\n",
    "\n",
    "## Time Complexity\n",
    "* Building of the hashmap will take $O(E)$ where E is the number of prerequisites (length of the prereqs list)\n",
    "* Then `check_eligibility` will be called maximally by the number of courses that exist, $O(V)$\n",
    "* Each `check_eligibility` can at most then need to loop through all of prereqs again, because each prereq may have its own prereqs \n",
    "\n",
    "So the last two bullet points together will take $O(V+E)$\n",
    "\n",
    "## Space Complexity\n",
    "$O(V + E)$ because `taken`, and `processing` can each be at most $O(V)$. And for `hashmap` it will be $O(E)$ for each prereq\n",
    "\n"
   ]
  },
  {
   "cell_type": "code",
   "execution_count": 20,
   "id": "6bfbf86a",
   "metadata": {},
   "outputs": [],
   "source": [
    "from typing import List\n",
    "\n",
    "\n",
    "class SolutionDebug:\n",
    "    def canFinish(self, numCourses: int, prerequisites: List[List[int]]) -> bool:\n",
    "        hashmap = dict()\n",
    "        taken = set()\n",
    "        processing = set()\n",
    "\n",
    "        for prereq_list in prerequisites:\n",
    "            if prereq_list[0] not in hashmap:\n",
    "                hashmap[prereq_list[0]] = prereq_list[1:]\n",
    "            else:\n",
    "                hashmap[prereq_list[0]].extend(prereq_list[1:])\n",
    "        \n",
    "        print(f\"Hashmap = {hashmap}\")\n",
    "\n",
    "        def check_eligibility(prereqs, numCourses):\n",
    "            for prereq in prereqs:\n",
    "                if numCourses <= 0:\n",
    "                    return False, numCourses\n",
    "                if prereq in taken:\n",
    "                    continue\n",
    "                elif prereq in processing:\n",
    "                    print(f\"{prereq} already in processing={processing}\")\n",
    "                    return False, -1\n",
    "                elif prereq not in hashmap:\n",
    "                    taken.add(prereq)\n",
    "                    numCourses -= 1\n",
    "                elif prereq in hashmap:\n",
    "                    processing.add(prereq)\n",
    "                    print(f\"Processing = {processing} to check eligibility\")\n",
    "                    eligibility, numCourses = check_eligibility(hashmap[prereq], numCourses)\n",
    "                    if not eligibility:\n",
    "                        return False, numCourses\n",
    "                    processing.remove(prereq)\n",
    "            return True, numCourses\n",
    "        \n",
    "        for course, prereqs in hashmap.items():\n",
    "            processing.add(course)\n",
    "            print(f\"Processing = {processing} to check eligibility\")\n",
    "            eligibility, numCourses = check_eligibility(prereqs, numCourses) \n",
    "            if eligibility:\n",
    "                taken.add(course)\n",
    "                numCourses -= 1\n",
    "            else:\n",
    "                return False\n",
    "            processing.remove(course)\n",
    "        return True\n",
    "            \n",
    "                "
   ]
  },
  {
   "cell_type": "code",
   "execution_count": 21,
   "id": "37980456",
   "metadata": {},
   "outputs": [
    {
     "name": "stdout",
     "output_type": "stream",
     "text": [
      "Hashmap = {1: [4], 2: [4], 3: [1, 2]}\n",
      "Processing = {1} to check eligibility\n",
      "Processing = {2} to check eligibility\n",
      "Processing = {3} to check eligibility\n"
     ]
    },
    {
     "data": {
      "text/plain": [
       "True"
      ]
     },
     "execution_count": 21,
     "metadata": {},
     "output_type": "execute_result"
    }
   ],
   "source": [
    "prerequisites = [[1,4],[2,4],[3,1],[3,2]]\n",
    "numCourses = 5\n",
    "\n",
    "s = SolutionDebug()\n",
    "s.canFinish(numCourses, prerequisites)"
   ]
  },
  {
   "cell_type": "markdown",
   "id": "6dc9485d",
   "metadata": {},
   "source": [
    "Add all course to the hashmap, if a key maps to an empty list, we know that its available to take, then we can add it to `visited` and decrement `numCourses` by 1.\n",
    "\n"
   ]
  },
  {
   "cell_type": "code",
   "execution_count": null,
   "id": "c0c7c165",
   "metadata": {},
   "outputs": [],
   "source": []
  }
 ],
 "metadata": {
  "kernelspec": {
   "display_name": "Python 3",
   "language": "python",
   "name": "python3"
  },
  "language_info": {
   "codemirror_mode": {
    "name": "ipython",
    "version": 3
   },
   "file_extension": ".py",
   "mimetype": "text/x-python",
   "name": "python",
   "nbconvert_exporter": "python",
   "pygments_lexer": "ipython3",
   "version": "3.13.2"
  }
 },
 "nbformat": 4,
 "nbformat_minor": 5
}
