{
 "cells": [
  {
   "cell_type": "markdown",
   "id": "d3e2737e",
   "metadata": {},
   "source": [
    "# Solution\n",
    "We iterate over each element in the matrix, and once a \"1\" is encountered we enter a depth first search algorithm, to find all the connected \"1\".\n",
    "\n",
    "The DFS achieves by, defining all the stopping criteria as base cases (encountering \"0\" or going out of bounds), turning every \"1\" encountered into \"0\", and also flipping every visited \"1\" into a \"0\" (so they don't get revisited again).\n",
    "\n",
    "Then we can safely add a 1 to the `islands` counter, and continue to iterate over every element in the matrix.\n",
    "\n",
    "Because through the DFS we already flip all the connected \"1\"s into a 0, so we won't double count and a new island count would only get started when a new isolated \"1\" is encountered.\n",
    "\n",
    "## Time Complexity\n",
    "$O(m \\cdot n)$ because every node can be visited once.\n",
    "\n",
    "## Space Complexity\n",
    "$O(m \\cdot n)$ because the recursive stack can be at most the size of the matrix itself."
   ]
  },
  {
   "cell_type": "code",
   "execution_count": null,
   "id": "ff6488d4",
   "metadata": {},
   "outputs": [],
   "source": [
    "from typing import List\n",
    "\n",
    "\n",
    "class Solution:\n",
    "    def numIslands(self, grid: List[List[str]]) -> int:\n",
    "        rows, cols = len(grid), len(grid[0])\n",
    "        islands = 0\n",
    "\n",
    "        def dfs(r, c):\n",
    "            if (\n",
    "                min(r, c) < 0\n",
    "                or r >= rows\n",
    "                or c >= cols\n",
    "                or grid[r][c] == \"0\"\n",
    "            ):\n",
    "                return None\n",
    "            \n",
    "            grid[r][c] = \"0\"\n",
    "            dfs(r + 1, c)\n",
    "            dfs(r - 1, c)\n",
    "            dfs(r, c + 1)\n",
    "            dfs(r, c - 1)\n",
    "\n",
    "        for r in range(rows):\n",
    "            for c in range(cols):\n",
    "                if grid[r][c] == \"1\":\n",
    "                    dfs(r, c)\n",
    "                    islands += 1\n",
    "\n",
    "        return islands"
   ]
  }
 ],
 "metadata": {
  "language_info": {
   "name": "python"
  }
 },
 "nbformat": 4,
 "nbformat_minor": 5
}
