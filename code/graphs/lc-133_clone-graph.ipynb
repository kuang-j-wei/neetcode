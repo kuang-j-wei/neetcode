{
 "cells": [
  {
   "cell_type": "markdown",
   "id": "f7b3e573",
   "metadata": {},
   "source": [
    "# Summary\n",
    "\n",
    "Given a node, we will have to traverse through its neighbors. Then we have to make sure that each node is correctly connected.\n",
    "\n",
    "We will first create copies of the nodes, then draw the edges.\n",
    "\n",
    "We first start with the root node. A copy will be created, and the original node will be added to a queue.\n",
    "\n",
    "Then we keep going until the queue is empty, with the inner loop as follows:\n",
    "\n",
    "Loop through the popped node's neighbors.\n",
    "\n",
    "If the neighbor doesn't already have a copy, make one, and add it to the queue. Because this means that this is a new node and edges from it will need to be drawn.\n",
    "\n",
    "Then we append the copied neighbor to the copy's neighbors list.\n",
    "\n",
    "As this continues, all nodes will be copied, and edges will all have been drawn.\n",
    "\n",
    "## Time Complexity\n",
    "$O(V + E)$ where $V$ is the number of nodes, and $E$ is the total number of edges. Creating each copy of the node takes $O(V)$, then the neighbor edge adding process takes $O(E)$\n",
    "\n",
    "## Space Complexity\n",
    "$O(V)$ where $V$ is the number of nodes. Because we are creating a `cloned` dictionary that will be the size of original number of nodes. The `queue` also at worst could grow to the size of all number of nodes."
   ]
  },
  {
   "cell_type": "code",
   "execution_count": null,
   "id": "46b72d69",
   "metadata": {},
   "outputs": [],
   "source": [
    "from typing import Optional, List\n",
    "from collections import deque\n",
    "\n",
    "\n",
    "class Node:\n",
    "    def __init__(self, val, neighbors: List=[]):\n",
    "        self.val = val\n",
    "        self.neighbors = neighbors\n",
    "\n",
    "class Solution:\n",
    "    def cloneGraph(self, node: Optional['Node']) -> Optional['Node']:\n",
    "        if not node:\n",
    "            return None\n",
    "        else:\n",
    "            new_root = Node(node.val, [])\n",
    "            cloned = dict()\n",
    "            queue = deque()\n",
    "            cloned[node] = new_root\n",
    "            queue.append(node)\n",
    "\n",
    "            while queue:\n",
    "                curr = queue.popleft()\n",
    "                for neighbor in curr.neighbors:\n",
    "                    if neighbor not in cloned:\n",
    "                        cloned[neighbor] = Node(neighbor.val, [])\n",
    "                        queue.append(neighbor)\n",
    "                    copy = cloned[neighbor]\n",
    "                    cloned[curr].neighbors.append(copy)\n",
    "                \n",
    "            return new_root"
   ]
  },
  {
   "cell_type": "code",
   "execution_count": null,
   "id": "1582061a",
   "metadata": {},
   "outputs": [],
   "source": []
  }
 ],
 "metadata": {
  "language_info": {
   "name": "python"
  }
 },
 "nbformat": 4,
 "nbformat_minor": 5
}
