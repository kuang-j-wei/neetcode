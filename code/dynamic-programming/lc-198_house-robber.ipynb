{
 "cells": [
  {
   "cell_type": "markdown",
   "id": "1cc603ff",
   "metadata": {},
   "source": [
    "# Summary\n",
    "At each element, we have a yes or no decision; and once we make a yes, the next has to be a no\n",
    "\n",
    "Then we can trace out all paths, and the path with the maximum value at the end is the answer\n",
    "\n",
    "This would mean roughly $O(2^n)$ operations.\n",
    "\n",
    "This can be coded up as a recursive call stack.\n",
    "\n",
    "The base cases are when the input array is of length 1 (return itself), or 2 (return whichever is larger, which is an $O(1)$ operation).\n",
    "\n",
    "Then we simply return `max(curr + rob(skip 2), rob(skip 1))`. So then the function will call itself over and over until we reach the case where there's only two elements left.\n",
    "\n",
    "From here we observe that, `rob(skip 2)` and `rob(skip 1)` have a large overlap as we progress, since they are only off-set by 1.\n",
    "\n",
    "So if we can cache `rob(...)` results, then we can save most of the operations, and shave the time complexity down to $O(n)$, in exchange of growing the space complexity to $O(n)$ in order to cache the subproblem results.\n",
    "\n",
    "We can achieve so by building a `subproblem` nested function, and only pass in the indices then reference the original `nums` outside of the nested function. We cache the edge cases, and if edge cases are not encountered, also just enter the subproblem with the start index incremented by 1 (current not added) or by 2 (current is added).\n",
    "\n",
    "## Time Complexity\n",
    "$O(n)$ each `cache` index is calculated exactly once and `start` can go from `0` to `n - 1`\n",
    "\n",
    "## Space Complexity\n",
    "$O(n)$ for `cache` to store `n` entries, and the recursive stack can grow to the height of `n` to cover all indices before the `subproblem` recursive stack start having already cached values and returning the cached values."
   ]
  },
  {
   "cell_type": "code",
   "execution_count": null,
   "id": "2a4e1135",
   "metadata": {},
   "outputs": [],
   "source": [
    "from typing import List\n",
    "\n",
    "\n",
    "class SolutionBruteForce:\n",
    "    def rob(self, nums: List[int]) -> int:\n",
    "        if len(nums) == 1:\n",
    "            return nums[0]\n",
    "\n",
    "        if len(nums) == 2:\n",
    "            return max(nums[0], nums[1])\n",
    "\n",
    "        return max(nums[0] + self.rob(nums[2:]), self.rob(nums[1:]))"
   ]
  },
  {
   "cell_type": "code",
   "execution_count": null,
   "id": "b719717c",
   "metadata": {},
   "outputs": [],
   "source": [
    "from typing import List\n",
    "\n",
    "\n",
    "class Solution:\n",
    "    def rob(self, nums: List[int]) -> int:\n",
    "        cache = {}\n",
    "        end = len(nums) - 1\n",
    "\n",
    "        def subproblem(start):\n",
    "            if start in cache:\n",
    "                return cache[start]\n",
    "            \n",
    "            if (end - start) == 0:\n",
    "                cache[start] = nums[start]\n",
    "            \n",
    "            elif (end - start) == 1:\n",
    "                cache[start] = max(nums[start], nums[end])\n",
    "            \n",
    "            else:\n",
    "                cache[start] = max(\n",
    "                    nums[start] + subproblem(start + 2),\n",
    "                    subproblem(start + 1)\n",
    "                )\n",
    "            return cache[start]\n",
    "\n",
    "        return subproblem(0)"
   ]
  },
  {
   "cell_type": "code",
   "execution_count": null,
   "id": "e593434d",
   "metadata": {},
   "outputs": [],
   "source": [
    "from typing import List\n",
    "\n",
    "\n",
    "class SolutionDebug:\n",
    "    def rob(self, nums: List[int]) -> int:\n",
    "        cache = {}\n",
    "\n",
    "        def subproblem(start, end, cache):\n",
    "            print(f\"Processing subproblem({start}, {end}, {cache})\")\n",
    "            if (start, end) in cache:\n",
    "                print(f\"({start}, {end}) already in {cache}\")\n",
    "                return cache[(start, end)]\n",
    "            \n",
    "            if (end - start) == 0:\n",
    "                print(f\"{start} - {end} == 0\")\n",
    "                cache[(start, end)] = nums[start]\n",
    "            \n",
    "            elif (end - start) == 1:\n",
    "                print(f\"{start} - {end} == 1\")\n",
    "                cache[(start, end)] = max(nums[start], nums[end])\n",
    "            \n",
    "            else:\n",
    "                print(f\"Base case not reached, calculating subproblem({start + 2}, {end}) and subproblem({start + 1}, {end})\")\n",
    "                cache[(start, end)] = max(\n",
    "                    nums[start] + subproblem(start + 2, end, cache),\n",
    "                    subproblem(start + 1, end, cache)\n",
    "                )\n",
    "            print(f\"Returning cache[({start}, {end})] = {cache[(start, end)]}\")\n",
    "            return cache[(start, end)]\n",
    "\n",
    "        return subproblem(0, len(nums) - 1, {})"
   ]
  },
  {
   "cell_type": "code",
   "execution_count": 14,
   "id": "e8948618",
   "metadata": {},
   "outputs": [
    {
     "name": "stdout",
     "output_type": "stream",
     "text": [
      "Processing subproblem(0, 3, {})\n",
      "Base case not reached, calculating subproblem(2, 3) and subproblem(1, 3)\n",
      "Processing subproblem(2, 3, {})\n",
      "2 - 3 == 1\n",
      "Returning cache[(2, 3)] = 3\n",
      "Processing subproblem(1, 3, {(2, 3): 3})\n",
      "Base case not reached, calculating subproblem(3, 3) and subproblem(2, 3)\n",
      "Processing subproblem(3, 3, {(2, 3): 3})\n",
      "3 - 3 == 0\n",
      "Returning cache[(3, 3)] = 1\n",
      "Processing subproblem(2, 3, {(2, 3): 3, (3, 3): 1})\n",
      "(2, 3) already in {(2, 3): 3, (3, 3): 1}\n",
      "Returning cache[(1, 3)] = 3\n",
      "Returning cache[(0, 3)] = 4\n"
     ]
    },
    {
     "data": {
      "text/plain": [
       "4"
      ]
     },
     "execution_count": 14,
     "metadata": {},
     "output_type": "execute_result"
    }
   ],
   "source": [
    "nums = [1,2,3,1]\n",
    "s = Solution()\n",
    "\n",
    "s.rob(nums)"
   ]
  }
 ],
 "metadata": {
  "kernelspec": {
   "display_name": "Python 3",
   "language": "python",
   "name": "python3"
  },
  "language_info": {
   "codemirror_mode": {
    "name": "ipython",
    "version": 3
   },
   "file_extension": ".py",
   "mimetype": "text/x-python",
   "name": "python",
   "nbconvert_exporter": "python",
   "pygments_lexer": "ipython3",
   "version": "3.13.2"
  }
 },
 "nbformat": 4,
 "nbformat_minor": 5
}
