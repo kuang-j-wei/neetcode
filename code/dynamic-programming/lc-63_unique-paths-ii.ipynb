{
 "cells": [
  {
   "cell_type": "markdown",
   "id": "b0fe1691",
   "metadata": {},
   "source": [
    "# Summary\n",
    "This is the same as LC 62\n",
    "\n",
    "We can build form the brute force approach and recursively call each element as the sum of the find_path subproblem of element to the right and element to the left.\n",
    "\n",
    "This would take $O(2^{m + n})$ time complexity and a maximum recursive stack height of $O(m + n)$.\n",
    "\n",
    "Then using memoization we can simplify this down to $O(m + n)$ with a space complexity of $O(m \\cdot n)$ to account for the cache size.\n",
    "\n",
    "Then finally, the bottoms up dynamic programming method lets us start from the lower right.\n",
    "\n",
    "The only tweak is that\n",
    "\n",
    "1. For the last column element, we can't just automatically initialize 1 to it, we need to also check\n",
    "    * Is there an obstacle at this row's last element\n",
    "    * Is previous row's last element actually of path 0, then that means there's no way to go to anywhere from this current row's last column element, so set the path to 0\n",
    "\n",
    "2. When we iterate over columns backwards, we again can't just blindly sum the element to the right and from the previous row. We also have to check if there's an obstacle at this element position\n",
    "\n",
    "## Time Complexity\n",
    "$O(m \\cdot n)$ because we still need to iterate over every single element\n",
    "\n",
    "## Space Complexity\n",
    "$O(n)$ for the two additional arrays that we have to keep track of, the previous row and the current row"
   ]
  },
  {
   "cell_type": "code",
   "execution_count": 24,
   "id": "096f0727",
   "metadata": {},
   "outputs": [],
   "source": [
    "from typing import List\n",
    "\n",
    "\n",
    "class SolutionBruteForce:\n",
    "    def uniquePathsWithObstacles(self, obstacleGrid: List[List[int]]) -> int:\n",
    "        def find_paths(obstacleGrid, r, c):\n",
    "            rows = len(obstacleGrid)\n",
    "            cols = len(obstacleGrid[0])\n",
    "\n",
    "            if r >= rows or c >= cols:\n",
    "                return 0\n",
    "            \n",
    "            if r == (rows - 1) and c == (cols - 1):\n",
    "                return 1\n",
    "            \n",
    "            if obstacleGrid[r][c] == 1:\n",
    "                return 0\n",
    "\n",
    "\n",
    "            return find_paths(obstacleGrid, r + 1, c) + find_paths(obstacleGrid, r, c + 1)\n",
    "        \n",
    "        return find_paths(obstacleGrid, 0, 0)"
   ]
  },
  {
   "cell_type": "code",
   "execution_count": null,
   "id": "29807efb",
   "metadata": {},
   "outputs": [],
   "source": [
    "from typing import List\n",
    "\n",
    "\n",
    "class SolutionMemoization:\n",
    "    def uniquePathsWithObstacles(self, obstacleGrid: List[List[int]]) -> int:\n",
    "        def find_paths(obstacleGrid, r, c, cache):\n",
    "            rows = len(obstacleGrid)\n",
    "            cols = len(obstacleGrid[0])\n",
    "\n",
    "            if (r, c) in cache:\n",
    "                return cache[(r, c)]\n",
    "\n",
    "            if r >= rows or c >= cols:\n",
    "                return 0\n",
    "\n",
    "            if obstacleGrid[r][c] == 1:\n",
    "                return 0\n",
    "                        \n",
    "            if r == (rows - 1) and c == (cols - 1):\n",
    "                return 1\n",
    "            \n",
    "            \n",
    "            cache[(r, c)] = find_paths(obstacleGrid, r + 1, c, cache) + find_paths(obstacleGrid, r, c + 1, cache)\n",
    "            return cache[(r, c)]\n",
    "        \n",
    "        cache = {}\n",
    "        return find_paths(obstacleGrid, 0, 0, cache)"
   ]
  },
  {
   "cell_type": "code",
   "execution_count": 19,
   "id": "0635dcb3",
   "metadata": {},
   "outputs": [],
   "source": [
    "from typing import List\n",
    "\n",
    "\n",
    "class Solution:\n",
    "    def uniquePathsWithObstacles(self, obstacleGrid:List[List[int]]) -> int:\n",
    "        if obstacleGrid[-1][-1] == 1 or obstacleGrid[0][0] == 1:\n",
    "            return 0\n",
    "        \n",
    "        rows = len(obstacleGrid)\n",
    "        cols = len(obstacleGrid[0])\n",
    "        \n",
    "        prevRow = [0] * cols\n",
    "        \n",
    "        for r in range(rows - 1, -1, -1):\n",
    "            currRow = [0] * cols\n",
    "            currRow[-1] = 0 if obstacleGrid[r][-1] == 1 or (prevRow[-1] == 0 and r != rows - 1) else 1\n",
    "            for c in range(cols - 2, -1, -1):\n",
    "                currRow[c] = prevRow[c] + currRow[c + 1] if obstacleGrid[r][c] != 1 else 0\n",
    "            prevRow = currRow\n",
    "        return currRow[0]\n",
    "                \n"
   ]
  },
  {
   "cell_type": "code",
   "execution_count": 20,
   "id": "49bc72af",
   "metadata": {},
   "outputs": [
    {
     "data": {
      "text/plain": [
       "0"
      ]
     },
     "execution_count": 20,
     "metadata": {},
     "output_type": "execute_result"
    }
   ],
   "source": [
    "s = Solution()\n",
    "\n",
    "obstacleGrid = [[0,0],[1,1],[0,0]]\n",
    "\n",
    "s.uniquePathsWithObstacles(obstacleGrid)"
   ]
  },
  {
   "cell_type": "code",
   "execution_count": null,
   "id": "20f141ab",
   "metadata": {},
   "outputs": [],
   "source": []
  }
 ],
 "metadata": {
  "kernelspec": {
   "display_name": "Python 3",
   "language": "python",
   "name": "python3"
  },
  "language_info": {
   "codemirror_mode": {
    "name": "ipython",
    "version": 3
   },
   "file_extension": ".py",
   "mimetype": "text/x-python",
   "name": "python",
   "nbconvert_exporter": "python",
   "pygments_lexer": "ipython3",
   "version": "3.13.2"
  }
 },
 "nbformat": 4,
 "nbformat_minor": 5
}
