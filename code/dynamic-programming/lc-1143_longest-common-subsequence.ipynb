{
 "cells": [
  {
   "cell_type": "markdown",
   "id": "2ad9a73c",
   "metadata": {},
   "source": [
    "# Summary\n",
    "At each character, if it's a match, then the solution is 1 plus a subproblem of the rest of the characters.\n",
    "\n",
    "## Time Complexity\n",
    "$O(m \\cdot n)$ because we have to iterate over an entirety of a 2D matrix that's the same size as the lengths of the two strings multiplied together.\n",
    "\n",
    "## Space Complexity\n",
    "$O(m \\cdot n)$ because we need a 2D matrix to store our intermediary calculations."
   ]
  },
  {
   "cell_type": "code",
   "execution_count": 7,
   "id": "8646f629",
   "metadata": {},
   "outputs": [],
   "source": [
    "class Solution:\n",
    "    def longestCommonSubsequence(self, text1: str, text2: str) -> int:\n",
    "        array = [[0] * (len(text2) + 1) for _ in range(len(text1) + 1)]\n",
    "        \n",
    "        for i in range(len(text1) - 1, -1, -1):\n",
    "            for j in range(len(text2) -1, -1, -1):\n",
    "                if text1[i] == text2[j]:\n",
    "                    array[i][j] = array[i + 1][j + 1] + 1\n",
    "                else:\n",
    "                    array[i][j] = max(array[i + 1][j], array[i][j + 1])\n",
    "        \n",
    "        return array[0][0]"
   ]
  },
  {
   "cell_type": "code",
   "execution_count": null,
   "id": "b6c019da",
   "metadata": {},
   "outputs": [],
   "source": []
  },
  {
   "cell_type": "markdown",
   "id": "4cdc6bcb",
   "metadata": {},
   "source": [
    "# Summary Brute Force\n",
    "\n",
    "We can find all the possible subsequences of a string, then find the overlap that is of the longest length.\n",
    "\n",
    "First is the string itself, then delete one character, then delete any two characters, then delete any three characters, and so on. So the time complexity would be $O(n^2)$"
   ]
  },
  {
   "cell_type": "code",
   "execution_count": 4,
   "id": "c206e2ed",
   "metadata": {},
   "outputs": [],
   "source": [
    "class SolutionBruteForce:\n",
    "    def longestCommonSubsequence(self, text1: str, text2: str) -> int:\n",
    "        def overlap_finder(text1, text2):\n",
    "            short_text = text1 if len(text1) <= len(text2) else text2\n",
    "            long_text = text1 if len(text1) > len(text2) else text2\n",
    "\n",
    "            # then iterate from short text character by character,\n",
    "            # once a match is found, increment counter by 1, and \n",
    "            # move onto the next character, and start counting from\n",
    "            # this index in the long_text\n",
    "            \n",
    "            \n",
    "            idx_long = 0\n",
    "            counter = 0\n",
    "            for c1 in short_text:\n",
    "                for i in range(idx_long, len(long_text)):\n",
    "                    c2 = long_text[i]\n",
    "                    if c1 == c2:\n",
    "                        # print(f\"A match {c1} == {c2} at index {i}\")\n",
    "                        counter += 1\n",
    "                        idx_long = i + 1\n",
    "                        break\n",
    "            return counter\n",
    "\n",
    "        short_text = text1 if len(text1) <= len(text2) else text2\n",
    "        long_text = text1 if len(text1) > len(text2) else text2\n",
    "\n",
    "        counter = 0\n",
    "        for i in range(len(short_text)):\n",
    "            counter = max(counter, overlap_finder(short_text[i:], long_text))\n",
    "        return counter"
   ]
  },
  {
   "cell_type": "code",
   "execution_count": 5,
   "id": "2a29ed5b",
   "metadata": {},
   "outputs": [],
   "source": [
    "text1 = \"mhunuzqrkzsnidwbun\"\n",
    "text2 = \"szulspmhwpazoxijwbq\""
   ]
  },
  {
   "cell_type": "code",
   "execution_count": 6,
   "id": "a49431c8",
   "metadata": {},
   "outputs": [
    {
     "data": {
      "text/plain": [
       "5"
      ]
     },
     "execution_count": 6,
     "metadata": {},
     "output_type": "execute_result"
    }
   ],
   "source": [
    "s = SolutionBruteForce()\n",
    "s.longestCommonSubsequence(text1, text2)"
   ]
  },
  {
   "cell_type": "code",
   "execution_count": 24,
   "id": "7a090500",
   "metadata": {},
   "outputs": [
    {
     "data": {
      "text/plain": [
       "18"
      ]
     },
     "execution_count": 24,
     "metadata": {},
     "output_type": "execute_result"
    }
   ],
   "source": [
    "len(text1)"
   ]
  },
  {
   "cell_type": "code",
   "execution_count": null,
   "id": "045dad5a",
   "metadata": {},
   "outputs": [],
   "source": [
    "# first find out which string is the shorter one\n",
    "# then test if the full thing can fit\n",
    "\n",
    "# if not, move to the next - if we delete one string anywhere, can that fit?\n",
    "\n",
    "# if not, then we delete two characters is that a subsequence\n",
    "\n",
    "# "
   ]
  }
 ],
 "metadata": {
  "kernelspec": {
   "display_name": "Python 3",
   "language": "python",
   "name": "python3"
  },
  "language_info": {
   "codemirror_mode": {
    "name": "ipython",
    "version": 3
   },
   "file_extension": ".py",
   "mimetype": "text/x-python",
   "name": "python",
   "nbconvert_exporter": "python",
   "pygments_lexer": "ipython3",
   "version": "3.13.2"
  }
 },
 "nbformat": 4,
 "nbformat_minor": 5
}
