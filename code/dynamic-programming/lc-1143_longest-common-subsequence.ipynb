{
 "cells": [
  {
   "cell_type": "markdown",
   "id": "2ad9a73c",
   "metadata": {},
   "source": [
    "# Summary\n",
    "At each character, if it's a match, then the solution is 1 plus a subproblem of the rest of the characters.\n",
    "\n",
    "## Time Complexity\n",
    "$O(m \\cdot n)$ because we have to iterate over an entirety of a 2D matrix that's the same size as the lengths of the two strings multiplied together.\n",
    "\n",
    "## Space Complexity\n",
    "$O(m \\cdot n)$ because we need a 2D matrix to store our intermediary calculations."
   ]
  },
  {
   "cell_type": "code",
   "execution_count": 7,
   "id": "8646f629",
   "metadata": {},
   "outputs": [],
   "source": [
    "class Solution:\n",
    "    def longestCommonSubsequence(self, text1: str, text2: str) -> int:\n",
    "        array = [[0] * (len(text2) + 1) for _ in range(len(text1) + 1)]\n",
    "        \n",
    "        for i in range(len(text1) - 1, -1, -1):\n",
    "            for j in range(len(text2) -1, -1, -1):\n",
    "                if text1[i] == text2[j]:\n",
    "                    array[i][j] = array[i + 1][j + 1] + 1\n",
    "                else:\n",
    "                    array[i][j] = max(array[i + 1][j], array[i][j + 1])\n",
    "        \n",
    "        return array[0][0]"
   ]
  },
  {
   "cell_type": "markdown",
   "id": "b6c019da",
   "metadata": {},
   "source": [
    "# Summary - Memoization\n",
    "\n",
    "We can break this problem down as sub-problems.\n",
    "\n",
    "If we are able to find a match to characters, then the answer is 1 + the sub-problem of two substrings starting from the matched character to the ends of the strings.\n",
    "\n",
    "Alternatively, this character from text1 might not need to be in the solution (of the longest subsequence), then the sub problem would be text1 excluding this character to the rest of the strings, with the entirety of all characters from text2\n",
    "\n",
    "We can recursively call the function itself, until we reach the end of text1 or text2, either case could end the recursive stack call and return 0.\n",
    "\n",
    "And along the way, there will be repeated subproblem calls, so we should cache the results along the way to save processing time.\n",
    "\n",
    "For example, let's say text1 has a length of 7 and text2 has a length of 9.\n",
    "\n",
    "Then the subproblem of match from character 4th to 7th and 2nd to 9th could be reached as a repeated subproblem within the call to 2nd to 7th and 3rd to 9th.\n",
    "\n",
    "\n",
    "## Time Complexity\n",
    "$O(m \\cdot n^2)$ because at each character from text1, we may have to run all n possible substrings of text2 as subproblems. So that gets us $O(m \\cdot n)$.\n",
    "\n",
    "But then at each subproblem operation, we search through the entirety of text2 to find a potential character match. This will take another $n$ operation, so the total is $O(m \\cdot n^2)$\n",
    "\n",
    "Note that this is an upper bound, because specifically how many subproblems get explored depend on the specific strings.\n",
    "\n",
    "For example, if the first character in the first string simply doesn't exist in the second string, then we can skip the entirety of all the subproblems of the inclusion case, which knocks out 1 count of $n$ iterations.\n",
    "\n",
    "## Space Complexity\n",
    "\n",
    "$O(m \\cdot n)$ for storing all m times n possible cache.\n",
    "\n",
    "The recursive stack can at most run through the entire length of text1 before hitting the base case to return 0. So the recursive stack call memory complexity is only $O(m)$, which is smaller than $O(m \\cdot n)$"
   ]
  },
  {
   "cell_type": "code",
   "execution_count": null,
   "id": "d6248339",
   "metadata": {},
   "outputs": [],
   "source": [
    "class Solution:\n",
    "    def longestCommonSubsequence(self, text1: str, text2: str) -> int:\n",
    "        cache = {}\n",
    "\n",
    "        def helper(p1, p2):\n",
    "            if p1 >= len(text1) or p2 >= len(text2):\n",
    "                return 0\n",
    "            \n",
    "            if (p1, p2) in cache:\n",
    "                return cache[(p1, p2)]\n",
    "\n",
    "            else:\n",
    "                exclusion_case = helper(p1 + 1, p2)\n",
    "                \n",
    "                match_index = -1\n",
    "                match_char = text1[p1]\n",
    "                for i in range(p2, len(text2)):\n",
    "                    if match_char == text2[i]:\n",
    "                        match_index = i\n",
    "                        break\n",
    "                inclusion_case = 0 if match_index == -1 else 1 + helper(p1 + 1, match_index + 1)\n",
    "                cache[(p1, p2)] = max(\n",
    "                    exclusion_case,\n",
    "                    inclusion_case\n",
    "                )\n",
    "                return cache[(p1, p2)]\n",
    "        return helper(0, 0)"
   ]
  },
  {
   "cell_type": "markdown",
   "id": "e2b46d1e",
   "metadata": {},
   "source": [
    "# Summary - Memoization, Improved\n",
    "\n",
    "We can break this problem down as sub-problems.\n",
    "\n",
    "If the current two characters match, then there's no harm in just including it, because we are scanning from left to right, there is no possible way where we would be \"crossing over\" from right to left in future character matches.\n",
    "\n",
    "Then the remaining subproblem is simply the substrings excluding this matched characters entered back into this common subsequence question.\n",
    "\n",
    "If they don't match, then we only have two choices:\n",
    "\n",
    "1. We either don't include the current character in text1, and search through the remaining text1 with the current text2\n",
    "\n",
    "2. We don't include the current character in text2, and search through the remaining text2 with the current text1\n",
    "\n",
    "We simply compare whichever gives us a bigger answer, and that's the max subsequence length at the current p1 and p2 positions.\n",
    "\n",
    "## Time Complexity\n",
    "$O(m \\cdot n)$ because now at each character in text1, we at most need ot iterate over all characters in text2 and that will complete all subproblems corresponding to this first character in text1. Then we repeat the process for all characters in text1, so the time complexity is $O(m \\cdot n)$. We got rid of the need to search through the second string so saves us from $O(m \\cdot n^2)$.\n",
    "\n",
    "## Space Complexity\n",
    "\n",
    "$O(m \\cdot n)$ for storing all m times n possible cache.\n",
    "\n",
    "The recursive stack can at most run through the entire length of text1 before hitting the base case to return 0. So the recursive stack call memory complexity is only $O(m)$, which is smaller than $O(m \\cdot n)$"
   ]
  },
  {
   "cell_type": "code",
   "execution_count": null,
   "id": "683bf20f",
   "metadata": {},
   "outputs": [],
   "source": [
    "class Solution:\n",
    "    def longestCommonSubsequence(self, text1: str, text2: str) -> int:\n",
    "        cache = {}\n",
    "\n",
    "        def helper(p1, p2):\n",
    "            if p1 >= len(text1) or p2 >= len(text2):\n",
    "                return 0\n",
    "            \n",
    "            if (p1, p2) in cache:\n",
    "                return cache[(p1, p2)]\n",
    "\n",
    "            if text1[p1] == text2[p2]:\n",
    "                cache[(p1, p2)] = 1 + helper(p1 + 1, p2 + 1)\n",
    "            else:\n",
    "                cache[(p1, p2)] = max(\n",
    "                    helper(p1 + 1, p2),\n",
    "                    helper(p1, p2 + 1)\n",
    "                )\n",
    "            return cache[(p1, p2)]\n",
    "        return helper(0, 0)"
   ]
  },
  {
   "cell_type": "markdown",
   "id": "4cdc6bcb",
   "metadata": {},
   "source": [
    "# Summary Brute Force\n",
    "\n",
    "We can find all the possible subsequences of a string, then find the overlap that is of the longest length.\n",
    "\n",
    "First is the string itself, then delete one character, then delete any two characters, then delete any three characters, and so on. So the time complexity would be $O(n^2)$"
   ]
  },
  {
   "cell_type": "code",
   "execution_count": 4,
   "id": "c206e2ed",
   "metadata": {},
   "outputs": [],
   "source": [
    "class SolutionBruteForce:\n",
    "    def longestCommonSubsequence(self, text1: str, text2: str) -> int:\n",
    "        def overlap_finder(text1, text2):\n",
    "            short_text = text1 if len(text1) <= len(text2) else text2\n",
    "            long_text = text1 if len(text1) > len(text2) else text2\n",
    "\n",
    "            # then iterate from short text character by character,\n",
    "            # once a match is found, increment counter by 1, and \n",
    "            # move onto the next character, and start counting from\n",
    "            # this index in the long_text\n",
    "            \n",
    "            \n",
    "            idx_long = 0\n",
    "            counter = 0\n",
    "            for c1 in short_text:\n",
    "                for i in range(idx_long, len(long_text)):\n",
    "                    c2 = long_text[i]\n",
    "                    if c1 == c2:\n",
    "                        # print(f\"A match {c1} == {c2} at index {i}\")\n",
    "                        counter += 1\n",
    "                        idx_long = i + 1\n",
    "                        break\n",
    "            return counter\n",
    "\n",
    "        short_text = text1 if len(text1) <= len(text2) else text2\n",
    "        long_text = text1 if len(text1) > len(text2) else text2\n",
    "\n",
    "        counter = 0\n",
    "        for i in range(len(short_text)):\n",
    "            counter = max(counter, overlap_finder(short_text[i:], long_text))\n",
    "        return counter"
   ]
  },
  {
   "cell_type": "code",
   "execution_count": 5,
   "id": "2a29ed5b",
   "metadata": {},
   "outputs": [],
   "source": [
    "text1 = \"mhunuzqrkzsnidwbun\"\n",
    "text2 = \"szulspmhwpazoxijwbq\""
   ]
  },
  {
   "cell_type": "code",
   "execution_count": 6,
   "id": "a49431c8",
   "metadata": {},
   "outputs": [
    {
     "data": {
      "text/plain": [
       "5"
      ]
     },
     "execution_count": 6,
     "metadata": {},
     "output_type": "execute_result"
    }
   ],
   "source": [
    "s = SolutionBruteForce()\n",
    "s.longestCommonSubsequence(text1, text2)"
   ]
  },
  {
   "cell_type": "code",
   "execution_count": 24,
   "id": "7a090500",
   "metadata": {},
   "outputs": [
    {
     "data": {
      "text/plain": [
       "18"
      ]
     },
     "execution_count": 24,
     "metadata": {},
     "output_type": "execute_result"
    }
   ],
   "source": [
    "len(text1)"
   ]
  },
  {
   "cell_type": "code",
   "execution_count": null,
   "id": "045dad5a",
   "metadata": {},
   "outputs": [],
   "source": [
    "# first find out which string is the shorter one\n",
    "# then test if the full thing can fit\n",
    "\n",
    "# if not, move to the next - if we delete one string anywhere, can that fit?\n",
    "\n",
    "# if not, then we delete two characters is that a subsequence\n",
    "\n",
    "# "
   ]
  }
 ],
 "metadata": {
  "kernelspec": {
   "display_name": "Python 3",
   "language": "python",
   "name": "python3"
  },
  "language_info": {
   "codemirror_mode": {
    "name": "ipython",
    "version": 3
   },
   "file_extension": ".py",
   "mimetype": "text/x-python",
   "name": "python",
   "nbconvert_exporter": "python",
   "pygments_lexer": "ipython3",
   "version": "3.13.2"
  }
 },
 "nbformat": 4,
 "nbformat_minor": 5
}
