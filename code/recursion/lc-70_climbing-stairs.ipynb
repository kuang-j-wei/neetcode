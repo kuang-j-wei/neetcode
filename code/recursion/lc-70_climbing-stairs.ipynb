{
 "cells": [
  {
   "cell_type": "markdown",
   "metadata": {},
   "source": [
    "# Recursion Solution\n",
    "\n",
    "## Complexity\n",
    "* Time: O(2^n) because at each step there are two splits, we double the operation at each split. And we can at most take a depth of n\n",
    "* Space: O(n) because the depth is n, that's also the maximum amount of call stacks that we need"
   ]
  },
  {
   "cell_type": "code",
   "execution_count": 32,
   "metadata": {},
   "outputs": [],
   "source": [
    "class Solution:\n",
    "    def climbStairs(self, n: int) -> int:\n",
    "        if n == 2:\n",
    "            return 2\n",
    "        elif n <= 1:\n",
    "            return 1\n",
    "        return self.climbStairs(n-1) + self.climbStairs(n-2)"
   ]
  },
  {
   "cell_type": "code",
   "execution_count": 33,
   "metadata": {},
   "outputs": [
    {
     "data": {
      "text/plain": [
       "987"
      ]
     },
     "execution_count": 33,
     "metadata": {},
     "output_type": "execute_result"
    }
   ],
   "source": [
    "s = Solution()\n",
    "s.climbStairs(15)"
   ]
  },
  {
   "cell_type": "markdown",
   "metadata": {},
   "source": [
    "# Recursive with Memoization\n",
    "For each n, if we've computed it once, then we directly fetch it from a dictionary\n",
    "\n",
    "## Complexity\n",
    "* Time: Since each n will only be computed once then fetch from memory, we will not need to re-compute at each split thus compute grow at O(n)\n",
    "* Space: O(n) because stack depth is still up to n"
   ]
  },
  {
   "cell_type": "code",
   "execution_count": 34,
   "metadata": {},
   "outputs": [],
   "source": [
    "class Solution:\n",
    "    def climbStairs(self, n: int) -> int:\n",
    "        memo = {2: 2, 1: 1}\n",
    "        return self._climbStairs(n, memo)\n",
    "    \n",
    "    def _climbStairs(self, n, memo):\n",
    "        if n in memo:\n",
    "            return memo[n]\n",
    "        else:\n",
    "            memo[n] = self._climbStairs(n - 1, memo) + self._climbStairs(n - 2, memo)\n",
    "        return memo[n]"
   ]
  },
  {
   "cell_type": "markdown",
   "metadata": {},
   "source": [
    "# Dynamic Programming\n",
    "We will use an array to store the previously computed values\n",
    "\n",
    "We can see that the n-th solution is always just the solution(n-1) plus solution(n-2)\n",
    "\n",
    "So we will pre-allocate an array of size n\n",
    "\n",
    "We first set the first two elements to the values of 1 and 2\n",
    "\n",
    "Then iteratively, we will calculate the next element using the previous two values in that array\n",
    "\n",
    "## Complexity\n",
    "* Time: We have to iterate the full n, so O(n)\n",
    "* Space: O(n) because the array size is n"
   ]
  },
  {
   "cell_type": "code",
   "execution_count": 38,
   "metadata": {},
   "outputs": [],
   "source": [
    "class Solution:\n",
    "    def climbStairs(self, n: int) -> int:\n",
    "        if n == 2:\n",
    "            return 2\n",
    "        elif n <= 1:\n",
    "            return 1\n",
    "        \n",
    "        memo = [0 for _ in range(n)]\n",
    "        memo[0] = 1\n",
    "        memo[1] = 2\n",
    "\n",
    "        for i in range(2, n):\n",
    "            memo[i] = memo[i - 1] + memo[i-2]\n",
    "\n",
    "        return memo[n-1]"
   ]
  },
  {
   "cell_type": "code",
   "execution_count": 39,
   "metadata": {},
   "outputs": [
    {
     "data": {
      "text/plain": [
       "987"
      ]
     },
     "execution_count": 39,
     "metadata": {},
     "output_type": "execute_result"
    }
   ],
   "source": [
    "s = Solution()\n",
    "s.climbStairs(15)"
   ]
  },
  {
   "cell_type": "markdown",
   "metadata": {},
   "source": [
    "# Dynamic Programming with efficient memory\n",
    "Extending from before, we don't actually need to keep a memory of all values, we just have to remember the previous two numbers\n",
    "\n",
    "So instead of an array, we just do keep adding two variables and updating the value of these two variables\n",
    "\n",
    "## Complexity\n",
    "* Time: We have to iterate the full n, so O(n)\n",
    "* Space: O(1) because we are just keeping two variables"
   ]
  },
  {
   "cell_type": "code",
   "execution_count": 42,
   "metadata": {},
   "outputs": [],
   "source": [
    "class Solution:\n",
    "    def climbStairs(self, n: int) -> int:\n",
    "        if n == 2:\n",
    "            return 2\n",
    "        elif n <= 1:\n",
    "            return 1\n",
    "        \n",
    "        prev_step = 2\n",
    "        prev_prev_step = 1\n",
    "\n",
    "        for i in range(2, n):\n",
    "           new = prev_step + prev_prev_step\n",
    "           prev_prev_step = prev_step\n",
    "           prev_step = new\n",
    "        return new"
   ]
  },
  {
   "cell_type": "code",
   "execution_count": 45,
   "metadata": {},
   "outputs": [
    {
     "name": "stdout",
     "output_type": "stream",
     "text": [
      "  1 stairs: 1\n",
      "  2 stairs: 2\n",
      "  3 stairs: 3\n",
      "  4 stairs: 5\n",
      "  5 stairs: 8\n",
      "  6 stairs: 13\n",
      "  7 stairs: 21\n",
      "  8 stairs: 34\n",
      "  9 stairs: 55\n",
      " 10 stairs: 89\n",
      " 11 stairs: 144\n",
      " 12 stairs: 233\n",
      " 13 stairs: 377\n",
      " 14 stairs: 610\n",
      " 15 stairs: 987\n",
      " 16 stairs: 1597\n",
      " 17 stairs: 2584\n",
      " 18 stairs: 4181\n",
      " 19 stairs: 6765\n",
      " 20 stairs: 10946\n",
      " 21 stairs: 17711\n",
      " 22 stairs: 28657\n",
      " 23 stairs: 46368\n",
      " 24 stairs: 75025\n",
      " 25 stairs: 121393\n",
      " 26 stairs: 196418\n",
      " 27 stairs: 317811\n",
      " 28 stairs: 514229\n",
      " 29 stairs: 832040\n"
     ]
    }
   ],
   "source": [
    "s = Solution()\n",
    "for i in range(1, 30):\n",
    "    print(f\"{i:>3} stairs:\", s.climbStairs(i))"
   ]
  }
 ],
 "metadata": {
  "kernelspec": {
   "display_name": "ml_dev",
   "language": "python",
   "name": "python3"
  },
  "language_info": {
   "codemirror_mode": {
    "name": "ipython",
    "version": 3
   },
   "file_extension": ".py",
   "mimetype": "text/x-python",
   "name": "python",
   "nbconvert_exporter": "python",
   "pygments_lexer": "ipython3",
   "version": "3.10.13"
  }
 },
 "nbformat": 4,
 "nbformat_minor": 2
}
